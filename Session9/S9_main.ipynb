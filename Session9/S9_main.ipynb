{
  "nbformat": 4,
  "nbformat_minor": 0,
  "metadata": {
    "kernelspec": {
      "name": "python3",
      "display_name": "Python 3"
    },
    "language_info": {
      "codemirror_mode": {
        "name": "ipython",
        "version": 3
      },
      "file_extension": ".py",
      "mimetype": "text/x-python",
      "name": "python",
      "nbconvert_exporter": "python",
      "pygments_lexer": "ipython3",
      "version": "3.6.6"
    },
    "colab": {
      "name": "S9_main.ipynb",
      "provenance": [],
      "collapsed_sections": [],
      "include_colab_link": true
    },
    "accelerator": "GPU",
    "widgets": {
      "application/vnd.jupyter.widget-state+json": {
        "4a51f7d95c3d49e98fc4a651ad07c08c": {
          "model_module": "@jupyter-widgets/controls",
          "model_name": "HBoxModel",
          "state": {
            "_view_name": "HBoxView",
            "_dom_classes": [],
            "_model_name": "HBoxModel",
            "_view_module": "@jupyter-widgets/controls",
            "_model_module_version": "1.5.0",
            "_view_count": null,
            "_view_module_version": "1.5.0",
            "box_style": "",
            "layout": "IPY_MODEL_8bf32f44fc1241ce909c3e094cd5d63f",
            "_model_module": "@jupyter-widgets/controls",
            "children": [
              "IPY_MODEL_05fb44e800a541a5abc8715f3bfcca57",
              "IPY_MODEL_572476c4efc04d0a8d7c0eb5f082b5f4"
            ]
          }
        },
        "8bf32f44fc1241ce909c3e094cd5d63f": {
          "model_module": "@jupyter-widgets/base",
          "model_name": "LayoutModel",
          "state": {
            "_view_name": "LayoutView",
            "grid_template_rows": null,
            "right": null,
            "justify_content": null,
            "_view_module": "@jupyter-widgets/base",
            "overflow": null,
            "_model_module_version": "1.2.0",
            "_view_count": null,
            "flex_flow": null,
            "width": null,
            "min_width": null,
            "border": null,
            "align_items": null,
            "bottom": null,
            "_model_module": "@jupyter-widgets/base",
            "top": null,
            "grid_column": null,
            "overflow_y": null,
            "overflow_x": null,
            "grid_auto_flow": null,
            "grid_area": null,
            "grid_template_columns": null,
            "flex": null,
            "_model_name": "LayoutModel",
            "justify_items": null,
            "grid_row": null,
            "max_height": null,
            "align_content": null,
            "visibility": null,
            "align_self": null,
            "height": null,
            "min_height": null,
            "padding": null,
            "grid_auto_rows": null,
            "grid_gap": null,
            "max_width": null,
            "order": null,
            "_view_module_version": "1.2.0",
            "grid_template_areas": null,
            "object_position": null,
            "object_fit": null,
            "grid_auto_columns": null,
            "margin": null,
            "display": null,
            "left": null
          }
        },
        "05fb44e800a541a5abc8715f3bfcca57": {
          "model_module": "@jupyter-widgets/controls",
          "model_name": "IntProgressModel",
          "state": {
            "_view_name": "ProgressView",
            "style": "IPY_MODEL_f457eecf53f24cc683c45979d44ce12b",
            "_dom_classes": [],
            "description": "",
            "_model_name": "IntProgressModel",
            "bar_style": "info",
            "max": 1,
            "_view_module": "@jupyter-widgets/controls",
            "_model_module_version": "1.5.0",
            "value": 1,
            "_view_count": null,
            "_view_module_version": "1.5.0",
            "orientation": "horizontal",
            "min": 0,
            "description_tooltip": null,
            "_model_module": "@jupyter-widgets/controls",
            "layout": "IPY_MODEL_0e3b144f2b8547c2abcc8461338e758e"
          }
        },
        "572476c4efc04d0a8d7c0eb5f082b5f4": {
          "model_module": "@jupyter-widgets/controls",
          "model_name": "HTMLModel",
          "state": {
            "_view_name": "HTMLView",
            "style": "IPY_MODEL_5e3cfca2c8ad44508f6b9d8002b4ad69",
            "_dom_classes": [],
            "description": "",
            "_model_name": "HTMLModel",
            "placeholder": "​",
            "_view_module": "@jupyter-widgets/controls",
            "_model_module_version": "1.5.0",
            "value": " 170500096/? [00:30&lt;00:00, 16591515.71it/s]",
            "_view_count": null,
            "_view_module_version": "1.5.0",
            "description_tooltip": null,
            "_model_module": "@jupyter-widgets/controls",
            "layout": "IPY_MODEL_8ba9e64f920748f2816bd69764ee33c4"
          }
        },
        "f457eecf53f24cc683c45979d44ce12b": {
          "model_module": "@jupyter-widgets/controls",
          "model_name": "ProgressStyleModel",
          "state": {
            "_view_name": "StyleView",
            "_model_name": "ProgressStyleModel",
            "description_width": "initial",
            "_view_module": "@jupyter-widgets/base",
            "_model_module_version": "1.5.0",
            "_view_count": null,
            "_view_module_version": "1.2.0",
            "bar_color": null,
            "_model_module": "@jupyter-widgets/controls"
          }
        },
        "0e3b144f2b8547c2abcc8461338e758e": {
          "model_module": "@jupyter-widgets/base",
          "model_name": "LayoutModel",
          "state": {
            "_view_name": "LayoutView",
            "grid_template_rows": null,
            "right": null,
            "justify_content": null,
            "_view_module": "@jupyter-widgets/base",
            "overflow": null,
            "_model_module_version": "1.2.0",
            "_view_count": null,
            "flex_flow": null,
            "width": null,
            "min_width": null,
            "border": null,
            "align_items": null,
            "bottom": null,
            "_model_module": "@jupyter-widgets/base",
            "top": null,
            "grid_column": null,
            "overflow_y": null,
            "overflow_x": null,
            "grid_auto_flow": null,
            "grid_area": null,
            "grid_template_columns": null,
            "flex": null,
            "_model_name": "LayoutModel",
            "justify_items": null,
            "grid_row": null,
            "max_height": null,
            "align_content": null,
            "visibility": null,
            "align_self": null,
            "height": null,
            "min_height": null,
            "padding": null,
            "grid_auto_rows": null,
            "grid_gap": null,
            "max_width": null,
            "order": null,
            "_view_module_version": "1.2.0",
            "grid_template_areas": null,
            "object_position": null,
            "object_fit": null,
            "grid_auto_columns": null,
            "margin": null,
            "display": null,
            "left": null
          }
        },
        "5e3cfca2c8ad44508f6b9d8002b4ad69": {
          "model_module": "@jupyter-widgets/controls",
          "model_name": "DescriptionStyleModel",
          "state": {
            "_view_name": "StyleView",
            "_model_name": "DescriptionStyleModel",
            "description_width": "",
            "_view_module": "@jupyter-widgets/base",
            "_model_module_version": "1.5.0",
            "_view_count": null,
            "_view_module_version": "1.2.0",
            "_model_module": "@jupyter-widgets/controls"
          }
        },
        "8ba9e64f920748f2816bd69764ee33c4": {
          "model_module": "@jupyter-widgets/base",
          "model_name": "LayoutModel",
          "state": {
            "_view_name": "LayoutView",
            "grid_template_rows": null,
            "right": null,
            "justify_content": null,
            "_view_module": "@jupyter-widgets/base",
            "overflow": null,
            "_model_module_version": "1.2.0",
            "_view_count": null,
            "flex_flow": null,
            "width": null,
            "min_width": null,
            "border": null,
            "align_items": null,
            "bottom": null,
            "_model_module": "@jupyter-widgets/base",
            "top": null,
            "grid_column": null,
            "overflow_y": null,
            "overflow_x": null,
            "grid_auto_flow": null,
            "grid_area": null,
            "grid_template_columns": null,
            "flex": null,
            "_model_name": "LayoutModel",
            "justify_items": null,
            "grid_row": null,
            "max_height": null,
            "align_content": null,
            "visibility": null,
            "align_self": null,
            "height": null,
            "min_height": null,
            "padding": null,
            "grid_auto_rows": null,
            "grid_gap": null,
            "max_width": null,
            "order": null,
            "_view_module_version": "1.2.0",
            "grid_template_areas": null,
            "object_position": null,
            "object_fit": null,
            "grid_auto_columns": null,
            "margin": null,
            "display": null,
            "left": null
          }
        }
      }
    }
  },
  "cells": [
    {
      "cell_type": "markdown",
      "metadata": {
        "id": "view-in-github",
        "colab_type": "text"
      },
      "source": [
        "<a href=\"https://colab.research.google.com/github/sudhakarmlal/EVA4/blob/master/Session9/S9_main.ipynb\" target=\"_parent\"><img src=\"https://colab.research.google.com/assets/colab-badge.svg\" alt=\"Open In Colab\"/></a>"
      ]
    },
    {
      "cell_type": "markdown",
      "metadata": {
        "id": "m5v379OF3Gli",
        "colab_type": "text"
      },
      "source": [
        "## Assignment S9\n",
        "In this assignment Resnet architecture is used to train CIPHAR10 dataset and used Data Augmmentation. Developed APIs so as to load data, train, test and show results.\n",
        "\n",
        "Following changes are done:\n",
        "\n",
        "1. Added Data Augmentations (Albumentatons)\n",
        "i. Cutout\n",
        "ii. Horizontal Flip\n",
        "iii. Gaussian Noise\n",
        "iv. Elastic Transform  \n",
        "\n",
        "3. Added L2 regularization\n",
        "\n",
        "Got validation accuracy: 87.25%\n"
      ]
    },
    {
      "cell_type": "code",
      "metadata": {
        "id": "ZuGQKs7W15Ox",
        "colab_type": "code",
        "colab": {}
      },
      "source": [
        "%matplotlib inline\n",
        "import autoreload\n",
        "%load_ext autoreload\n",
        "%autoreload"
      ],
      "execution_count": 0,
      "outputs": []
    },
    {
      "cell_type": "code",
      "metadata": {
        "id": "MDw1Mm4b65Ba",
        "colab_type": "code",
        "outputId": "ed396c66-dfba-4749-aa72-8a7793cb00c2",
        "colab": {
          "base_uri": "https://localhost:8080/",
          "height": 770
        }
      },
      "source": [
        "!pip install -U git+https://github.com/albu/albumentations --no-cache-dir"
      ],
      "execution_count": 0,
      "outputs": [
        {
          "output_type": "stream",
          "text": [
            "Collecting git+https://github.com/albu/albumentations\n",
            "  Cloning https://github.com/albu/albumentations to /tmp/pip-req-build-l2dxogp_\n",
            "  Running command git clone -q https://github.com/albu/albumentations /tmp/pip-req-build-l2dxogp_\n",
            "Requirement already satisfied, skipping upgrade: numpy>=1.11.1 in /usr/local/lib/python3.6/dist-packages (from albumentations==0.4.5) (1.18.2)\n",
            "Requirement already satisfied, skipping upgrade: scipy in /usr/local/lib/python3.6/dist-packages (from albumentations==0.4.5) (1.4.1)\n",
            "Collecting imgaug<0.2.7,>=0.2.5\n",
            "\u001b[?25l  Downloading https://files.pythonhosted.org/packages/ad/2e/748dbb7bb52ec8667098bae9b585f448569ae520031932687761165419a2/imgaug-0.2.6.tar.gz (631kB)\n",
            "\u001b[K     |████████████████████████████████| 634kB 2.8MB/s \n",
            "\u001b[?25hRequirement already satisfied, skipping upgrade: PyYAML in /usr/local/lib/python3.6/dist-packages (from albumentations==0.4.5) (3.13)\n",
            "Requirement already satisfied, skipping upgrade: opencv-python>=4.1.1 in /usr/local/lib/python3.6/dist-packages (from albumentations==0.4.5) (4.1.2.30)\n",
            "Requirement already satisfied, skipping upgrade: scikit-image>=0.11.0 in /usr/local/lib/python3.6/dist-packages (from imgaug<0.2.7,>=0.2.5->albumentations==0.4.5) (0.16.2)\n",
            "Requirement already satisfied, skipping upgrade: six in /usr/local/lib/python3.6/dist-packages (from imgaug<0.2.7,>=0.2.5->albumentations==0.4.5) (1.12.0)\n",
            "Requirement already satisfied, skipping upgrade: networkx>=2.0 in /usr/local/lib/python3.6/dist-packages (from scikit-image>=0.11.0->imgaug<0.2.7,>=0.2.5->albumentations==0.4.5) (2.4)\n",
            "Requirement already satisfied, skipping upgrade: matplotlib!=3.0.0,>=2.0.0 in /usr/local/lib/python3.6/dist-packages (from scikit-image>=0.11.0->imgaug<0.2.7,>=0.2.5->albumentations==0.4.5) (3.2.0)\n",
            "Requirement already satisfied, skipping upgrade: PyWavelets>=0.4.0 in /usr/local/lib/python3.6/dist-packages (from scikit-image>=0.11.0->imgaug<0.2.7,>=0.2.5->albumentations==0.4.5) (1.1.1)\n",
            "Requirement already satisfied, skipping upgrade: pillow>=4.3.0 in /usr/local/lib/python3.6/dist-packages (from scikit-image>=0.11.0->imgaug<0.2.7,>=0.2.5->albumentations==0.4.5) (7.0.0)\n",
            "Requirement already satisfied, skipping upgrade: imageio>=2.3.0 in /usr/local/lib/python3.6/dist-packages (from scikit-image>=0.11.0->imgaug<0.2.7,>=0.2.5->albumentations==0.4.5) (2.4.1)\n",
            "Requirement already satisfied, skipping upgrade: decorator>=4.3.0 in /usr/local/lib/python3.6/dist-packages (from networkx>=2.0->scikit-image>=0.11.0->imgaug<0.2.7,>=0.2.5->albumentations==0.4.5) (4.4.2)\n",
            "Requirement already satisfied, skipping upgrade: pyparsing!=2.0.4,!=2.1.2,!=2.1.6,>=2.0.1 in /usr/local/lib/python3.6/dist-packages (from matplotlib!=3.0.0,>=2.0.0->scikit-image>=0.11.0->imgaug<0.2.7,>=0.2.5->albumentations==0.4.5) (2.4.6)\n",
            "Requirement already satisfied, skipping upgrade: python-dateutil>=2.1 in /usr/local/lib/python3.6/dist-packages (from matplotlib!=3.0.0,>=2.0.0->scikit-image>=0.11.0->imgaug<0.2.7,>=0.2.5->albumentations==0.4.5) (2.8.1)\n",
            "Requirement already satisfied, skipping upgrade: cycler>=0.10 in /usr/local/lib/python3.6/dist-packages (from matplotlib!=3.0.0,>=2.0.0->scikit-image>=0.11.0->imgaug<0.2.7,>=0.2.5->albumentations==0.4.5) (0.10.0)\n",
            "Requirement already satisfied, skipping upgrade: kiwisolver>=1.0.1 in /usr/local/lib/python3.6/dist-packages (from matplotlib!=3.0.0,>=2.0.0->scikit-image>=0.11.0->imgaug<0.2.7,>=0.2.5->albumentations==0.4.5) (1.1.0)\n",
            "Requirement already satisfied, skipping upgrade: setuptools in /usr/local/lib/python3.6/dist-packages (from kiwisolver>=1.0.1->matplotlib!=3.0.0,>=2.0.0->scikit-image>=0.11.0->imgaug<0.2.7,>=0.2.5->albumentations==0.4.5) (46.0.0)\n",
            "Building wheels for collected packages: albumentations, imgaug\n",
            "  Building wheel for albumentations (setup.py) ... \u001b[?25l\u001b[?25hdone\n",
            "  Created wheel for albumentations: filename=albumentations-0.4.5-cp36-none-any.whl size=64514 sha256=6a36faf634c2f0dc1a8f21384a65f1c570e2fcb57020f26df47032a09a2b6dd2\n",
            "  Stored in directory: /tmp/pip-ephem-wheel-cache-pziix32c/wheels/45/8b/e4/2837bbcf517d00732b8e394f8646f22b8723ac00993230188b\n",
            "  Building wheel for imgaug (setup.py) ... \u001b[?25l\u001b[?25hdone\n",
            "  Created wheel for imgaug: filename=imgaug-0.2.6-cp36-none-any.whl size=654020 sha256=4cb057879775751996e0a319b692ba180c91000c18c12ed77c6d251fc0d00494\n",
            "  Stored in directory: /tmp/pip-ephem-wheel-cache-pziix32c/wheels/97/ec/48/0d25896c417b715af6236dbcef8f0bed136a1a5e52972fc6d0\n",
            "Successfully built albumentations imgaug\n",
            "Installing collected packages: imgaug, albumentations\n",
            "  Found existing installation: imgaug 0.2.9\n",
            "    Uninstalling imgaug-0.2.9:\n",
            "      Successfully uninstalled imgaug-0.2.9\n",
            "  Found existing installation: albumentations 0.1.12\n",
            "    Uninstalling albumentations-0.1.12:\n",
            "      Successfully uninstalled albumentations-0.1.12\n",
            "Successfully installed albumentations-0.4.5 imgaug-0.2.6\n"
          ],
          "name": "stdout"
        }
      ]
    },
    {
      "cell_type": "markdown",
      "metadata": {
        "id": "PHxEgr32_4GA",
        "colab_type": "text"
      },
      "source": [
        "## Mount the google drive"
      ]
    },
    {
      "cell_type": "code",
      "metadata": {
        "id": "1svzhJmJHiy2",
        "colab_type": "code",
        "outputId": "a3b197ae-8025-4201-cc3c-82023b3efe51",
        "colab": {
          "base_uri": "https://localhost:8080/",
          "height": 131
        }
      },
      "source": [
        "# Mount the google drive\n",
        "from google.colab import drive\n",
        "drive.mount('/content/drive')"
      ],
      "execution_count": 0,
      "outputs": [
        {
          "output_type": "stream",
          "text": [
            "Go to this URL in a browser: https://accounts.google.com/o/oauth2/auth?client_id=947318989803-6bn6qk8qdgf4n4g3pfee6491hc0brc4i.apps.googleusercontent.com&redirect_uri=urn%3aietf%3awg%3aoauth%3a2.0%3aoob&response_type=code&scope=email%20https%3a%2f%2fwww.googleapis.com%2fauth%2fdocs.test%20https%3a%2f%2fwww.googleapis.com%2fauth%2fdrive%20https%3a%2f%2fwww.googleapis.com%2fauth%2fdrive.photos.readonly%20https%3a%2f%2fwww.googleapis.com%2fauth%2fpeopleapi.readonly\n",
            "\n",
            "Enter your authorization code:\n",
            "··········\n",
            "Mounted at /content/drive\n"
          ],
          "name": "stdout"
        }
      ]
    },
    {
      "cell_type": "markdown",
      "metadata": {
        "id": "3awkU30f_9ON",
        "colab_type": "text"
      },
      "source": [
        "## Copy all the API python files from the google drive to local folder\n",
        "\n",
        "Follwing python files are imported from google drive. Purpsoe of these files are as below:\n",
        "\n",
        "model.py - Defines the model class Net\n",
        "train_test.py- API for training and testing\n",
        "accuracy_utils - API foro getting test accuracy and per class accuracy\n",
        "data_loader.py - API for loading train and test data\n",
        "data_transform.py - API for transforming and normalizing data\n",
        "plot_metrics.py - API for plotting metrics"
      ]
    },
    {
      "cell_type": "code",
      "metadata": {
        "id": "d3CNguMQInXJ",
        "colab_type": "code",
        "colab": {}
      },
      "source": [
        "!cp -rf '/content/drive/My Drive/eva_apis/data_loaders' .\n",
        "!cp -rf '/content/drive/My Drive/eva_apis/data_transformations' .\n",
        "!cp -rf '/content/drive/My Drive/eva_apis/models' .\n",
        "!cp -rf '/content/drive/My Drive/eva_apis/utils' ."
      ],
      "execution_count": 0,
      "outputs": []
    },
    {
      "cell_type": "markdown",
      "metadata": {
        "id": "MIj2IjlxAL19",
        "colab_type": "text"
      },
      "source": [
        "## Import all the libraries"
      ]
    },
    {
      "cell_type": "code",
      "metadata": {
        "id": "z_lhg_WOddeW",
        "colab_type": "code",
        "colab": {}
      },
      "source": [
        "from PIL import Image\n",
        "import cv2\n",
        "import numpy as np\n",
        "import torch\n",
        "import torchvision\n",
        "import torch.nn as nn\n",
        "import torch.nn.functional as F\n",
        "from data_transformations.data_transform_ciphar10_resnet import get_train_transform, get_test_transform\n",
        "from data_loaders.ciphar10_data_loader import get_train_loader, get_test_loader, get_classes\n",
        "from models.resnet18 import ResNet18\n",
        "from utils.train_test_utils import train,test\n",
        "from utils.accuracy_utils import get_test_accuracy,get_accuracy_per_class\n",
        "from utils.plot_metrics_utils import plot_loss_accuracy\n",
        "from utils.misclassified_image_utils import  display_misclassfied_ciphar10_images\n",
        "\n",
        "\n"
      ],
      "execution_count": 0,
      "outputs": []
    },
    {
      "cell_type": "markdown",
      "metadata": {
        "id": "fPogbueepoCh",
        "colab_type": "text"
      },
      "source": [
        "\n",
        "Training a Classifier\n",
        "=====================\n",
        "\n",
        "\n",
        "\n",
        "Training an image classifier\n",
        "----------------------------\n",
        "\n",
        "I have done the following steps in order:\n",
        "\n",
        "1. Load and normalizing the CIFAR10 training and test datasets using\n",
        "   ``torchvision``\n",
        "2. Define a Convolution Neural Network\n",
        "3. Define a loss function\n",
        "4. Train the network on the training data\n",
        "5. Test the network on the test data\n",
        "\n",
        "\n",
        "\n"
      ]
    },
    {
      "cell_type": "markdown",
      "metadata": {
        "id": "5kjt4e2TpoCk",
        "colab_type": "text"
      },
      "source": [
        " ## 1. Loading and normalizing CIFAR10\n",
        "\n",
        " I have used APIs get_train_loader, get_test_loader to load train data and test data respectively. Both the APIs internally uses torchvision. I have used get_transform API to transform tensors in the range [-1,1]\n",
        "\n"
      ]
    },
    {
      "cell_type": "code",
      "metadata": {
        "id": "9xKZ7brRv43Y",
        "colab_type": "code",
        "outputId": "b88e28a9-13b0-4ddd-d8e9-42fdd6f335db",
        "colab": {
          "base_uri": "https://localhost:8080/",
          "height": 105,
          "referenced_widgets": [
            "4a51f7d95c3d49e98fc4a651ad07c08c",
            "8bf32f44fc1241ce909c3e094cd5d63f",
            "05fb44e800a541a5abc8715f3bfcca57",
            "572476c4efc04d0a8d7c0eb5f082b5f4",
            "f457eecf53f24cc683c45979d44ce12b",
            "0e3b144f2b8547c2abcc8461338e758e",
            "5e3cfca2c8ad44508f6b9d8002b4ad69",
            "8ba9e64f920748f2816bd69764ee33c4"
          ]
        }
      },
      "source": [
        "transform_train = get_train_transform()\n",
        "transform_test = get_test_transform()\n",
        "\n",
        "trainloader = get_train_loader(256, transform_train)\n",
        "testloader = get_test_loader(256, transform_test)\n",
        "classes = get_classes()"
      ],
      "execution_count": 0,
      "outputs": [
        {
          "output_type": "stream",
          "text": [
            "Downloading https://www.cs.toronto.edu/~kriz/cifar-10-python.tar.gz to ./data/cifar-10-python.tar.gz\n"
          ],
          "name": "stdout"
        },
        {
          "output_type": "display_data",
          "data": {
            "application/vnd.jupyter.widget-view+json": {
              "model_id": "4a51f7d95c3d49e98fc4a651ad07c08c",
              "version_minor": 0,
              "version_major": 2
            },
            "text/plain": [
              "HBox(children=(IntProgress(value=1, bar_style='info', max=1), HTML(value='')))"
            ]
          },
          "metadata": {
            "tags": []
          }
        },
        {
          "output_type": "stream",
          "text": [
            "Extracting ./data/cifar-10-python.tar.gz to ./data\n",
            "Files already downloaded and verified\n"
          ],
          "name": "stdout"
        }
      ]
    },
    {
      "cell_type": "markdown",
      "metadata": {
        "id": "_cj433rtpoCn",
        "colab_type": "text"
      },
      "source": [
        "## Visualizing some of the images in train dataset\n",
        "\n"
      ]
    },
    {
      "cell_type": "code",
      "metadata": {
        "id": "daA7bADhpoCo",
        "colab_type": "code",
        "outputId": "051fedaa-f9dd-4958-f815-770044a4397c",
        "colab": {
          "base_uri": "https://localhost:8080/",
          "height": 307
        }
      },
      "source": [
        "import matplotlib.pyplot as plt\n",
        "import numpy as np\n",
        "\n",
        "# functions to show an image\n",
        "\n",
        "\n",
        "def imshow(img):\n",
        "    img = img / 2 + 0.5     # unnormalize\n",
        "    npimg = img.numpy()\n",
        "    plt.imshow(np.transpose(npimg, (1, 2, 0)))\n",
        "\n",
        "\n",
        "# get some random training images\n",
        "dataiter = iter(trainloader)\n",
        "images, labels = dataiter.next()\n",
        "\n",
        "# show images\n",
        "imshow(torchvision.utils.make_grid(images))\n",
        "# print labels\n",
        "print(' '.join('%5s' % classes[labels[j]] for j in range(4)))"
      ],
      "execution_count": 0,
      "outputs": [
        {
          "output_type": "stream",
          "text": [
            "Clipping input data to the valid range for imshow with RGB data ([0..1] for floats or [0..255] for integers).\n"
          ],
          "name": "stderr"
        },
        {
          "output_type": "stream",
          "text": [
            " bird   cat horse   car\n"
          ],
          "name": "stdout"
        },
        {
          "output_type": "display_data",
          "data": {
            "image/png": "[encoded data removed]",
            "text/plain": [
              "<Figure size 432x288 with 1 Axes>"
            ]
          },
          "metadata": {
            "tags": []
          }
        }
      ]
    },
    {
      "cell_type": "markdown",
      "metadata": {
        "id": "28OpHA_LpoCq",
        "colab_type": "text"
      },
      "source": [
        "## 2. Define a Convolution Neural Network\n",
        "\n",
        "I have defined the basic ResNet18 model and added dropout to it\n",
        "\n"
      ]
    },
    {
      "cell_type": "code",
      "metadata": {
        "id": "cgAZxHIgtPTd",
        "colab_type": "code",
        "outputId": "9040327a-5773-4f0d-9cd7-4c40b6a307aa",
        "colab": {
          "base_uri": "https://localhost:8080/",
          "height": 1000
        }
      },
      "source": [
        "!pip install torchsummary\n",
        "from torchsummary import summary\n",
        "use_cuda = torch.cuda.is_available()\n",
        "device = torch.device(\"cuda\" if use_cuda else \"cpu\")\n",
        "model =  ResNet18().to(device)\n",
        "summary(model, input_size=(3, 32, 32))"
      ],
      "execution_count": 0,
      "outputs": [
        {
          "output_type": "stream",
          "text": [
            "Requirement already satisfied: torchsummary in /usr/local/lib/python3.6/dist-packages (1.5.1)\n",
            "----------------------------------------------------------------\n",
            "        Layer (type)               Output Shape         Param #\n",
            "================================================================\n",
            "            Conv2d-1           [-1, 64, 32, 32]           1,728\n",
            "       BatchNorm2d-2           [-1, 64, 32, 32]             128\n",
            "            Conv2d-3           [-1, 64, 32, 32]          36,864\n",
            "       BatchNorm2d-4           [-1, 64, 32, 32]             128\n",
            "         Dropout2d-5           [-1, 64, 32, 32]               0\n",
            "            Conv2d-6           [-1, 64, 32, 32]          36,864\n",
            "       BatchNorm2d-7           [-1, 64, 32, 32]             128\n",
            "         Dropout2d-8           [-1, 64, 32, 32]               0\n",
            "        BasicBlock-9           [-1, 64, 32, 32]               0\n",
            "           Conv2d-10           [-1, 64, 32, 32]          36,864\n",
            "      BatchNorm2d-11           [-1, 64, 32, 32]             128\n",
            "        Dropout2d-12           [-1, 64, 32, 32]               0\n",
            "           Conv2d-13           [-1, 64, 32, 32]          36,864\n",
            "      BatchNorm2d-14           [-1, 64, 32, 32]             128\n",
            "        Dropout2d-15           [-1, 64, 32, 32]               0\n",
            "       BasicBlock-16           [-1, 64, 32, 32]               0\n",
            "           Conv2d-17          [-1, 128, 16, 16]          73,728\n",
            "      BatchNorm2d-18          [-1, 128, 16, 16]             256\n",
            "        Dropout2d-19          [-1, 128, 16, 16]               0\n",
            "           Conv2d-20          [-1, 128, 16, 16]         147,456\n",
            "      BatchNorm2d-21          [-1, 128, 16, 16]             256\n",
            "        Dropout2d-22          [-1, 128, 16, 16]               0\n",
            "           Conv2d-23          [-1, 128, 16, 16]           8,192\n",
            "      BatchNorm2d-24          [-1, 128, 16, 16]             256\n",
            "        Dropout2d-25          [-1, 128, 16, 16]               0\n",
            "       BasicBlock-26          [-1, 128, 16, 16]               0\n",
            "           Conv2d-27          [-1, 128, 16, 16]         147,456\n",
            "      BatchNorm2d-28          [-1, 128, 16, 16]             256\n",
            "        Dropout2d-29          [-1, 128, 16, 16]               0\n",
            "           Conv2d-30          [-1, 128, 16, 16]         147,456\n",
            "      BatchNorm2d-31          [-1, 128, 16, 16]             256\n",
            "        Dropout2d-32          [-1, 128, 16, 16]               0\n",
            "       BasicBlock-33          [-1, 128, 16, 16]               0\n",
            "           Conv2d-34            [-1, 256, 8, 8]         294,912\n",
            "      BatchNorm2d-35            [-1, 256, 8, 8]             512\n",
            "        Dropout2d-36            [-1, 256, 8, 8]               0\n",
            "           Conv2d-37            [-1, 256, 8, 8]         589,824\n",
            "      BatchNorm2d-38            [-1, 256, 8, 8]             512\n",
            "        Dropout2d-39            [-1, 256, 8, 8]               0\n",
            "           Conv2d-40            [-1, 256, 8, 8]          32,768\n",
            "      BatchNorm2d-41            [-1, 256, 8, 8]             512\n",
            "        Dropout2d-42            [-1, 256, 8, 8]               0\n",
            "       BasicBlock-43            [-1, 256, 8, 8]               0\n",
            "           Conv2d-44            [-1, 256, 8, 8]         589,824\n",
            "      BatchNorm2d-45            [-1, 256, 8, 8]             512\n",
            "        Dropout2d-46            [-1, 256, 8, 8]               0\n",
            "           Conv2d-47            [-1, 256, 8, 8]         589,824\n",
            "      BatchNorm2d-48            [-1, 256, 8, 8]             512\n",
            "        Dropout2d-49            [-1, 256, 8, 8]               0\n",
            "       BasicBlock-50            [-1, 256, 8, 8]               0\n",
            "           Conv2d-51            [-1, 512, 4, 4]       1,179,648\n",
            "      BatchNorm2d-52            [-1, 512, 4, 4]           1,024\n",
            "        Dropout2d-53            [-1, 512, 4, 4]               0\n",
            "           Conv2d-54            [-1, 512, 4, 4]       2,359,296\n",
            "      BatchNorm2d-55            [-1, 512, 4, 4]           1,024\n",
            "        Dropout2d-56            [-1, 512, 4, 4]               0\n",
            "           Conv2d-57            [-1, 512, 4, 4]         131,072\n",
            "      BatchNorm2d-58            [-1, 512, 4, 4]           1,024\n",
            "        Dropout2d-59            [-1, 512, 4, 4]               0\n",
            "       BasicBlock-60            [-1, 512, 4, 4]               0\n",
            "           Conv2d-61            [-1, 512, 4, 4]       2,359,296\n",
            "      BatchNorm2d-62            [-1, 512, 4, 4]           1,024\n",
            "        Dropout2d-63            [-1, 512, 4, 4]               0\n",
            "           Conv2d-64            [-1, 512, 4, 4]       2,359,296\n",
            "      BatchNorm2d-65            [-1, 512, 4, 4]           1,024\n",
            "        Dropout2d-66            [-1, 512, 4, 4]               0\n",
            "       BasicBlock-67            [-1, 512, 4, 4]               0\n",
            "           Linear-68                   [-1, 10]           5,130\n",
            "================================================================\n",
            "Total params: 11,173,962\n",
            "Trainable params: 11,173,962\n",
            "Non-trainable params: 0\n",
            "----------------------------------------------------------------\n",
            "Input size (MB): 0.01\n",
            "Forward/backward pass size (MB): 15.44\n",
            "Params size (MB): 42.63\n",
            "Estimated Total Size (MB): 58.07\n",
            "----------------------------------------------------------------\n"
          ],
          "name": "stdout"
        },
        {
          "output_type": "stream",
          "text": [
            "/content/models/resnet18.py:67: UserWarning: Implicit dimension choice for log_softmax has been deprecated. Change the call to include dim=X as an argument.\n",
            "  return F.log_softmax(out)\n"
          ],
          "name": "stderr"
        }
      ]
    },
    {
      "cell_type": "markdown",
      "metadata": {
        "id": "Wdw2NNCUpoCu",
        "colab_type": "text"
      },
      "source": [
        "## 3. Define a Loss function and optimizer and train the model\n",
        "\n",
        "I have used Classification Cross-Entropy loss and SGD with learning rate 0.01 with momentum 0.9.\n",
        "\n",
        "## 4. Train the model\n",
        "\n",
        " I have used 100 epochs to train the model"
      ]
    },
    {
      "cell_type": "code",
      "metadata": {
        "id": "ksFv0IkHwHAQ",
        "colab_type": "code",
        "colab": {}
      },
      "source": [
        "from tqdm import tqdm\n",
        "\n",
        "train_losses = []\n",
        "test_losses = []\n",
        "train_acc = []\n",
        "test_acc = []\n",
        "\n"
      ],
      "execution_count": 0,
      "outputs": []
    },
    {
      "cell_type": "code",
      "metadata": {
        "id": "_-JeGhHqwNX5",
        "colab_type": "code",
        "outputId": "b2901643-fe39-41cc-feff-87621166c46a",
        "colab": {
          "base_uri": "https://localhost:8080/",
          "height": 1000
        }
      },
      "source": [
        "from torch.optim.lr_scheduler import StepLR\n",
        "import torch.optim as optim\n",
        "\n",
        "model =  ResNet18().to(device)\n",
        "optimizer = optim.SGD(model.parameters(), lr=0.01, momentum=0.9, weight_decay=0.0001)\n",
        "scheduler = StepLR(optimizer, step_size=25, gamma=0.1)\n",
        "\n",
        "EPOCHS = 100\n",
        "for epoch in range(EPOCHS):\n",
        "    print(\"EPOCH:\", epoch)\n",
        "    train(model, device, trainloader, optimizer, epoch, train_losses,train_acc )\n",
        "    test(model, device, testloader, test_losses, test_acc)\n",
        "    scheduler.step()"
      ],
      "execution_count": 0,
      "outputs": [
        {
          "output_type": "stream",
          "text": [
            "\r  0%|          | 0/196 [00:00<?, ?it/s]"
          ],
          "name": "stderr"
        },
        {
          "output_type": "stream",
          "text": [
            "EPOCH: 0\n"
          ],
          "name": "stdout"
        },
        {
          "output_type": "stream",
          "text": [
            "/content/models/resnet18.py:67: UserWarning: Implicit dimension choice for log_softmax has been deprecated. Change the call to include dim=X as an argument.\n",
            "  return F.log_softmax(out)\n",
            "Loss=1.3323657512664795 Batch_id=195 Accuracy=41.55: 100%|██████████| 196/196 [00:29<00:00,  6.70it/s]\n",
            "  0%|          | 0/196 [00:00<?, ?it/s]"
          ],
          "name": "stderr"
        },
        {
          "output_type": "stream",
          "text": [
            "\n",
            "Test set: Average loss: 1.3566, Accuracy: 5150/10000 (51.50%)\n",
            "\n",
            "EPOCH: 1\n"
          ],
          "name": "stdout"
        },
        {
          "output_type": "stream",
          "text": [
            "Loss=1.0351206064224243 Batch_id=195 Accuracy=58.30: 100%|██████████| 196/196 [00:29<00:00,  6.73it/s]\n",
            "  0%|          | 0/196 [00:00<?, ?it/s]"
          ],
          "name": "stderr"
        },
        {
          "output_type": "stream",
          "text": [
            "\n",
            "Test set: Average loss: 1.0053, Accuracy: 6526/10000 (65.26%)\n",
            "\n",
            "EPOCH: 2\n"
          ],
          "name": "stdout"
        },
        {
          "output_type": "stream",
          "text": [
            "Loss=0.8604294657707214 Batch_id=195 Accuracy=66.42: 100%|██████████| 196/196 [00:29<00:00,  6.71it/s]\n",
            "  0%|          | 0/196 [00:00<?, ?it/s]"
          ],
          "name": "stderr"
        },
        {
          "output_type": "stream",
          "text": [
            "\n",
            "Test set: Average loss: 0.9065, Accuracy: 7083/10000 (70.83%)\n",
            "\n",
            "EPOCH: 3\n"
          ],
          "name": "stdout"
        },
        {
          "output_type": "stream",
          "text": [
            "Loss=0.7134209275245667 Batch_id=195 Accuracy=71.31: 100%|██████████| 196/196 [00:29<00:00,  6.72it/s]\n",
            "  0%|          | 0/196 [00:00<?, ?it/s]"
          ],
          "name": "stderr"
        },
        {
          "output_type": "stream",
          "text": [
            "\n",
            "Test set: Average loss: 0.7740, Accuracy: 7455/10000 (74.55%)\n",
            "\n",
            "EPOCH: 4\n"
          ],
          "name": "stdout"
        },
        {
          "output_type": "stream",
          "text": [
            "Loss=0.8940571546554565 Batch_id=195 Accuracy=74.68: 100%|██████████| 196/196 [00:29<00:00,  6.71it/s]\n",
            "  0%|          | 0/196 [00:00<?, ?it/s]"
          ],
          "name": "stderr"
        },
        {
          "output_type": "stream",
          "text": [
            "\n",
            "Test set: Average loss: 0.7273, Accuracy: 7540/10000 (75.40%)\n",
            "\n",
            "EPOCH: 5\n"
          ],
          "name": "stdout"
        },
        {
          "output_type": "stream",
          "text": [
            "Loss=0.5477256178855896 Batch_id=195 Accuracy=77.32: 100%|██████████| 196/196 [00:29<00:00,  6.72it/s]\n",
            "  0%|          | 0/196 [00:00<?, ?it/s]"
          ],
          "name": "stderr"
        },
        {
          "output_type": "stream",
          "text": [
            "\n",
            "Test set: Average loss: 0.7602, Accuracy: 7589/10000 (75.89%)\n",
            "\n",
            "EPOCH: 6\n"
          ],
          "name": "stdout"
        },
        {
          "output_type": "stream",
          "text": [
            "Loss=0.5773938298225403 Batch_id=195 Accuracy=79.51: 100%|██████████| 196/196 [00:29<00:00,  6.71it/s]\n",
            "  0%|          | 0/196 [00:00<?, ?it/s]"
          ],
          "name": "stderr"
        },
        {
          "output_type": "stream",
          "text": [
            "\n",
            "Test set: Average loss: 0.5946, Accuracy: 8055/10000 (80.55%)\n",
            "\n",
            "EPOCH: 7\n"
          ],
          "name": "stdout"
        },
        {
          "output_type": "stream",
          "text": [
            "Loss=0.8579105138778687 Batch_id=195 Accuracy=80.99: 100%|██████████| 196/196 [00:29<00:00,  6.71it/s]\n",
            "  0%|          | 0/196 [00:00<?, ?it/s]"
          ],
          "name": "stderr"
        },
        {
          "output_type": "stream",
          "text": [
            "\n",
            "Test set: Average loss: 0.7684, Accuracy: 7829/10000 (78.29%)\n",
            "\n",
            "EPOCH: 8\n"
          ],
          "name": "stdout"
        },
        {
          "output_type": "stream",
          "text": [
            "Loss=0.3969593346118927 Batch_id=195 Accuracy=82.47: 100%|██████████| 196/196 [00:29<00:00,  6.74it/s]\n",
            "  0%|          | 0/196 [00:00<?, ?it/s]"
          ],
          "name": "stderr"
        },
        {
          "output_type": "stream",
          "text": [
            "\n",
            "Test set: Average loss: 0.7226, Accuracy: 7861/10000 (78.61%)\n",
            "\n",
            "EPOCH: 9\n"
          ],
          "name": "stdout"
        },
        {
          "output_type": "stream",
          "text": [
            "Loss=0.5452821254730225 Batch_id=195 Accuracy=83.65: 100%|██████████| 196/196 [00:29<00:00,  6.74it/s]\n",
            "  0%|          | 0/196 [00:00<?, ?it/s]"
          ],
          "name": "stderr"
        },
        {
          "output_type": "stream",
          "text": [
            "\n",
            "Test set: Average loss: 0.7416, Accuracy: 8049/10000 (80.49%)\n",
            "\n",
            "EPOCH: 10\n"
          ],
          "name": "stdout"
        },
        {
          "output_type": "stream",
          "text": [
            "Loss=0.498792827129364 Batch_id=195 Accuracy=84.34: 100%|██████████| 196/196 [00:29<00:00,  6.70it/s]\n",
            "  0%|          | 0/196 [00:00<?, ?it/s]"
          ],
          "name": "stderr"
        },
        {
          "output_type": "stream",
          "text": [
            "\n",
            "Test set: Average loss: 0.6276, Accuracy: 8066/10000 (80.66%)\n",
            "\n",
            "EPOCH: 11\n"
          ],
          "name": "stdout"
        },
        {
          "output_type": "stream",
          "text": [
            "Loss=0.44105425477027893 Batch_id=195 Accuracy=85.17: 100%|██████████| 196/196 [00:29<00:00,  6.73it/s]\n",
            "  0%|          | 0/196 [00:00<?, ?it/s]"
          ],
          "name": "stderr"
        },
        {
          "output_type": "stream",
          "text": [
            "\n",
            "Test set: Average loss: 0.6500, Accuracy: 8130/10000 (81.30%)\n",
            "\n",
            "EPOCH: 12\n"
          ],
          "name": "stdout"
        },
        {
          "output_type": "stream",
          "text": [
            "Loss=0.43116456270217896 Batch_id=195 Accuracy=85.50: 100%|██████████| 196/196 [00:29<00:00,  6.74it/s]\n",
            "  0%|          | 0/196 [00:00<?, ?it/s]"
          ],
          "name": "stderr"
        },
        {
          "output_type": "stream",
          "text": [
            "\n",
            "Test set: Average loss: 0.5691, Accuracy: 8290/10000 (82.90%)\n",
            "\n",
            "EPOCH: 13\n"
          ],
          "name": "stdout"
        },
        {
          "output_type": "stream",
          "text": [
            "Loss=0.422929584980011 Batch_id=195 Accuracy=86.20: 100%|██████████| 196/196 [00:29<00:00,  6.73it/s]\n",
            "  0%|          | 0/196 [00:00<?, ?it/s]"
          ],
          "name": "stderr"
        },
        {
          "output_type": "stream",
          "text": [
            "\n",
            "Test set: Average loss: 0.6373, Accuracy: 8216/10000 (82.16%)\n",
            "\n",
            "EPOCH: 14\n"
          ],
          "name": "stdout"
        },
        {
          "output_type": "stream",
          "text": [
            "Loss=0.29739436507225037 Batch_id=195 Accuracy=86.09: 100%|██████████| 196/196 [00:29<00:00,  6.73it/s]\n",
            "  0%|          | 0/196 [00:00<?, ?it/s]"
          ],
          "name": "stderr"
        },
        {
          "output_type": "stream",
          "text": [
            "\n",
            "Test set: Average loss: 0.6955, Accuracy: 8127/10000 (81.27%)\n",
            "\n",
            "EPOCH: 15\n"
          ],
          "name": "stdout"
        },
        {
          "output_type": "stream",
          "text": [
            "Loss=0.39879360795021057 Batch_id=195 Accuracy=86.78: 100%|██████████| 196/196 [00:29<00:00,  6.74it/s]\n",
            "  0%|          | 0/196 [00:00<?, ?it/s]"
          ],
          "name": "stderr"
        },
        {
          "output_type": "stream",
          "text": [
            "\n",
            "Test set: Average loss: 0.6465, Accuracy: 8290/10000 (82.90%)\n",
            "\n",
            "EPOCH: 16\n"
          ],
          "name": "stdout"
        },
        {
          "output_type": "stream",
          "text": [
            "Loss=0.5470293760299683 Batch_id=195 Accuracy=86.49: 100%|██████████| 196/196 [00:29<00:00,  6.73it/s]\n",
            "  0%|          | 0/196 [00:00<?, ?it/s]"
          ],
          "name": "stderr"
        },
        {
          "output_type": "stream",
          "text": [
            "\n",
            "Test set: Average loss: 0.7225, Accuracy: 8086/10000 (80.86%)\n",
            "\n",
            "EPOCH: 17\n"
          ],
          "name": "stdout"
        },
        {
          "output_type": "stream",
          "text": [
            "Loss=0.49153628945350647 Batch_id=195 Accuracy=87.32: 100%|██████████| 196/196 [00:29<00:00,  6.75it/s]\n",
            "  0%|          | 0/196 [00:00<?, ?it/s]"
          ],
          "name": "stderr"
        },
        {
          "output_type": "stream",
          "text": [
            "\n",
            "Test set: Average loss: 0.6460, Accuracy: 8294/10000 (82.94%)\n",
            "\n",
            "EPOCH: 18\n"
          ],
          "name": "stdout"
        },
        {
          "output_type": "stream",
          "text": [
            "Loss=0.2976051867008209 Batch_id=195 Accuracy=87.17: 100%|██████████| 196/196 [00:29<00:00,  6.73it/s]\n",
            "  0%|          | 0/196 [00:00<?, ?it/s]"
          ],
          "name": "stderr"
        },
        {
          "output_type": "stream",
          "text": [
            "\n",
            "Test set: Average loss: 0.6845, Accuracy: 8343/10000 (83.43%)\n",
            "\n",
            "EPOCH: 19\n"
          ],
          "name": "stdout"
        },
        {
          "output_type": "stream",
          "text": [
            "Loss=0.26926150918006897 Batch_id=195 Accuracy=87.17: 100%|██████████| 196/196 [00:29<00:00,  6.75it/s]\n",
            "  0%|          | 0/196 [00:00<?, ?it/s]"
          ],
          "name": "stderr"
        },
        {
          "output_type": "stream",
          "text": [
            "\n",
            "Test set: Average loss: 0.7168, Accuracy: 8208/10000 (82.08%)\n",
            "\n",
            "EPOCH: 20\n"
          ],
          "name": "stdout"
        },
        {
          "output_type": "stream",
          "text": [
            "Loss=0.5545051693916321 Batch_id=195 Accuracy=87.62: 100%|██████████| 196/196 [00:29<00:00,  6.73it/s]\n",
            "  0%|          | 0/196 [00:00<?, ?it/s]"
          ],
          "name": "stderr"
        },
        {
          "output_type": "stream",
          "text": [
            "\n",
            "Test set: Average loss: 0.7031, Accuracy: 8307/10000 (83.07%)\n",
            "\n",
            "EPOCH: 21\n"
          ],
          "name": "stdout"
        },
        {
          "output_type": "stream",
          "text": [
            "Loss=0.2511970102787018 Batch_id=195 Accuracy=87.37: 100%|██████████| 196/196 [00:29<00:00,  6.70it/s]\n",
            "  0%|          | 0/196 [00:00<?, ?it/s]"
          ],
          "name": "stderr"
        },
        {
          "output_type": "stream",
          "text": [
            "\n",
            "Test set: Average loss: 0.6827, Accuracy: 8318/10000 (83.18%)\n",
            "\n",
            "EPOCH: 22\n"
          ],
          "name": "stdout"
        },
        {
          "output_type": "stream",
          "text": [
            "Loss=0.2569773197174072 Batch_id=195 Accuracy=87.52: 100%|██████████| 196/196 [00:29<00:00,  6.71it/s]\n",
            "  0%|          | 0/196 [00:00<?, ?it/s]"
          ],
          "name": "stderr"
        },
        {
          "output_type": "stream",
          "text": [
            "\n",
            "Test set: Average loss: 0.6453, Accuracy: 8312/10000 (83.12%)\n",
            "\n",
            "EPOCH: 23\n"
          ],
          "name": "stdout"
        },
        {
          "output_type": "stream",
          "text": [
            "Loss=0.3409900367259979 Batch_id=195 Accuracy=87.71: 100%|██████████| 196/196 [00:29<00:00,  6.73it/s]\n",
            "  0%|          | 0/196 [00:00<?, ?it/s]"
          ],
          "name": "stderr"
        },
        {
          "output_type": "stream",
          "text": [
            "\n",
            "Test set: Average loss: 0.6233, Accuracy: 8391/10000 (83.91%)\n",
            "\n",
            "EPOCH: 24\n"
          ],
          "name": "stdout"
        },
        {
          "output_type": "stream",
          "text": [
            "Loss=0.5218989849090576 Batch_id=195 Accuracy=87.83: 100%|██████████| 196/196 [00:29<00:00,  6.68it/s]\n",
            "  0%|          | 0/196 [00:00<?, ?it/s]"
          ],
          "name": "stderr"
        },
        {
          "output_type": "stream",
          "text": [
            "\n",
            "Test set: Average loss: 0.6164, Accuracy: 8351/10000 (83.51%)\n",
            "\n",
            "EPOCH: 25\n"
          ],
          "name": "stdout"
        },
        {
          "output_type": "stream",
          "text": [
            "Loss=0.2986830770969391 Batch_id=195 Accuracy=88.72: 100%|██████████| 196/196 [00:29<00:00,  6.70it/s]\n",
            "  0%|          | 0/196 [00:00<?, ?it/s]"
          ],
          "name": "stderr"
        },
        {
          "output_type": "stream",
          "text": [
            "\n",
            "Test set: Average loss: 0.5106, Accuracy: 8644/10000 (86.44%)\n",
            "\n",
            "EPOCH: 26\n"
          ],
          "name": "stdout"
        },
        {
          "output_type": "stream",
          "text": [
            "Loss=0.3233480751514435 Batch_id=195 Accuracy=89.16: 100%|██████████| 196/196 [00:28<00:00,  6.77it/s]\n",
            "  0%|          | 0/196 [00:00<?, ?it/s]"
          ],
          "name": "stderr"
        },
        {
          "output_type": "stream",
          "text": [
            "\n",
            "Test set: Average loss: 0.5073, Accuracy: 8644/10000 (86.44%)\n",
            "\n",
            "EPOCH: 27\n"
          ],
          "name": "stdout"
        },
        {
          "output_type": "stream",
          "text": [
            "Loss=0.17116203904151917 Batch_id=195 Accuracy=89.19: 100%|██████████| 196/196 [00:29<00:00,  6.73it/s]\n",
            "  0%|          | 0/196 [00:00<?, ?it/s]"
          ],
          "name": "stderr"
        },
        {
          "output_type": "stream",
          "text": [
            "\n",
            "Test set: Average loss: 0.5044, Accuracy: 8667/10000 (86.67%)\n",
            "\n",
            "EPOCH: 28\n"
          ],
          "name": "stdout"
        },
        {
          "output_type": "stream",
          "text": [
            "Loss=0.299098938703537 Batch_id=195 Accuracy=89.15: 100%|██████████| 196/196 [00:29<00:00,  6.73it/s]\n",
            "  0%|          | 0/196 [00:00<?, ?it/s]"
          ],
          "name": "stderr"
        },
        {
          "output_type": "stream",
          "text": [
            "\n",
            "Test set: Average loss: 0.5012, Accuracy: 8670/10000 (86.70%)\n",
            "\n",
            "EPOCH: 29\n"
          ],
          "name": "stdout"
        },
        {
          "output_type": "stream",
          "text": [
            "Loss=0.5767682790756226 Batch_id=195 Accuracy=89.48: 100%|██████████| 196/196 [00:29<00:00,  6.75it/s]\n",
            "  0%|          | 0/196 [00:00<?, ?it/s]"
          ],
          "name": "stderr"
        },
        {
          "output_type": "stream",
          "text": [
            "\n",
            "Test set: Average loss: 0.4979, Accuracy: 8690/10000 (86.90%)\n",
            "\n",
            "EPOCH: 30\n"
          ],
          "name": "stdout"
        },
        {
          "output_type": "stream",
          "text": [
            "Loss=0.23490819334983826 Batch_id=195 Accuracy=89.57: 100%|██████████| 196/196 [00:28<00:00,  6.76it/s]\n",
            "  0%|          | 0/196 [00:00<?, ?it/s]"
          ],
          "name": "stderr"
        },
        {
          "output_type": "stream",
          "text": [
            "\n",
            "Test set: Average loss: 0.4960, Accuracy: 8693/10000 (86.93%)\n",
            "\n",
            "EPOCH: 31\n"
          ],
          "name": "stdout"
        },
        {
          "output_type": "stream",
          "text": [
            "Loss=0.2356254607439041 Batch_id=195 Accuracy=89.41: 100%|██████████| 196/196 [00:29<00:00,  6.73it/s]\n",
            "  0%|          | 0/196 [00:00<?, ?it/s]"
          ],
          "name": "stderr"
        },
        {
          "output_type": "stream",
          "text": [
            "\n",
            "Test set: Average loss: 0.4920, Accuracy: 8684/10000 (86.84%)\n",
            "\n",
            "EPOCH: 32\n"
          ],
          "name": "stdout"
        },
        {
          "output_type": "stream",
          "text": [
            "Loss=0.2834208607673645 Batch_id=195 Accuracy=89.40: 100%|██████████| 196/196 [00:29<00:00,  6.73it/s]\n",
            "  0%|          | 0/196 [00:00<?, ?it/s]"
          ],
          "name": "stderr"
        },
        {
          "output_type": "stream",
          "text": [
            "\n",
            "Test set: Average loss: 0.4920, Accuracy: 8702/10000 (87.02%)\n",
            "\n",
            "EPOCH: 33\n"
          ],
          "name": "stdout"
        },
        {
          "output_type": "stream",
          "text": [
            "Loss=0.3101917803287506 Batch_id=195 Accuracy=89.41: 100%|██████████| 196/196 [00:29<00:00,  6.75it/s]\n",
            "  0%|          | 0/196 [00:00<?, ?it/s]"
          ],
          "name": "stderr"
        },
        {
          "output_type": "stream",
          "text": [
            "\n",
            "Test set: Average loss: 0.4970, Accuracy: 8707/10000 (87.07%)\n",
            "\n",
            "EPOCH: 34\n"
          ],
          "name": "stdout"
        },
        {
          "output_type": "stream",
          "text": [
            "Loss=0.22381484508514404 Batch_id=195 Accuracy=89.27: 100%|██████████| 196/196 [00:29<00:00,  6.72it/s]\n",
            "  0%|          | 0/196 [00:00<?, ?it/s]"
          ],
          "name": "stderr"
        },
        {
          "output_type": "stream",
          "text": [
            "\n",
            "Test set: Average loss: 0.4918, Accuracy: 8704/10000 (87.04%)\n",
            "\n",
            "EPOCH: 35\n"
          ],
          "name": "stdout"
        },
        {
          "output_type": "stream",
          "text": [
            "Loss=0.14011365175247192 Batch_id=195 Accuracy=89.58: 100%|██████████| 196/196 [00:29<00:00,  6.73it/s]\n",
            "  0%|          | 0/196 [00:00<?, ?it/s]"
          ],
          "name": "stderr"
        },
        {
          "output_type": "stream",
          "text": [
            "\n",
            "Test set: Average loss: 0.4966, Accuracy: 8699/10000 (86.99%)\n",
            "\n",
            "EPOCH: 36\n"
          ],
          "name": "stdout"
        },
        {
          "output_type": "stream",
          "text": [
            "Loss=0.545490562915802 Batch_id=195 Accuracy=89.39: 100%|██████████| 196/196 [00:29<00:00,  6.73it/s]\n",
            "  0%|          | 0/196 [00:00<?, ?it/s]"
          ],
          "name": "stderr"
        },
        {
          "output_type": "stream",
          "text": [
            "\n",
            "Test set: Average loss: 0.4955, Accuracy: 8705/10000 (87.05%)\n",
            "\n",
            "EPOCH: 37\n"
          ],
          "name": "stdout"
        },
        {
          "output_type": "stream",
          "text": [
            "Loss=0.3135144114494324 Batch_id=195 Accuracy=89.77: 100%|██████████| 196/196 [00:29<00:00,  6.72it/s]\n",
            "  0%|          | 0/196 [00:00<?, ?it/s]"
          ],
          "name": "stderr"
        },
        {
          "output_type": "stream",
          "text": [
            "\n",
            "Test set: Average loss: 0.4889, Accuracy: 8708/10000 (87.08%)\n",
            "\n",
            "EPOCH: 38\n"
          ],
          "name": "stdout"
        },
        {
          "output_type": "stream",
          "text": [
            "Loss=0.28099602460861206 Batch_id=195 Accuracy=89.48: 100%|██████████| 196/196 [00:29<00:00,  6.76it/s]\n",
            "  0%|          | 0/196 [00:00<?, ?it/s]"
          ],
          "name": "stderr"
        },
        {
          "output_type": "stream",
          "text": [
            "\n",
            "Test set: Average loss: 0.4966, Accuracy: 8700/10000 (87.00%)\n",
            "\n",
            "EPOCH: 39\n"
          ],
          "name": "stdout"
        },
        {
          "output_type": "stream",
          "text": [
            "Loss=0.19737079739570618 Batch_id=195 Accuracy=89.61: 100%|██████████| 196/196 [00:29<00:00,  6.73it/s]\n",
            "  0%|          | 0/196 [00:00<?, ?it/s]"
          ],
          "name": "stderr"
        },
        {
          "output_type": "stream",
          "text": [
            "\n",
            "Test set: Average loss: 0.4931, Accuracy: 8714/10000 (87.14%)\n",
            "\n",
            "EPOCH: 40\n"
          ],
          "name": "stdout"
        },
        {
          "output_type": "stream",
          "text": [
            "Loss=0.26943978667259216 Batch_id=195 Accuracy=89.31: 100%|██████████| 196/196 [00:28<00:00,  6.78it/s]\n",
            "  0%|          | 0/196 [00:00<?, ?it/s]"
          ],
          "name": "stderr"
        },
        {
          "output_type": "stream",
          "text": [
            "\n",
            "Test set: Average loss: 0.4903, Accuracy: 8709/10000 (87.09%)\n",
            "\n",
            "EPOCH: 41\n"
          ],
          "name": "stdout"
        },
        {
          "output_type": "stream",
          "text": [
            "Loss=0.5349940657615662 Batch_id=195 Accuracy=89.68: 100%|██████████| 196/196 [00:29<00:00,  6.72it/s]\n",
            "  0%|          | 0/196 [00:00<?, ?it/s]"
          ],
          "name": "stderr"
        },
        {
          "output_type": "stream",
          "text": [
            "\n",
            "Test set: Average loss: 0.4968, Accuracy: 8715/10000 (87.15%)\n",
            "\n",
            "EPOCH: 42\n"
          ],
          "name": "stdout"
        },
        {
          "output_type": "stream",
          "text": [
            "Loss=0.2502051889896393 Batch_id=195 Accuracy=89.68: 100%|██████████| 196/196 [00:29<00:00,  6.72it/s]\n",
            "  0%|          | 0/196 [00:00<?, ?it/s]"
          ],
          "name": "stderr"
        },
        {
          "output_type": "stream",
          "text": [
            "\n",
            "Test set: Average loss: 0.4891, Accuracy: 8721/10000 (87.21%)\n",
            "\n",
            "EPOCH: 43\n"
          ],
          "name": "stdout"
        },
        {
          "output_type": "stream",
          "text": [
            "Loss=0.2843869626522064 Batch_id=195 Accuracy=89.77: 100%|██████████| 196/196 [00:29<00:00,  6.64it/s]\n",
            "  0%|          | 0/196 [00:00<?, ?it/s]"
          ],
          "name": "stderr"
        },
        {
          "output_type": "stream",
          "text": [
            "\n",
            "Test set: Average loss: 0.4884, Accuracy: 8725/10000 (87.25%)\n",
            "\n",
            "EPOCH: 44\n"
          ],
          "name": "stdout"
        },
        {
          "output_type": "stream",
          "text": [
            "Loss=0.40765565633773804 Batch_id=195 Accuracy=89.64: 100%|██████████| 196/196 [00:29<00:00,  6.70it/s]\n",
            "  0%|          | 0/196 [00:00<?, ?it/s]"
          ],
          "name": "stderr"
        },
        {
          "output_type": "stream",
          "text": [
            "\n",
            "Test set: Average loss: 0.4927, Accuracy: 8714/10000 (87.14%)\n",
            "\n",
            "EPOCH: 45\n"
          ],
          "name": "stdout"
        },
        {
          "output_type": "stream",
          "text": [
            "Loss=0.3259769678115845 Batch_id=195 Accuracy=89.60: 100%|██████████| 196/196 [00:29<00:00,  6.72it/s]\n",
            "  0%|          | 0/196 [00:00<?, ?it/s]"
          ],
          "name": "stderr"
        },
        {
          "output_type": "stream",
          "text": [
            "\n",
            "Test set: Average loss: 0.4943, Accuracy: 8692/10000 (86.92%)\n",
            "\n",
            "EPOCH: 46\n"
          ],
          "name": "stdout"
        },
        {
          "output_type": "stream",
          "text": [
            "Loss=0.3822272717952728 Batch_id=195 Accuracy=89.79: 100%|██████████| 196/196 [00:29<00:00,  6.72it/s]\n",
            "  0%|          | 0/196 [00:00<?, ?it/s]"
          ],
          "name": "stderr"
        },
        {
          "output_type": "stream",
          "text": [
            "\n",
            "Test set: Average loss: 0.4869, Accuracy: 8710/10000 (87.10%)\n",
            "\n",
            "EPOCH: 47\n"
          ],
          "name": "stdout"
        },
        {
          "output_type": "stream",
          "text": [
            "Loss=0.19201865792274475 Batch_id=195 Accuracy=89.91: 100%|██████████| 196/196 [00:28<00:00,  6.76it/s]\n",
            "  0%|          | 0/196 [00:00<?, ?it/s]"
          ],
          "name": "stderr"
        },
        {
          "output_type": "stream",
          "text": [
            "\n",
            "Test set: Average loss: 0.4838, Accuracy: 8721/10000 (87.21%)\n",
            "\n",
            "EPOCH: 48\n"
          ],
          "name": "stdout"
        },
        {
          "output_type": "stream",
          "text": [
            "Loss=0.25616440176963806 Batch_id=195 Accuracy=89.68: 100%|██████████| 196/196 [00:28<00:00,  6.78it/s]\n",
            "  0%|          | 0/196 [00:00<?, ?it/s]"
          ],
          "name": "stderr"
        },
        {
          "output_type": "stream",
          "text": [
            "\n",
            "Test set: Average loss: 0.4923, Accuracy: 8699/10000 (86.99%)\n",
            "\n",
            "EPOCH: 49\n"
          ],
          "name": "stdout"
        },
        {
          "output_type": "stream",
          "text": [
            "Loss=0.36667346954345703 Batch_id=195 Accuracy=89.59: 100%|██████████| 196/196 [00:28<00:00,  6.77it/s]\n",
            "  0%|          | 0/196 [00:00<?, ?it/s]"
          ],
          "name": "stderr"
        },
        {
          "output_type": "stream",
          "text": [
            "\n",
            "Test set: Average loss: 0.4857, Accuracy: 8710/10000 (87.10%)\n",
            "\n",
            "EPOCH: 50\n"
          ],
          "name": "stdout"
        },
        {
          "output_type": "stream",
          "text": [
            "Loss=0.372732937335968 Batch_id=195 Accuracy=89.96: 100%|██████████| 196/196 [00:28<00:00,  6.76it/s]\n",
            "  0%|          | 0/196 [00:00<?, ?it/s]"
          ],
          "name": "stderr"
        },
        {
          "output_type": "stream",
          "text": [
            "\n",
            "Test set: Average loss: 0.4868, Accuracy: 8725/10000 (87.25%)\n",
            "\n",
            "EPOCH: 51\n"
          ],
          "name": "stdout"
        },
        {
          "output_type": "stream",
          "text": [
            "Loss=0.25900590419769287 Batch_id=195 Accuracy=89.91: 100%|██████████| 196/196 [00:29<00:00,  6.75it/s]\n",
            "  0%|          | 0/196 [00:00<?, ?it/s]"
          ],
          "name": "stderr"
        },
        {
          "output_type": "stream",
          "text": [
            "\n",
            "Test set: Average loss: 0.4882, Accuracy: 8711/10000 (87.11%)\n",
            "\n",
            "EPOCH: 52\n"
          ],
          "name": "stdout"
        },
        {
          "output_type": "stream",
          "text": [
            "Loss=0.4278571605682373 Batch_id=195 Accuracy=90.00: 100%|██████████| 196/196 [00:28<00:00,  6.80it/s]\n",
            "  0%|          | 0/196 [00:00<?, ?it/s]"
          ],
          "name": "stderr"
        },
        {
          "output_type": "stream",
          "text": [
            "\n",
            "Test set: Average loss: 0.4877, Accuracy: 8726/10000 (87.26%)\n",
            "\n",
            "EPOCH: 53\n"
          ],
          "name": "stdout"
        },
        {
          "output_type": "stream",
          "text": [
            "Loss=0.281001478433609 Batch_id=195 Accuracy=89.99: 100%|██████████| 196/196 [00:28<00:00,  6.76it/s]\n",
            "  0%|          | 0/196 [00:00<?, ?it/s]"
          ],
          "name": "stderr"
        },
        {
          "output_type": "stream",
          "text": [
            "\n",
            "Test set: Average loss: 0.4834, Accuracy: 8724/10000 (87.24%)\n",
            "\n",
            "EPOCH: 54\n"
          ],
          "name": "stdout"
        },
        {
          "output_type": "stream",
          "text": [
            "Loss=0.15526893734931946 Batch_id=195 Accuracy=89.96: 100%|██████████| 196/196 [00:29<00:00,  6.69it/s]\n",
            "  0%|          | 0/196 [00:00<?, ?it/s]"
          ],
          "name": "stderr"
        },
        {
          "output_type": "stream",
          "text": [
            "\n",
            "Test set: Average loss: 0.4861, Accuracy: 8725/10000 (87.25%)\n",
            "\n",
            "EPOCH: 55\n"
          ],
          "name": "stdout"
        },
        {
          "output_type": "stream",
          "text": [
            "Loss=0.4202863276004791 Batch_id=195 Accuracy=89.96: 100%|██████████| 196/196 [00:29<00:00,  6.74it/s]\n",
            "  0%|          | 0/196 [00:00<?, ?it/s]"
          ],
          "name": "stderr"
        },
        {
          "output_type": "stream",
          "text": [
            "\n",
            "Test set: Average loss: 0.4851, Accuracy: 8728/10000 (87.28%)\n",
            "\n",
            "EPOCH: 56\n"
          ],
          "name": "stdout"
        },
        {
          "output_type": "stream",
          "text": [
            "Loss=0.35377568006515503 Batch_id=195 Accuracy=89.95: 100%|██████████| 196/196 [00:28<00:00,  6.77it/s]\n",
            "  0%|          | 0/196 [00:00<?, ?it/s]"
          ],
          "name": "stderr"
        },
        {
          "output_type": "stream",
          "text": [
            "\n",
            "Test set: Average loss: 0.4842, Accuracy: 8725/10000 (87.25%)\n",
            "\n",
            "EPOCH: 57\n"
          ],
          "name": "stdout"
        },
        {
          "output_type": "stream",
          "text": [
            "Loss=0.16528072953224182 Batch_id=195 Accuracy=89.75: 100%|██████████| 196/196 [00:29<00:00,  6.76it/s]\n",
            "  0%|          | 0/196 [00:00<?, ?it/s]"
          ],
          "name": "stderr"
        },
        {
          "output_type": "stream",
          "text": [
            "\n",
            "Test set: Average loss: 0.4822, Accuracy: 8730/10000 (87.30%)\n",
            "\n",
            "EPOCH: 58\n"
          ],
          "name": "stdout"
        },
        {
          "output_type": "stream",
          "text": [
            "Loss=0.34941840171813965 Batch_id=195 Accuracy=89.98: 100%|██████████| 196/196 [00:29<00:00,  6.74it/s]\n",
            "  0%|          | 0/196 [00:00<?, ?it/s]"
          ],
          "name": "stderr"
        },
        {
          "output_type": "stream",
          "text": [
            "\n",
            "Test set: Average loss: 0.4862, Accuracy: 8710/10000 (87.10%)\n",
            "\n",
            "EPOCH: 59\n"
          ],
          "name": "stdout"
        },
        {
          "output_type": "stream",
          "text": [
            "Loss=0.2818780839443207 Batch_id=195 Accuracy=90.00: 100%|██████████| 196/196 [00:28<00:00,  6.78it/s]\n",
            "  0%|          | 0/196 [00:00<?, ?it/s]"
          ],
          "name": "stderr"
        },
        {
          "output_type": "stream",
          "text": [
            "\n",
            "Test set: Average loss: 0.4871, Accuracy: 8710/10000 (87.10%)\n",
            "\n",
            "EPOCH: 60\n"
          ],
          "name": "stdout"
        },
        {
          "output_type": "stream",
          "text": [
            "Loss=0.2566755712032318 Batch_id=195 Accuracy=89.82: 100%|██████████| 196/196 [00:29<00:00,  6.75it/s]\n",
            "  0%|          | 0/196 [00:00<?, ?it/s]"
          ],
          "name": "stderr"
        },
        {
          "output_type": "stream",
          "text": [
            "\n",
            "Test set: Average loss: 0.4836, Accuracy: 8726/10000 (87.26%)\n",
            "\n",
            "EPOCH: 61\n"
          ],
          "name": "stdout"
        },
        {
          "output_type": "stream",
          "text": [
            "Loss=0.41818684339523315 Batch_id=195 Accuracy=90.11: 100%|██████████| 196/196 [00:28<00:00,  6.82it/s]\n",
            "  0%|          | 0/196 [00:00<?, ?it/s]"
          ],
          "name": "stderr"
        },
        {
          "output_type": "stream",
          "text": [
            "\n",
            "Test set: Average loss: 0.4860, Accuracy: 8711/10000 (87.11%)\n",
            "\n",
            "EPOCH: 62\n"
          ],
          "name": "stdout"
        },
        {
          "output_type": "stream",
          "text": [
            "Loss=0.18407496809959412 Batch_id=195 Accuracy=89.74: 100%|██████████| 196/196 [00:29<00:00,  6.75it/s]\n",
            "  0%|          | 0/196 [00:00<?, ?it/s]"
          ],
          "name": "stderr"
        },
        {
          "output_type": "stream",
          "text": [
            "\n",
            "Test set: Average loss: 0.4875, Accuracy: 8716/10000 (87.16%)\n",
            "\n",
            "EPOCH: 63\n"
          ],
          "name": "stdout"
        },
        {
          "output_type": "stream",
          "text": [
            "Loss=0.39072996377944946 Batch_id=195 Accuracy=89.67: 100%|██████████| 196/196 [00:29<00:00,  6.74it/s]\n",
            "  0%|          | 0/196 [00:00<?, ?it/s]"
          ],
          "name": "stderr"
        },
        {
          "output_type": "stream",
          "text": [
            "\n",
            "Test set: Average loss: 0.4890, Accuracy: 8720/10000 (87.20%)\n",
            "\n",
            "EPOCH: 64\n"
          ],
          "name": "stdout"
        },
        {
          "output_type": "stream",
          "text": [
            "Loss=0.27973684668540955 Batch_id=195 Accuracy=89.99: 100%|██████████| 196/196 [00:29<00:00,  6.72it/s]\n",
            "  0%|          | 0/196 [00:00<?, ?it/s]"
          ],
          "name": "stderr"
        },
        {
          "output_type": "stream",
          "text": [
            "\n",
            "Test set: Average loss: 0.4854, Accuracy: 8717/10000 (87.17%)\n",
            "\n",
            "EPOCH: 65\n"
          ],
          "name": "stdout"
        },
        {
          "output_type": "stream",
          "text": [
            "Loss=0.25840091705322266 Batch_id=195 Accuracy=89.71: 100%|██████████| 196/196 [00:28<00:00,  6.77it/s]\n",
            "  0%|          | 0/196 [00:00<?, ?it/s]"
          ],
          "name": "stderr"
        },
        {
          "output_type": "stream",
          "text": [
            "\n",
            "Test set: Average loss: 0.4866, Accuracy: 8714/10000 (87.14%)\n",
            "\n",
            "EPOCH: 66\n"
          ],
          "name": "stdout"
        },
        {
          "output_type": "stream",
          "text": [
            "Loss=0.29757243394851685 Batch_id=195 Accuracy=89.88: 100%|██████████| 196/196 [00:29<00:00,  6.74it/s]\n",
            "  0%|          | 0/196 [00:00<?, ?it/s]"
          ],
          "name": "stderr"
        },
        {
          "output_type": "stream",
          "text": [
            "\n",
            "Test set: Average loss: 0.4836, Accuracy: 8725/10000 (87.25%)\n",
            "\n",
            "EPOCH: 67\n"
          ],
          "name": "stdout"
        },
        {
          "output_type": "stream",
          "text": [
            "Loss=0.38565292954444885 Batch_id=195 Accuracy=89.78: 100%|██████████| 196/196 [00:28<00:00,  6.78it/s]\n",
            "  0%|          | 0/196 [00:00<?, ?it/s]"
          ],
          "name": "stderr"
        },
        {
          "output_type": "stream",
          "text": [
            "\n",
            "Test set: Average loss: 0.4817, Accuracy: 8730/10000 (87.30%)\n",
            "\n",
            "EPOCH: 68\n"
          ],
          "name": "stdout"
        },
        {
          "output_type": "stream",
          "text": [
            "Loss=0.26104164123535156 Batch_id=195 Accuracy=90.08: 100%|██████████| 196/196 [00:28<00:00,  6.77it/s]\n",
            "  0%|          | 0/196 [00:00<?, ?it/s]"
          ],
          "name": "stderr"
        },
        {
          "output_type": "stream",
          "text": [
            "\n",
            "Test set: Average loss: 0.4821, Accuracy: 8729/10000 (87.29%)\n",
            "\n",
            "EPOCH: 69\n"
          ],
          "name": "stdout"
        },
        {
          "output_type": "stream",
          "text": [
            "Loss=0.4543089270591736 Batch_id=195 Accuracy=90.02: 100%|██████████| 196/196 [00:28<00:00,  6.80it/s]\n",
            "  0%|          | 0/196 [00:00<?, ?it/s]"
          ],
          "name": "stderr"
        },
        {
          "output_type": "stream",
          "text": [
            "\n",
            "Test set: Average loss: 0.4858, Accuracy: 8708/10000 (87.08%)\n",
            "\n",
            "EPOCH: 70\n"
          ],
          "name": "stdout"
        },
        {
          "output_type": "stream",
          "text": [
            "Loss=0.22125224769115448 Batch_id=195 Accuracy=89.68: 100%|██████████| 196/196 [00:28<00:00,  6.79it/s]\n",
            "  0%|          | 0/196 [00:00<?, ?it/s]"
          ],
          "name": "stderr"
        },
        {
          "output_type": "stream",
          "text": [
            "\n",
            "Test set: Average loss: 0.4818, Accuracy: 8730/10000 (87.30%)\n",
            "\n",
            "EPOCH: 71\n"
          ],
          "name": "stdout"
        },
        {
          "output_type": "stream",
          "text": [
            "Loss=0.20905068516731262 Batch_id=195 Accuracy=89.72: 100%|██████████| 196/196 [00:28<00:00,  6.77it/s]\n",
            "  0%|          | 0/196 [00:00<?, ?it/s]"
          ],
          "name": "stderr"
        },
        {
          "output_type": "stream",
          "text": [
            "\n",
            "Test set: Average loss: 0.4818, Accuracy: 8730/10000 (87.30%)\n",
            "\n",
            "EPOCH: 72\n"
          ],
          "name": "stdout"
        },
        {
          "output_type": "stream",
          "text": [
            "Loss=0.2191467583179474 Batch_id=195 Accuracy=89.77: 100%|██████████| 196/196 [00:28<00:00,  6.76it/s]\n",
            "  0%|          | 0/196 [00:00<?, ?it/s]"
          ],
          "name": "stderr"
        },
        {
          "output_type": "stream",
          "text": [
            "\n",
            "Test set: Average loss: 0.4849, Accuracy: 8726/10000 (87.26%)\n",
            "\n",
            "EPOCH: 73\n"
          ],
          "name": "stdout"
        },
        {
          "output_type": "stream",
          "text": [
            "Loss=0.361772358417511 Batch_id=195 Accuracy=89.84: 100%|██████████| 196/196 [00:29<00:00,  6.72it/s]\n",
            "  0%|          | 0/196 [00:00<?, ?it/s]"
          ],
          "name": "stderr"
        },
        {
          "output_type": "stream",
          "text": [
            "\n",
            "Test set: Average loss: 0.4852, Accuracy: 8724/10000 (87.24%)\n",
            "\n",
            "EPOCH: 74\n"
          ],
          "name": "stdout"
        },
        {
          "output_type": "stream",
          "text": [
            "Loss=0.33602508902549744 Batch_id=195 Accuracy=89.96: 100%|██████████| 196/196 [00:29<00:00,  6.73it/s]\n",
            "  0%|          | 0/196 [00:00<?, ?it/s]"
          ],
          "name": "stderr"
        },
        {
          "output_type": "stream",
          "text": [
            "\n",
            "Test set: Average loss: 0.4873, Accuracy: 8719/10000 (87.19%)\n",
            "\n",
            "EPOCH: 75\n"
          ],
          "name": "stdout"
        },
        {
          "output_type": "stream",
          "text": [
            "Loss=0.21873979270458221 Batch_id=195 Accuracy=89.74: 100%|██████████| 196/196 [00:28<00:00,  6.80it/s]\n",
            "  0%|          | 0/196 [00:00<?, ?it/s]"
          ],
          "name": "stderr"
        },
        {
          "output_type": "stream",
          "text": [
            "\n",
            "Test set: Average loss: 0.4844, Accuracy: 8711/10000 (87.11%)\n",
            "\n",
            "EPOCH: 76\n"
          ],
          "name": "stdout"
        },
        {
          "output_type": "stream",
          "text": [
            "Loss=0.21943959593772888 Batch_id=195 Accuracy=89.72: 100%|██████████| 196/196 [00:29<00:00,  6.75it/s]\n",
            "  0%|          | 0/196 [00:00<?, ?it/s]"
          ],
          "name": "stderr"
        },
        {
          "output_type": "stream",
          "text": [
            "\n",
            "Test set: Average loss: 0.4841, Accuracy: 8725/10000 (87.25%)\n",
            "\n",
            "EPOCH: 77\n"
          ],
          "name": "stdout"
        },
        {
          "output_type": "stream",
          "text": [
            "Loss=0.46877485513687134 Batch_id=195 Accuracy=89.74: 100%|██████████| 196/196 [00:29<00:00,  6.76it/s]\n",
            "  0%|          | 0/196 [00:00<?, ?it/s]"
          ],
          "name": "stderr"
        },
        {
          "output_type": "stream",
          "text": [
            "\n",
            "Test set: Average loss: 0.4807, Accuracy: 8722/10000 (87.22%)\n",
            "\n",
            "EPOCH: 78\n"
          ],
          "name": "stdout"
        },
        {
          "output_type": "stream",
          "text": [
            "Loss=0.2807096838951111 Batch_id=195 Accuracy=90.23: 100%|██████████| 196/196 [00:29<00:00,  6.76it/s]\n",
            "  0%|          | 0/196 [00:00<?, ?it/s]"
          ],
          "name": "stderr"
        },
        {
          "output_type": "stream",
          "text": [
            "\n",
            "Test set: Average loss: 0.4836, Accuracy: 8717/10000 (87.17%)\n",
            "\n",
            "EPOCH: 79\n"
          ],
          "name": "stdout"
        },
        {
          "output_type": "stream",
          "text": [
            "Loss=0.40569767355918884 Batch_id=195 Accuracy=90.01: 100%|██████████| 196/196 [00:28<00:00,  6.80it/s]\n",
            "  0%|          | 0/196 [00:00<?, ?it/s]"
          ],
          "name": "stderr"
        },
        {
          "output_type": "stream",
          "text": [
            "\n",
            "Test set: Average loss: 0.4867, Accuracy: 8710/10000 (87.10%)\n",
            "\n",
            "EPOCH: 80\n"
          ],
          "name": "stdout"
        },
        {
          "output_type": "stream",
          "text": [
            "Loss=0.2443593442440033 Batch_id=195 Accuracy=90.11: 100%|██████████| 196/196 [00:28<00:00,  6.77it/s]\n",
            "  0%|          | 0/196 [00:00<?, ?it/s]"
          ],
          "name": "stderr"
        },
        {
          "output_type": "stream",
          "text": [
            "\n",
            "Test set: Average loss: 0.4835, Accuracy: 8716/10000 (87.16%)\n",
            "\n",
            "EPOCH: 81\n"
          ],
          "name": "stdout"
        },
        {
          "output_type": "stream",
          "text": [
            "Loss=0.4064207673072815 Batch_id=195 Accuracy=89.96: 100%|██████████| 196/196 [00:28<00:00,  6.78it/s]\n",
            "  0%|          | 0/196 [00:00<?, ?it/s]"
          ],
          "name": "stderr"
        },
        {
          "output_type": "stream",
          "text": [
            "\n",
            "Test set: Average loss: 0.4826, Accuracy: 8719/10000 (87.19%)\n",
            "\n",
            "EPOCH: 82\n"
          ],
          "name": "stdout"
        },
        {
          "output_type": "stream",
          "text": [
            "Loss=0.23720093071460724 Batch_id=195 Accuracy=90.10: 100%|██████████| 196/196 [00:28<00:00,  6.79it/s]\n",
            "  0%|          | 0/196 [00:00<?, ?it/s]"
          ],
          "name": "stderr"
        },
        {
          "output_type": "stream",
          "text": [
            "\n",
            "Test set: Average loss: 0.4856, Accuracy: 8728/10000 (87.28%)\n",
            "\n",
            "EPOCH: 83\n"
          ],
          "name": "stdout"
        },
        {
          "output_type": "stream",
          "text": [
            "Loss=0.2992700934410095 Batch_id=195 Accuracy=89.82: 100%|██████████| 196/196 [00:28<00:00,  6.78it/s]\n",
            "  0%|          | 0/196 [00:00<?, ?it/s]"
          ],
          "name": "stderr"
        },
        {
          "output_type": "stream",
          "text": [
            "\n",
            "Test set: Average loss: 0.4838, Accuracy: 8723/10000 (87.23%)\n",
            "\n",
            "EPOCH: 84\n"
          ],
          "name": "stdout"
        },
        {
          "output_type": "stream",
          "text": [
            "Loss=0.1677267998456955 Batch_id=195 Accuracy=89.86: 100%|██████████| 196/196 [00:29<00:00,  6.76it/s]\n",
            "  0%|          | 0/196 [00:00<?, ?it/s]"
          ],
          "name": "stderr"
        },
        {
          "output_type": "stream",
          "text": [
            "\n",
            "Test set: Average loss: 0.4827, Accuracy: 8719/10000 (87.19%)\n",
            "\n",
            "EPOCH: 85\n"
          ],
          "name": "stdout"
        },
        {
          "output_type": "stream",
          "text": [
            "Loss=0.27543503046035767 Batch_id=195 Accuracy=89.74: 100%|██████████| 196/196 [00:28<00:00,  6.76it/s]\n",
            "  0%|          | 0/196 [00:00<?, ?it/s]"
          ],
          "name": "stderr"
        },
        {
          "output_type": "stream",
          "text": [
            "\n",
            "Test set: Average loss: 0.4866, Accuracy: 8723/10000 (87.23%)\n",
            "\n",
            "EPOCH: 86\n"
          ],
          "name": "stdout"
        },
        {
          "output_type": "stream",
          "text": [
            "Loss=0.30398091673851013 Batch_id=195 Accuracy=89.73: 100%|██████████| 196/196 [00:28<00:00,  6.77it/s]\n",
            "  0%|          | 0/196 [00:00<?, ?it/s]"
          ],
          "name": "stderr"
        },
        {
          "output_type": "stream",
          "text": [
            "\n",
            "Test set: Average loss: 0.4840, Accuracy: 8726/10000 (87.26%)\n",
            "\n",
            "EPOCH: 87\n"
          ],
          "name": "stdout"
        },
        {
          "output_type": "stream",
          "text": [
            "Loss=0.3921108841896057 Batch_id=195 Accuracy=90.00: 100%|██████████| 196/196 [00:28<00:00,  6.80it/s]\n",
            "  0%|          | 0/196 [00:00<?, ?it/s]"
          ],
          "name": "stderr"
        },
        {
          "output_type": "stream",
          "text": [
            "\n",
            "Test set: Average loss: 0.4863, Accuracy: 8717/10000 (87.17%)\n",
            "\n",
            "EPOCH: 88\n"
          ],
          "name": "stdout"
        },
        {
          "output_type": "stream",
          "text": [
            "Loss=0.33565476536750793 Batch_id=195 Accuracy=89.76: 100%|██████████| 196/196 [00:28<00:00,  6.77it/s]\n",
            "  0%|          | 0/196 [00:00<?, ?it/s]"
          ],
          "name": "stderr"
        },
        {
          "output_type": "stream",
          "text": [
            "\n",
            "Test set: Average loss: 0.4854, Accuracy: 8739/10000 (87.39%)\n",
            "\n",
            "EPOCH: 89\n"
          ],
          "name": "stdout"
        },
        {
          "output_type": "stream",
          "text": [
            "Loss=0.33791589736938477 Batch_id=195 Accuracy=89.71: 100%|██████████| 196/196 [00:28<00:00,  6.76it/s]\n",
            "  0%|          | 0/196 [00:00<?, ?it/s]"
          ],
          "name": "stderr"
        },
        {
          "output_type": "stream",
          "text": [
            "\n",
            "Test set: Average loss: 0.4861, Accuracy: 8725/10000 (87.25%)\n",
            "\n",
            "EPOCH: 90\n"
          ],
          "name": "stdout"
        },
        {
          "output_type": "stream",
          "text": [
            "Loss=0.15983571112155914 Batch_id=195 Accuracy=89.93: 100%|██████████| 196/196 [00:28<00:00,  6.77it/s]\n",
            "  0%|          | 0/196 [00:00<?, ?it/s]"
          ],
          "name": "stderr"
        },
        {
          "output_type": "stream",
          "text": [
            "\n",
            "Test set: Average loss: 0.4837, Accuracy: 8719/10000 (87.19%)\n",
            "\n",
            "EPOCH: 91\n"
          ],
          "name": "stdout"
        },
        {
          "output_type": "stream",
          "text": [
            "Loss=0.4244057238101959 Batch_id=195 Accuracy=89.97: 100%|██████████| 196/196 [00:28<00:00,  6.79it/s]\n",
            "  0%|          | 0/196 [00:00<?, ?it/s]"
          ],
          "name": "stderr"
        },
        {
          "output_type": "stream",
          "text": [
            "\n",
            "Test set: Average loss: 0.4811, Accuracy: 8728/10000 (87.28%)\n",
            "\n",
            "EPOCH: 92\n"
          ],
          "name": "stdout"
        },
        {
          "output_type": "stream",
          "text": [
            "Loss=0.33127015829086304 Batch_id=195 Accuracy=90.01: 100%|██████████| 196/196 [00:29<00:00,  6.75it/s]\n",
            "  0%|          | 0/196 [00:00<?, ?it/s]"
          ],
          "name": "stderr"
        },
        {
          "output_type": "stream",
          "text": [
            "\n",
            "Test set: Average loss: 0.4844, Accuracy: 8730/10000 (87.30%)\n",
            "\n",
            "EPOCH: 93\n"
          ],
          "name": "stdout"
        },
        {
          "output_type": "stream",
          "text": [
            "Loss=0.39543986320495605 Batch_id=195 Accuracy=90.01: 100%|██████████| 196/196 [00:29<00:00,  6.71it/s]\n",
            "  0%|          | 0/196 [00:00<?, ?it/s]"
          ],
          "name": "stderr"
        },
        {
          "output_type": "stream",
          "text": [
            "\n",
            "Test set: Average loss: 0.4824, Accuracy: 8721/10000 (87.21%)\n",
            "\n",
            "EPOCH: 94\n"
          ],
          "name": "stdout"
        },
        {
          "output_type": "stream",
          "text": [
            "Loss=0.3485153913497925 Batch_id=195 Accuracy=89.90: 100%|██████████| 196/196 [00:29<00:00,  6.71it/s]\n",
            "  0%|          | 0/196 [00:00<?, ?it/s]"
          ],
          "name": "stderr"
        },
        {
          "output_type": "stream",
          "text": [
            "\n",
            "Test set: Average loss: 0.4858, Accuracy: 8726/10000 (87.26%)\n",
            "\n",
            "EPOCH: 95\n"
          ],
          "name": "stdout"
        },
        {
          "output_type": "stream",
          "text": [
            "Loss=0.31918367743492126 Batch_id=195 Accuracy=90.03: 100%|██████████| 196/196 [00:28<00:00,  6.81it/s]\n",
            "  0%|          | 0/196 [00:00<?, ?it/s]"
          ],
          "name": "stderr"
        },
        {
          "output_type": "stream",
          "text": [
            "\n",
            "Test set: Average loss: 0.4883, Accuracy: 8730/10000 (87.30%)\n",
            "\n",
            "EPOCH: 96\n"
          ],
          "name": "stdout"
        },
        {
          "output_type": "stream",
          "text": [
            "Loss=0.1598966121673584 Batch_id=195 Accuracy=89.77: 100%|██████████| 196/196 [00:29<00:00,  6.74it/s]\n",
            "  0%|          | 0/196 [00:00<?, ?it/s]"
          ],
          "name": "stderr"
        },
        {
          "output_type": "stream",
          "text": [
            "\n",
            "Test set: Average loss: 0.4831, Accuracy: 8727/10000 (87.27%)\n",
            "\n",
            "EPOCH: 97\n"
          ],
          "name": "stdout"
        },
        {
          "output_type": "stream",
          "text": [
            "Loss=0.430976927280426 Batch_id=195 Accuracy=90.10: 100%|██████████| 196/196 [00:28<00:00,  6.81it/s]\n",
            "  0%|          | 0/196 [00:00<?, ?it/s]"
          ],
          "name": "stderr"
        },
        {
          "output_type": "stream",
          "text": [
            "\n",
            "Test set: Average loss: 0.4852, Accuracy: 8716/10000 (87.16%)\n",
            "\n",
            "EPOCH: 98\n"
          ],
          "name": "stdout"
        },
        {
          "output_type": "stream",
          "text": [
            "Loss=0.2059617042541504 Batch_id=195 Accuracy=89.87: 100%|██████████| 196/196 [00:28<00:00,  6.80it/s]\n",
            "  0%|          | 0/196 [00:00<?, ?it/s]"
          ],
          "name": "stderr"
        },
        {
          "output_type": "stream",
          "text": [
            "\n",
            "Test set: Average loss: 0.4859, Accuracy: 8719/10000 (87.19%)\n",
            "\n",
            "EPOCH: 99\n"
          ],
          "name": "stdout"
        },
        {
          "output_type": "stream",
          "text": [
            "Loss=0.2799977958202362 Batch_id=195 Accuracy=90.02: 100%|██████████| 196/196 [00:28<00:00,  6.79it/s]\n"
          ],
          "name": "stderr"
        },
        {
          "output_type": "stream",
          "text": [
            "\n",
            "Test set: Average loss: 0.4844, Accuracy: 8725/10000 (87.25%)\n",
            "\n"
          ],
          "name": "stdout"
        }
      ]
    },
    {
      "cell_type": "markdown",
      "metadata": {
        "id": "_4j3fch1H8Qt",
        "colab_type": "text"
      },
      "source": [
        "## Save the Model"
      ]
    },
    {
      "cell_type": "code",
      "metadata": {
        "id": "OoEYJfcC4pJN",
        "colab_type": "code",
        "colab": {}
      },
      "source": [
        "import os\n",
        "\n",
        "PATH = '/content/drive/My Drive/cifar10_resnet18_new.pth'\n",
        "torch.save(model.state_dict(), PATH)"
      ],
      "execution_count": 0,
      "outputs": []
    },
    {
      "cell_type": "markdown",
      "metadata": {
        "id": "YLrvL_fHpoC5",
        "colab_type": "text"
      },
      "source": [
        "## 5. Test the network on the test data \n",
        "\n",
        "\n",
        "In this step\n",
        "- A few actual images are shown with label.\n",
        "- Next print the test accuracy using API get_test_accuracy\n",
        "- Next diplay class level accuracy using API get_accuracy_per_class which will give idea about which all classes prediction was good and which all classes prediction was not that good\n",
        "\n"
      ]
    },
    {
      "cell_type": "code",
      "metadata": {
        "id": "nizbsvw9poC6",
        "colab_type": "code",
        "outputId": "c3ea654c-da44-437f-9817-223754133f14",
        "colab": {
          "base_uri": "https://localhost:8080/",
          "height": 307
        }
      },
      "source": [
        "dataiter = iter(testloader)\n",
        "images, labels = dataiter.next()\n",
        "\n",
        "# print images\n",
        "imshow(torchvision.utils.make_grid(images))\n",
        "print('GroundTruth: ', ' '.join('%5s' % classes[labels[j]] for j in range(4)))"
      ],
      "execution_count": 0,
      "outputs": [
        {
          "output_type": "stream",
          "text": [
            "Clipping input data to the valid range for imshow with RGB data ([0..1] for floats or [0..255] for integers).\n"
          ],
          "name": "stderr"
        },
        {
          "output_type": "stream",
          "text": [
            "GroundTruth:    cat  ship  ship plane\n"
          ],
          "name": "stdout"
        },
        {
          "output_type": "display_data",
          "data": {
            "image/png": "[encoded data removed]",
            "text/plain": [
              "<Figure size 432x288 with 1 Axes>"
            ]
          },
          "metadata": {
            "tags": []
          }
        }
      ]
    },
    {
      "cell_type": "markdown",
      "metadata": {
        "id": "DAx4QPHVpoC8",
        "colab_type": "text"
      },
      "source": [
        "Okay, now let us see what the neural network thinks these examples above are:\n",
        "\n"
      ]
    },
    {
      "cell_type": "code",
      "metadata": {
        "id": "HVLjlssWpoC9",
        "colab_type": "code",
        "outputId": "552ff258-ea2c-419c-d120-f3338897b09a",
        "colab": {
          "base_uri": "https://localhost:8080/",
          "height": 75
        }
      },
      "source": [
        "with torch.no_grad():\n",
        "    images, labels = images.to(device), labels.to(device)\n",
        "    outputs = model(images) "
      ],
      "execution_count": 0,
      "outputs": [
        {
          "output_type": "stream",
          "text": [
            "/content/models/resnet18.py:67: UserWarning: Implicit dimension choice for log_softmax has been deprecated. Change the call to include dim=X as an argument.\n",
            "  return F.log_softmax(out)\n"
          ],
          "name": "stderr"
        }
      ]
    },
    {
      "cell_type": "markdown",
      "metadata": {
        "id": "u8OTHZEApoC_",
        "colab_type": "text"
      },
      "source": [
        "The outputs are energies for the 10 classes.\n",
        "Higher the energy for a class, the more the network\n",
        "thinks that the image is of the particular class.\n",
        "So, let's get the index of the highest energy:\n",
        "\n"
      ]
    },
    {
      "cell_type": "code",
      "metadata": {
        "id": "ABRIDW3lpoDA",
        "colab_type": "code",
        "outputId": "a6e53f66-16c0-48b3-bcbf-cd41145d154e",
        "colab": {
          "base_uri": "https://localhost:8080/",
          "height": 36
        }
      },
      "source": [
        "_, predicted = torch.max(outputs, 1)\n",
        "\n",
        "print('Predicted: ', ' '.join('%5s' % classes[predicted[j]]\n",
        "                              for j in range(4)))"
      ],
      "execution_count": 0,
      "outputs": [
        {
          "output_type": "stream",
          "text": [
            "Predicted:    cat  ship  ship plane\n"
          ],
          "name": "stdout"
        }
      ]
    },
    {
      "cell_type": "markdown",
      "metadata": {
        "id": "2TV0TXL1poDC",
        "colab_type": "text"
      },
      "source": [
        "The results seem pretty good.\n",
        "\n",
        "Let us look at how the network performs on the whole dataset.\n",
        "\n"
      ]
    },
    {
      "cell_type": "code",
      "metadata": {
        "id": "y8NB4X1fsoaz",
        "colab_type": "code",
        "outputId": "0f780775-3714-4b53-f5c0-2c1e1e3308d0",
        "colab": {
          "base_uri": "https://localhost:8080/",
          "height": 93
        }
      },
      "source": [
        "print('Accuracy of the network on the 10000 test images: %.2f %%' % (\n",
        "    get_test_accuracy(model, testloader, device)))"
      ],
      "execution_count": 0,
      "outputs": [
        {
          "output_type": "stream",
          "text": [
            "/content/models/resnet18.py:67: UserWarning: Implicit dimension choice for log_softmax has been deprecated. Change the call to include dim=X as an argument.\n",
            "  return F.log_softmax(out)\n"
          ],
          "name": "stderr"
        },
        {
          "output_type": "stream",
          "text": [
            "Accuracy of the network on the 10000 test images: 87.25 %\n"
          ],
          "name": "stdout"
        }
      ]
    },
    {
      "cell_type": "markdown",
      "metadata": {
        "id": "eDdwPBl8poDF",
        "colab_type": "text"
      },
      "source": [
        "The accuracy 87.25 is far better than chance, which is 10% accuracy (randomly picking a class out of 10 classes).\n",
        "Seems like the network learnt good.\n",
        "\n",
        "Hmmm, what are the classes that performed well, and the classes that did\n",
        "not perform well:\n",
        "\n"
      ]
    },
    {
      "cell_type": "code",
      "metadata": {
        "id": "3useTIlZzvS2",
        "colab_type": "code",
        "outputId": "4007c9d3-1974-422d-acf5-e6876d2ca3df",
        "colab": {
          "base_uri": "https://localhost:8080/",
          "height": 263
        }
      },
      "source": [
        "class_correct,class_total = get_accuracy_per_class(model, testloader, device)\n",
        "\n",
        "for i in range(10):\n",
        "    print('Accuracy of %5s : %2d %%' % (\n",
        "        classes[i], 100 * class_correct[i] / class_total[i]))"
      ],
      "execution_count": 0,
      "outputs": [
        {
          "output_type": "stream",
          "text": [
            "/content/models/resnet18.py:67: UserWarning: Implicit dimension choice for log_softmax has been deprecated. Change the call to include dim=X as an argument.\n",
            "  return F.log_softmax(out)\n"
          ],
          "name": "stderr"
        },
        {
          "output_type": "stream",
          "text": [
            "Accuracy of plane : 93 %\n",
            "Accuracy of   car : 100 %\n",
            "Accuracy of  bird : 100 %\n",
            "Accuracy of   cat : 54 %\n",
            "Accuracy of  deer : 92 %\n",
            "Accuracy of   dog : 80 %\n",
            "Accuracy of  frog : 72 %\n",
            "Accuracy of horse : 100 %\n",
            "Accuracy of  ship : 90 %\n",
            "Accuracy of truck : 82 %\n"
          ],
          "name": "stdout"
        }
      ]
    },
    {
      "cell_type": "markdown",
      "metadata": {
        "id": "s6t8DDXI_lzd",
        "colab_type": "text"
      },
      "source": [
        "## Plot the performance metrics\n",
        "\n",
        "In this step, the following metrics are plotted\n",
        "\n",
        "i. Training Loss\n",
        "ii. Training Accuracy\n",
        "iii. Test Loss\n",
        "iv. Test Accuracy"
      ]
    },
    {
      "cell_type": "code",
      "metadata": {
        "id": "edY4rdRD1Jsw",
        "colab_type": "code",
        "outputId": "99b453c8-63e6-4c91-a513-8e8e743d9966",
        "colab": {
          "base_uri": "https://localhost:8080/",
          "height": 607
        }
      },
      "source": [
        "plot_loss_accuracy(train_losses, train_acc, test_losses, test_acc)"
      ],
      "execution_count": 0,
      "outputs": [
        {
          "output_type": "display_data",
          "data": {
            "image/png": "[encoded data removed]",
            "text/plain": [
              "<Figure size 1080x720 with 4 Axes>"
            ]
          },
          "metadata": {
            "tags": []
          }
        }
      ]
    },
    {
      "cell_type": "markdown",
      "metadata": {
        "id": "_2GoLlYZo0VP",
        "colab_type": "text"
      },
      "source": [
        "## Display Misclassified Images"
      ]
    },
    {
      "cell_type": "code",
      "metadata": {
        "id": "1TN7jD3PoqZS",
        "colab_type": "code",
        "outputId": "91d7f432-7594-4b6b-bf09-e42062ee5a4f",
        "colab": {
          "base_uri": "https://localhost:8080/",
          "height": 1000
        }
      },
      "source": [
        "display_misclassfied_ciphar10_images(testloader, model, device, classes, 25)"
      ],
      "execution_count": 0,
      "outputs": [
        {
          "output_type": "stream",
          "text": [
            "/content/models/resnet18.py:67: UserWarning: Implicit dimension choice for log_softmax has been deprecated. Change the call to include dim=X as an argument.\n",
            "  return F.log_softmax(out)\n",
            "Clipping input data to the valid range for imshow with RGB data ([0..1] for floats or [0..255] for integers).\n",
            "Clipping input data to the valid range for imshow with RGB data ([0..1] for floats or [0..255] for integers).\n",
            "Clipping input data to the valid range for imshow with RGB data ([0..1] for floats or [0..255] for integers).\n",
            "Clipping input data to the valid range for imshow with RGB data ([0..1] for floats or [0..255] for integers).\n",
            "Clipping input data to the valid range for imshow with RGB data ([0..1] for floats or [0..255] for integers).\n",
            "Clipping input data to the valid range for imshow with RGB data ([0..1] for floats or [0..255] for integers).\n",
            "Clipping input data to the valid range for imshow with RGB data ([0..1] for floats or [0..255] for integers).\n",
            "Clipping input data to the valid range for imshow with RGB data ([0..1] for floats or [0..255] for integers).\n",
            "Clipping input data to the valid range for imshow with RGB data ([0..1] for floats or [0..255] for integers).\n",
            "Clipping input data to the valid range for imshow with RGB data ([0..1] for floats or [0..255] for integers).\n",
            "Clipping input data to the valid range for imshow with RGB data ([0..1] for floats or [0..255] for integers).\n",
            "Clipping input data to the valid range for imshow with RGB data ([0..1] for floats or [0..255] for integers).\n",
            "Clipping input data to the valid range for imshow with RGB data ([0..1] for floats or [0..255] for integers).\n",
            "Clipping input data to the valid range for imshow with RGB data ([0..1] for floats or [0..255] for integers).\n",
            "Clipping input data to the valid range for imshow with RGB data ([0..1] for floats or [0..255] for integers).\n",
            "Clipping input data to the valid range for imshow with RGB data ([0..1] for floats or [0..255] for integers).\n",
            "Clipping input data to the valid range for imshow with RGB data ([0..1] for floats or [0..255] for integers).\n",
            "Clipping input data to the valid range for imshow with RGB data ([0..1] for floats or [0..255] for integers).\n",
            "Clipping input data to the valid range for imshow with RGB data ([0..1] for floats or [0..255] for integers).\n",
            "Clipping input data to the valid range for imshow with RGB data ([0..1] for floats or [0..255] for integers).\n",
            "Clipping input data to the valid range for imshow with RGB data ([0..1] for floats or [0..255] for integers).\n",
            "Clipping input data to the valid range for imshow with RGB data ([0..1] for floats or [0..255] for integers).\n",
            "Clipping input data to the valid range for imshow with RGB data ([0..1] for floats or [0..255] for integers).\n",
            "Clipping input data to the valid range for imshow with RGB data ([0..1] for floats or [0..255] for integers).\n",
            "Clipping input data to the valid range for imshow with RGB data ([0..1] for floats or [0..255] for integers).\n"
          ],
          "name": "stderr"
        },
        {
          "output_type": "display_data",
          "data": {
            "image/png": "[encoded data removed]",
            "text/plain": [
              "<Figure size 1080x1080 with 25 Axes>"
            ]
          },
          "metadata": {
            "tags": []
          }
        }
      ]
    }
  ]
}