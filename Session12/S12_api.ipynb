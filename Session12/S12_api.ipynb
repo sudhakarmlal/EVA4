{
  "nbformat": 4,
  "nbformat_minor": 0,
  "metadata": {
    "kernelspec": {
      "name": "python3",
      "display_name": "Python 3"
    },
    "language_info": {
      "codemirror_mode": {
        "name": "ipython",
        "version": 3
      },
      "file_extension": ".py",
      "mimetype": "text/x-python",
      "name": "python",
      "nbconvert_exporter": "python",
      "pygments_lexer": "ipython3",
      "version": "3.6.6"
    },
    "colab": {
      "name": "S12_api.ipynb",
      "provenance": [],
      "collapsed_sections": [],
      "include_colab_link": true
    },
    "accelerator": "GPU",
    "widgets": {
      "application/vnd.jupyter.widget-state+json": {
        "7f62c624175647ec9df6afb7973f4ce5": {
          "model_module": "@jupyter-widgets/controls",
          "model_name": "HBoxModel",
          "state": {
            "_view_name": "HBoxView",
            "_dom_classes": [],
            "_model_name": "HBoxModel",
            "_view_module": "@jupyter-widgets/controls",
            "_model_module_version": "1.5.0",
            "_view_count": null,
            "_view_module_version": "1.5.0",
            "box_style": "",
            "layout": "IPY_MODEL_532792a5842248439d2678f93765f049",
            "_model_module": "@jupyter-widgets/controls",
            "children": [
              "IPY_MODEL_dd61a4e225cc41b2976a82968ff13110",
              "IPY_MODEL_df4f9fd01ccf4995a28e9dba915c25da"
            ]
          }
        },
        "532792a5842248439d2678f93765f049": {
          "model_module": "@jupyter-widgets/base",
          "model_name": "LayoutModel",
          "state": {
            "_view_name": "LayoutView",
            "grid_template_rows": null,
            "right": null,
            "justify_content": null,
            "_view_module": "@jupyter-widgets/base",
            "overflow": null,
            "_model_module_version": "1.2.0",
            "_view_count": null,
            "flex_flow": null,
            "width": null,
            "min_width": null,
            "border": null,
            "align_items": null,
            "bottom": null,
            "_model_module": "@jupyter-widgets/base",
            "top": null,
            "grid_column": null,
            "overflow_y": null,
            "overflow_x": null,
            "grid_auto_flow": null,
            "grid_area": null,
            "grid_template_columns": null,
            "flex": null,
            "_model_name": "LayoutModel",
            "justify_items": null,
            "grid_row": null,
            "max_height": null,
            "align_content": null,
            "visibility": null,
            "align_self": null,
            "height": null,
            "min_height": null,
            "padding": null,
            "grid_auto_rows": null,
            "grid_gap": null,
            "max_width": null,
            "order": null,
            "_view_module_version": "1.2.0",
            "grid_template_areas": null,
            "object_position": null,
            "object_fit": null,
            "grid_auto_columns": null,
            "margin": null,
            "display": null,
            "left": null
          }
        },
        "dd61a4e225cc41b2976a82968ff13110": {
          "model_module": "@jupyter-widgets/controls",
          "model_name": "IntProgressModel",
          "state": {
            "_view_name": "ProgressView",
            "style": "IPY_MODEL_cbdb53380693440a8a98e18af86c20cd",
            "_dom_classes": [],
            "description": "100%",
            "_model_name": "IntProgressModel",
            "bar_style": "success",
            "max": 100,
            "_view_module": "@jupyter-widgets/controls",
            "_model_module_version": "1.5.0",
            "value": 100,
            "_view_count": null,
            "_view_module_version": "1.5.0",
            "orientation": "horizontal",
            "min": 0,
            "description_tooltip": null,
            "_model_module": "@jupyter-widgets/controls",
            "layout": "IPY_MODEL_1fc9e08785ca4390957ba0b811d09716"
          }
        },
        "df4f9fd01ccf4995a28e9dba915c25da": {
          "model_module": "@jupyter-widgets/controls",
          "model_name": "HTMLModel",
          "state": {
            "_view_name": "HTMLView",
            "style": "IPY_MODEL_4dd858a2af154be094fc0284be68b99c",
            "_dom_classes": [],
            "description": "",
            "_model_name": "HTMLModel",
            "placeholder": "​",
            "_view_module": "@jupyter-widgets/controls",
            "_model_module_version": "1.5.0",
            "value": " 100/100 [00:54&lt;00:00,  1.85it/s]",
            "_view_count": null,
            "_view_module_version": "1.5.0",
            "description_tooltip": null,
            "_model_module": "@jupyter-widgets/controls",
            "layout": "IPY_MODEL_807ed57b056842f1a408d650d54c3894"
          }
        },
        "cbdb53380693440a8a98e18af86c20cd": {
          "model_module": "@jupyter-widgets/controls",
          "model_name": "ProgressStyleModel",
          "state": {
            "_view_name": "StyleView",
            "_model_name": "ProgressStyleModel",
            "description_width": "initial",
            "_view_module": "@jupyter-widgets/base",
            "_model_module_version": "1.5.0",
            "_view_count": null,
            "_view_module_version": "1.2.0",
            "bar_color": null,
            "_model_module": "@jupyter-widgets/controls"
          }
        },
        "1fc9e08785ca4390957ba0b811d09716": {
          "model_module": "@jupyter-widgets/base",
          "model_name": "LayoutModel",
          "state": {
            "_view_name": "LayoutView",
            "grid_template_rows": null,
            "right": null,
            "justify_content": null,
            "_view_module": "@jupyter-widgets/base",
            "overflow": null,
            "_model_module_version": "1.2.0",
            "_view_count": null,
            "flex_flow": null,
            "width": null,
            "min_width": null,
            "border": null,
            "align_items": null,
            "bottom": null,
            "_model_module": "@jupyter-widgets/base",
            "top": null,
            "grid_column": null,
            "overflow_y": null,
            "overflow_x": null,
            "grid_auto_flow": null,
            "grid_area": null,
            "grid_template_columns": null,
            "flex": null,
            "_model_name": "LayoutModel",
            "justify_items": null,
            "grid_row": null,
            "max_height": null,
            "align_content": null,
            "visibility": null,
            "align_self": null,
            "height": null,
            "min_height": null,
            "padding": null,
            "grid_auto_rows": null,
            "grid_gap": null,
            "max_width": null,
            "order": null,
            "_view_module_version": "1.2.0",
            "grid_template_areas": null,
            "object_position": null,
            "object_fit": null,
            "grid_auto_columns": null,
            "margin": null,
            "display": null,
            "left": null
          }
        },
        "4dd858a2af154be094fc0284be68b99c": {
          "model_module": "@jupyter-widgets/controls",
          "model_name": "DescriptionStyleModel",
          "state": {
            "_view_name": "StyleView",
            "_model_name": "DescriptionStyleModel",
            "description_width": "",
            "_view_module": "@jupyter-widgets/base",
            "_model_module_version": "1.5.0",
            "_view_count": null,
            "_view_module_version": "1.2.0",
            "_model_module": "@jupyter-widgets/controls"
          }
        },
        "807ed57b056842f1a408d650d54c3894": {
          "model_module": "@jupyter-widgets/base",
          "model_name": "LayoutModel",
          "state": {
            "_view_name": "LayoutView",
            "grid_template_rows": null,
            "right": null,
            "justify_content": null,
            "_view_module": "@jupyter-widgets/base",
            "overflow": null,
            "_model_module_version": "1.2.0",
            "_view_count": null,
            "flex_flow": null,
            "width": null,
            "min_width": null,
            "border": null,
            "align_items": null,
            "bottom": null,
            "_model_module": "@jupyter-widgets/base",
            "top": null,
            "grid_column": null,
            "overflow_y": null,
            "overflow_x": null,
            "grid_auto_flow": null,
            "grid_area": null,
            "grid_template_columns": null,
            "flex": null,
            "_model_name": "LayoutModel",
            "justify_items": null,
            "grid_row": null,
            "max_height": null,
            "align_content": null,
            "visibility": null,
            "align_self": null,
            "height": null,
            "min_height": null,
            "padding": null,
            "grid_auto_rows": null,
            "grid_gap": null,
            "max_width": null,
            "order": null,
            "_view_module_version": "1.2.0",
            "grid_template_areas": null,
            "object_position": null,
            "object_fit": null,
            "grid_auto_columns": null,
            "margin": null,
            "display": null,
            "left": null
          }
        },
        "16fe0196ce14439a878da6692abfd122": {
          "model_module": "@jupyter-widgets/controls",
          "model_name": "HBoxModel",
          "state": {
            "_view_name": "HBoxView",
            "_dom_classes": [],
            "_model_name": "HBoxModel",
            "_view_module": "@jupyter-widgets/controls",
            "_model_module_version": "1.5.0",
            "_view_count": null,
            "_view_module_version": "1.5.0",
            "box_style": "",
            "layout": "IPY_MODEL_b1d49ed83b31427890bfaef3e62f848e",
            "_model_module": "@jupyter-widgets/controls",
            "children": [
              "IPY_MODEL_37a990833e164e1a92a94cac4514966f",
              "IPY_MODEL_5431c631d472436b8bc0952f38697c04"
            ]
          }
        },
        "b1d49ed83b31427890bfaef3e62f848e": {
          "model_module": "@jupyter-widgets/base",
          "model_name": "LayoutModel",
          "state": {
            "_view_name": "LayoutView",
            "grid_template_rows": null,
            "right": null,
            "justify_content": null,
            "_view_module": "@jupyter-widgets/base",
            "overflow": null,
            "_model_module_version": "1.2.0",
            "_view_count": null,
            "flex_flow": null,
            "width": null,
            "min_width": null,
            "border": null,
            "align_items": null,
            "bottom": null,
            "_model_module": "@jupyter-widgets/base",
            "top": null,
            "grid_column": null,
            "overflow_y": null,
            "overflow_x": null,
            "grid_auto_flow": null,
            "grid_area": null,
            "grid_template_columns": null,
            "flex": null,
            "_model_name": "LayoutModel",
            "justify_items": null,
            "grid_row": null,
            "max_height": null,
            "align_content": null,
            "visibility": null,
            "align_self": null,
            "height": null,
            "min_height": null,
            "padding": null,
            "grid_auto_rows": null,
            "grid_gap": null,
            "max_width": null,
            "order": null,
            "_view_module_version": "1.2.0",
            "grid_template_areas": null,
            "object_position": null,
            "object_fit": null,
            "grid_auto_columns": null,
            "margin": null,
            "display": null,
            "left": null
          }
        },
        "37a990833e164e1a92a94cac4514966f": {
          "model_module": "@jupyter-widgets/controls",
          "model_name": "IntProgressModel",
          "state": {
            "_view_name": "ProgressView",
            "style": "IPY_MODEL_ad65205620f644e5ad7022150e0a58cb",
            "_dom_classes": [],
            "description": "100%",
            "_model_name": "IntProgressModel",
            "bar_style": "success",
            "max": 100,
            "_view_module": "@jupyter-widgets/controls",
            "_model_module_version": "1.5.0",
            "value": 100,
            "_view_count": null,
            "_view_module_version": "1.5.0",
            "orientation": "horizontal",
            "min": 0,
            "description_tooltip": null,
            "_model_module": "@jupyter-widgets/controls",
            "layout": "IPY_MODEL_e7101290a095416b97c878f3eb5a81a4"
          }
        },
        "5431c631d472436b8bc0952f38697c04": {
          "model_module": "@jupyter-widgets/controls",
          "model_name": "HTMLModel",
          "state": {
            "_view_name": "HTMLView",
            "style": "IPY_MODEL_987b34b12822454a9d680df10d90e7ad",
            "_dom_classes": [],
            "description": "",
            "_model_name": "HTMLModel",
            "placeholder": "​",
            "_view_module": "@jupyter-widgets/controls",
            "_model_module_version": "1.5.0",
            "value": " 100/100 [35:06&lt;00:00, 21.06s/it]",
            "_view_count": null,
            "_view_module_version": "1.5.0",
            "description_tooltip": null,
            "_model_module": "@jupyter-widgets/controls",
            "layout": "IPY_MODEL_265b9d5c913f4a4ebc66bc5ec9188f13"
          }
        },
        "ad65205620f644e5ad7022150e0a58cb": {
          "model_module": "@jupyter-widgets/controls",
          "model_name": "ProgressStyleModel",
          "state": {
            "_view_name": "StyleView",
            "_model_name": "ProgressStyleModel",
            "description_width": "initial",
            "_view_module": "@jupyter-widgets/base",
            "_model_module_version": "1.5.0",
            "_view_count": null,
            "_view_module_version": "1.2.0",
            "bar_color": null,
            "_model_module": "@jupyter-widgets/controls"
          }
        },
        "e7101290a095416b97c878f3eb5a81a4": {
          "model_module": "@jupyter-widgets/base",
          "model_name": "LayoutModel",
          "state": {
            "_view_name": "LayoutView",
            "grid_template_rows": null,
            "right": null,
            "justify_content": null,
            "_view_module": "@jupyter-widgets/base",
            "overflow": null,
            "_model_module_version": "1.2.0",
            "_view_count": null,
            "flex_flow": null,
            "width": null,
            "min_width": null,
            "border": null,
            "align_items": null,
            "bottom": null,
            "_model_module": "@jupyter-widgets/base",
            "top": null,
            "grid_column": null,
            "overflow_y": null,
            "overflow_x": null,
            "grid_auto_flow": null,
            "grid_area": null,
            "grid_template_columns": null,
            "flex": null,
            "_model_name": "LayoutModel",
            "justify_items": null,
            "grid_row": null,
            "max_height": null,
            "align_content": null,
            "visibility": null,
            "align_self": null,
            "height": null,
            "min_height": null,
            "padding": null,
            "grid_auto_rows": null,
            "grid_gap": null,
            "max_width": null,
            "order": null,
            "_view_module_version": "1.2.0",
            "grid_template_areas": null,
            "object_position": null,
            "object_fit": null,
            "grid_auto_columns": null,
            "margin": null,
            "display": null,
            "left": null
          }
        },
        "987b34b12822454a9d680df10d90e7ad": {
          "model_module": "@jupyter-widgets/controls",
          "model_name": "DescriptionStyleModel",
          "state": {
            "_view_name": "StyleView",
            "_model_name": "DescriptionStyleModel",
            "description_width": "",
            "_view_module": "@jupyter-widgets/base",
            "_model_module_version": "1.5.0",
            "_view_count": null,
            "_view_module_version": "1.2.0",
            "_model_module": "@jupyter-widgets/controls"
          }
        },
        "265b9d5c913f4a4ebc66bc5ec9188f13": {
          "model_module": "@jupyter-widgets/base",
          "model_name": "LayoutModel",
          "state": {
            "_view_name": "LayoutView",
            "grid_template_rows": null,
            "right": null,
            "justify_content": null,
            "_view_module": "@jupyter-widgets/base",
            "overflow": null,
            "_model_module_version": "1.2.0",
            "_view_count": null,
            "flex_flow": null,
            "width": null,
            "min_width": null,
            "border": null,
            "align_items": null,
            "bottom": null,
            "_model_module": "@jupyter-widgets/base",
            "top": null,
            "grid_column": null,
            "overflow_y": null,
            "overflow_x": null,
            "grid_auto_flow": null,
            "grid_area": null,
            "grid_template_columns": null,
            "flex": null,
            "_model_name": "LayoutModel",
            "justify_items": null,
            "grid_row": null,
            "max_height": null,
            "align_content": null,
            "visibility": null,
            "align_self": null,
            "height": null,
            "min_height": null,
            "padding": null,
            "grid_auto_rows": null,
            "grid_gap": null,
            "max_width": null,
            "order": null,
            "_view_module_version": "1.2.0",
            "grid_template_areas": null,
            "object_position": null,
            "object_fit": null,
            "grid_auto_columns": null,
            "margin": null,
            "display": null,
            "left": null
          }
        }
      }
    }
  },
  "cells": [
    {
      "cell_type": "markdown",
      "metadata": {
        "id": "view-in-github",
        "colab_type": "text"
      },
      "source": [
        "<a href=\"https://colab.research.google.com/github/monimoyd/S12/blob/master/S12_api.ipynb\" target=\"_parent\"><img src=\"https://colab.research.google.com/assets/colab-badge.svg\" alt=\"Open In Colab\"/></a>"
      ]
    },
    {
      "cell_type": "markdown",
      "metadata": {
        "id": "m5v379OF3Gli",
        "colab_type": "text"
      },
      "source": [
        "## Assignment S12\n",
        "In this assignment Resnet architecture is used to train Tiny Imagnet dataset and used Data Augmmentation. Developed APIs so as to load data, train, test and show results.\n",
        "\n",
        "Following changes are done:\n",
        "\n",
        "1. Added Data Augmentations (Albumentatons)\n",
        "i. Cutout\n",
        "ii. Horizontal Flip\n",
        "iii. Padding\n",
        "iv. Random Crop  \n",
        "\n",
        "\n",
        "2. Added LRFinder to get good starting learning rate\n",
        "3. Used ReduceLROnPlateau strategey for scheduling learning rates\n",
        "\n",
        "Got best validation accuracy: 57.63%\n"
      ]
    },
    {
      "cell_type": "code",
      "metadata": {
        "id": "ZuGQKs7W15Ox",
        "colab_type": "code",
        "colab": {}
      },
      "source": [
        "%matplotlib inline\n",
        "import autoreload\n",
        "%load_ext autoreload\n",
        "%autoreload"
      ],
      "execution_count": 0,
      "outputs": []
    },
    {
      "cell_type": "code",
      "metadata": {
        "id": "MDw1Mm4b65Ba",
        "colab_type": "code",
        "outputId": "e215a0b6-299e-496d-9352-e9fcc0d0ecb6",
        "colab": {
          "base_uri": "https://localhost:8080/",
          "height": 751
        }
      },
      "source": [
        "!pip install -U git+https://github.com/albu/albumentations --no-cache-dir"
      ],
      "execution_count": 0,
      "outputs": [
        {
          "output_type": "stream",
          "text": [
            "Collecting git+https://github.com/albu/albumentations\n",
            "  Cloning https://github.com/albu/albumentations to /tmp/pip-req-build-og5_kkc9\n",
            "  Running command git clone -q https://github.com/albu/albumentations /tmp/pip-req-build-og5_kkc9\n",
            "Requirement already satisfied, skipping upgrade: numpy>=1.11.1 in /usr/local/lib/python3.6/dist-packages (from albumentations==0.4.5) (1.18.2)\n",
            "Requirement already satisfied, skipping upgrade: scipy in /usr/local/lib/python3.6/dist-packages (from albumentations==0.4.5) (1.4.1)\n",
            "Collecting imgaug<0.2.7,>=0.2.5\n",
            "\u001b[?25l  Downloading https://files.pythonhosted.org/packages/ad/2e/748dbb7bb52ec8667098bae9b585f448569ae520031932687761165419a2/imgaug-0.2.6.tar.gz (631kB)\n",
            "\u001b[K     |████████████████████████████████| 634kB 2.7MB/s \n",
            "\u001b[?25hRequirement already satisfied, skipping upgrade: PyYAML in /usr/local/lib/python3.6/dist-packages (from albumentations==0.4.5) (3.13)\n",
            "Requirement already satisfied, skipping upgrade: opencv-python>=4.1.1 in /usr/local/lib/python3.6/dist-packages (from albumentations==0.4.5) (4.1.2.30)\n",
            "Requirement already satisfied, skipping upgrade: scikit-image>=0.11.0 in /usr/local/lib/python3.6/dist-packages (from imgaug<0.2.7,>=0.2.5->albumentations==0.4.5) (0.16.2)\n",
            "Requirement already satisfied, skipping upgrade: six in /usr/local/lib/python3.6/dist-packages (from imgaug<0.2.7,>=0.2.5->albumentations==0.4.5) (1.12.0)\n",
            "Requirement already satisfied, skipping upgrade: matplotlib!=3.0.0,>=2.0.0 in /usr/local/lib/python3.6/dist-packages (from scikit-image>=0.11.0->imgaug<0.2.7,>=0.2.5->albumentations==0.4.5) (3.2.1)\n",
            "Requirement already satisfied, skipping upgrade: networkx>=2.0 in /usr/local/lib/python3.6/dist-packages (from scikit-image>=0.11.0->imgaug<0.2.7,>=0.2.5->albumentations==0.4.5) (2.4)\n",
            "Requirement already satisfied, skipping upgrade: PyWavelets>=0.4.0 in /usr/local/lib/python3.6/dist-packages (from scikit-image>=0.11.0->imgaug<0.2.7,>=0.2.5->albumentations==0.4.5) (1.1.1)\n",
            "Requirement already satisfied, skipping upgrade: pillow>=4.3.0 in /usr/local/lib/python3.6/dist-packages (from scikit-image>=0.11.0->imgaug<0.2.7,>=0.2.5->albumentations==0.4.5) (7.0.0)\n",
            "Requirement already satisfied, skipping upgrade: imageio>=2.3.0 in /usr/local/lib/python3.6/dist-packages (from scikit-image>=0.11.0->imgaug<0.2.7,>=0.2.5->albumentations==0.4.5) (2.4.1)\n",
            "Requirement already satisfied, skipping upgrade: pyparsing!=2.0.4,!=2.1.2,!=2.1.6,>=2.0.1 in /usr/local/lib/python3.6/dist-packages (from matplotlib!=3.0.0,>=2.0.0->scikit-image>=0.11.0->imgaug<0.2.7,>=0.2.5->albumentations==0.4.5) (2.4.7)\n",
            "Requirement already satisfied, skipping upgrade: kiwisolver>=1.0.1 in /usr/local/lib/python3.6/dist-packages (from matplotlib!=3.0.0,>=2.0.0->scikit-image>=0.11.0->imgaug<0.2.7,>=0.2.5->albumentations==0.4.5) (1.2.0)\n",
            "Requirement already satisfied, skipping upgrade: python-dateutil>=2.1 in /usr/local/lib/python3.6/dist-packages (from matplotlib!=3.0.0,>=2.0.0->scikit-image>=0.11.0->imgaug<0.2.7,>=0.2.5->albumentations==0.4.5) (2.8.1)\n",
            "Requirement already satisfied, skipping upgrade: cycler>=0.10 in /usr/local/lib/python3.6/dist-packages (from matplotlib!=3.0.0,>=2.0.0->scikit-image>=0.11.0->imgaug<0.2.7,>=0.2.5->albumentations==0.4.5) (0.10.0)\n",
            "Requirement already satisfied, skipping upgrade: decorator>=4.3.0 in /usr/local/lib/python3.6/dist-packages (from networkx>=2.0->scikit-image>=0.11.0->imgaug<0.2.7,>=0.2.5->albumentations==0.4.5) (4.4.2)\n",
            "Building wheels for collected packages: albumentations, imgaug\n",
            "  Building wheel for albumentations (setup.py) ... \u001b[?25l\u001b[?25hdone\n",
            "  Created wheel for albumentations: filename=albumentations-0.4.5-cp36-none-any.whl size=65099 sha256=c1c1b4e7e0d4c5d593b8e6dec88e9cd5aa7e05c981440b64494eb84b84c15e1c\n",
            "  Stored in directory: /tmp/pip-ephem-wheel-cache-gyqu83zt/wheels/45/8b/e4/2837bbcf517d00732b8e394f8646f22b8723ac00993230188b\n",
            "  Building wheel for imgaug (setup.py) ... \u001b[?25l\u001b[?25hdone\n",
            "  Created wheel for imgaug: filename=imgaug-0.2.6-cp36-none-any.whl size=654020 sha256=9b54402f44c0677922a496d733698603197936ec2e604fcb77ea5a135a1d3a87\n",
            "  Stored in directory: /tmp/pip-ephem-wheel-cache-gyqu83zt/wheels/97/ec/48/0d25896c417b715af6236dbcef8f0bed136a1a5e52972fc6d0\n",
            "Successfully built albumentations imgaug\n",
            "Installing collected packages: imgaug, albumentations\n",
            "  Found existing installation: imgaug 0.2.9\n",
            "    Uninstalling imgaug-0.2.9:\n",
            "      Successfully uninstalled imgaug-0.2.9\n",
            "  Found existing installation: albumentations 0.1.12\n",
            "    Uninstalling albumentations-0.1.12:\n",
            "      Successfully uninstalled albumentations-0.1.12\n",
            "Successfully installed albumentations-0.4.5 imgaug-0.2.6\n"
          ],
          "name": "stdout"
        }
      ]
    },
    {
      "cell_type": "markdown",
      "metadata": {
        "id": "PHxEgr32_4GA",
        "colab_type": "text"
      },
      "source": [
        "## Mount the google drive"
      ]
    },
    {
      "cell_type": "code",
      "metadata": {
        "id": "1svzhJmJHiy2",
        "colab_type": "code",
        "outputId": "6aeb7c22-53bd-419b-d343-02042599833c",
        "colab": {
          "base_uri": "https://localhost:8080/",
          "height": 131
        }
      },
      "source": [
        "# Mount the google drive\n",
        "from google.colab import drive\n",
        "drive.mount('/content/drive')"
      ],
      "execution_count": 0,
      "outputs": [
        {
          "output_type": "stream",
          "text": [
            "Go to this URL in a browser: https://accounts.google.com/o/oauth2/auth?client_id=947318989803-6bn6qk8qdgf4n4g3pfee6491hc0brc4i.apps.googleusercontent.com&redirect_uri=urn%3aietf%3awg%3aoauth%3a2.0%3aoob&response_type=code&scope=email%20https%3a%2f%2fwww.googleapis.com%2fauth%2fdocs.test%20https%3a%2f%2fwww.googleapis.com%2fauth%2fdrive%20https%3a%2f%2fwww.googleapis.com%2fauth%2fdrive.photos.readonly%20https%3a%2f%2fwww.googleapis.com%2fauth%2fpeopleapi.readonly\n",
            "\n",
            "Enter your authorization code:\n",
            "··········\n",
            "Mounted at /content/drive\n"
          ],
          "name": "stdout"
        }
      ]
    },
    {
      "cell_type": "markdown",
      "metadata": {
        "id": "3awkU30f_9ON",
        "colab_type": "text"
      },
      "source": [
        "## Copy all the API python files from the google drive to local folder\n",
        "\n",
        "Follwing python files are imported from google drive. Purpsoe of these files are as below:\n",
        "\n",
        "model.py - Defines the model class Net\n",
        "train_test.py- API for training and testing\n",
        "accuracy_utils - API foro getting test accuracy and per class accuracy\n",
        "data_loader.py - API for loading train and test data\n",
        "data_transform.py - API for transforming and normalizing data\n",
        "plot_metrics.py - API for plotting metrics"
      ]
    },
    {
      "cell_type": "code",
      "metadata": {
        "id": "d3CNguMQInXJ",
        "colab_type": "code",
        "colab": {}
      },
      "source": [
        "!cp -rf '/content/drive/My Drive/eva_apis/data_loaders' .\n",
        "!cp -rf '/content/drive/My Drive/eva_apis/data_transformations' .\n",
        "!cp -rf '/content/drive/My Drive/eva_apis/models' .\n",
        "!cp -rf '/content/drive/My Drive/eva_apis/utils' ."
      ],
      "execution_count": 0,
      "outputs": []
    },
    {
      "cell_type": "markdown",
      "metadata": {
        "id": "MIj2IjlxAL19",
        "colab_type": "text"
      },
      "source": [
        "## Import all the libraries"
      ]
    },
    {
      "cell_type": "code",
      "metadata": {
        "id": "z_lhg_WOddeW",
        "colab_type": "code",
        "colab": {}
      },
      "source": [
        "from PIL import Image\n",
        "import cv2\n",
        "import numpy as np\n",
        "import torch\n",
        "import torchvision\n",
        "import torch.nn as nn\n",
        "import torch.nn.functional as F\n",
        "from data_transformations.data_transform_tiny_imagenet_resnet import get_train_transform_64, get_train_transform_48, get_train_transform_32, get_test_transform\n",
        "from data_loaders.tiny_imagenet_data_loader import perform_train_validation_split, get_classes,get_train_loader, get_test_loader\n",
        "from models.resnet18 import ResNet18\n",
        "from utils.train_test_utils import train,test\n",
        "from utils.accuracy_utils import get_test_accuracy,get_accuracy_per_class\n",
        "from utils.plot_metrics_utils import plot_accuracy\n",
        "from utils.misclassified_image_utils import  display_misclassfied_ciphar10_images\n",
        "import torchvision.datasets as datasets\n",
        "import torch.utils.data as data\n",
        "import os\n",
        "import re\n",
        "\n",
        "\n"
      ],
      "execution_count": 0,
      "outputs": []
    },
    {
      "cell_type": "code",
      "metadata": {
        "id": "BsfUlox4Xdvx",
        "colab_type": "code",
        "colab": {}
      },
      "source": [
        ""
      ],
      "execution_count": 0,
      "outputs": []
    },
    {
      "cell_type": "markdown",
      "metadata": {
        "id": "fPogbueepoCh",
        "colab_type": "text"
      },
      "source": [
        "\n",
        "Training a Classifier\n",
        "=====================\n",
        "\n",
        "\n",
        "\n",
        "Training an image classifier\n",
        "----------------------------\n",
        "\n",
        "I have done the following steps in order:\n",
        "\n",
        "1. Load and normalizing the Tiny Imagement training and test datasets using\n",
        "   ``torchvision``\n",
        "2. Define a Convolution Neural Network\n",
        "3. Define a loss function\n",
        "4. Train the network on the training data\n",
        "5. Test the network on the test data\n",
        "\n",
        "\n",
        "\n"
      ]
    },
    {
      "cell_type": "markdown",
      "metadata": {
        "id": "5kjt4e2TpoCk",
        "colab_type": "text"
      },
      "source": [
        " ## 1. Loading and normalizing Tiny Imagenet\n",
        "\n",
        " I have used APIs get_train_loader, get_test_loader to load train data and test data respectively. Both the APIs internally uses torchvision. I have used get_transform API to transform tensors in the range [-1,1]\n",
        "\n"
      ]
    },
    {
      "cell_type": "code",
      "metadata": {
        "id": "fPPTRkEK_NP1",
        "colab_type": "code",
        "outputId": "cb68ea73-8766-4d22-a742-5b3d2a5d7321",
        "colab": {
          "base_uri": "https://localhost:8080/",
          "height": 224
        }
      },
      "source": [
        "!wget  http://cs231n.stanford.edu/tiny-imagenet-200.zip"
      ],
      "execution_count": 0,
      "outputs": [
        {
          "output_type": "stream",
          "text": [
            "--2020-04-18 10:45:52--  http://cs231n.stanford.edu/tiny-imagenet-200.zip\n",
            "Resolving cs231n.stanford.edu (cs231n.stanford.edu)... 171.64.68.10\n",
            "Connecting to cs231n.stanford.edu (cs231n.stanford.edu)|171.64.68.10|:80... connected.\n",
            "HTTP request sent, awaiting response... 200 OK\n",
            "Length: 248100043 (237M) [application/zip]\n",
            "Saving to: ‘tiny-imagenet-200.zip’\n",
            "\n",
            "tiny-imagenet-200.z 100%[===================>] 236.61M  20.4MB/s    in 14s     \n",
            "\n",
            "2020-04-18 10:46:07 (16.4 MB/s) - ‘tiny-imagenet-200.zip’ saved [248100043/248100043]\n",
            "\n"
          ],
          "name": "stdout"
        }
      ]
    },
    {
      "cell_type": "code",
      "metadata": {
        "id": "yhXIdfs0_sKe",
        "colab_type": "code",
        "colab": {}
      },
      "source": [
        "!rm -rf tiny-imagenet-200\n",
        "!unzip -qq tiny-imagenet-200.zip"
      ],
      "execution_count": 0,
      "outputs": []
    },
    {
      "cell_type": "markdown",
      "metadata": {
        "id": "ZouXfJ32Rkfe",
        "colab_type": "text"
      },
      "source": [
        "## Perform 70:30 split between training and validation"
      ]
    },
    {
      "cell_type": "code",
      "metadata": {
        "id": "1lD9az5Tu-2d",
        "colab_type": "code",
        "colab": {}
      },
      "source": [
        "perform_train_validation_split(\tbase_dir= './tiny-imagenet-200', validation_split = 0.3)"
      ],
      "execution_count": 0,
      "outputs": []
    },
    {
      "cell_type": "code",
      "metadata": {
        "id": "9xKZ7brRv43Y",
        "colab_type": "code",
        "colab": {}
      },
      "source": [
        "transform_train = get_train_transform_64()\n",
        "transform_test = get_test_transform()\n",
        "\n",
        "\n",
        "trainloader = get_train_loader('./tiny-imagenet-200', 256, transform_train)\n",
        "testloader = get_test_loader('./tiny-imagenet-200',256, transform_test)\n"
      ],
      "execution_count": 0,
      "outputs": []
    },
    {
      "cell_type": "code",
      "metadata": {
        "id": "lPG87l9bbi9b",
        "colab_type": "code",
        "colab": {}
      },
      "source": [
        "classes = get_classes('./tiny-imagenet-200')"
      ],
      "execution_count": 0,
      "outputs": []
    },
    {
      "cell_type": "markdown",
      "metadata": {
        "id": "_cj433rtpoCn",
        "colab_type": "text"
      },
      "source": [
        "## Visualizing some of the images in train dataset\n",
        "\n"
      ]
    },
    {
      "cell_type": "code",
      "metadata": {
        "id": "daA7bADhpoCo",
        "colab_type": "code",
        "outputId": "cb32e1a1-9863-4fc2-f13b-5df94b9e193c",
        "colab": {
          "base_uri": "https://localhost:8080/",
          "height": 307
        }
      },
      "source": [
        "import matplotlib.pyplot as plt\n",
        "import numpy as np\n",
        "\n",
        "# functions to show an image\n",
        "\n",
        "\n",
        "def imshow(img):\n",
        "    img = img / 2 + 0.5     # unnormalize\n",
        "    npimg = img.numpy()\n",
        "    plt.imshow(np.transpose(npimg, (1, 2, 0)))\n",
        "\n",
        "\n",
        "# get some random training images\n",
        "dataiter = iter(trainloader)\n",
        "images, labels = dataiter.next()\n",
        "\n",
        "# show images\n",
        "imshow(torchvision.utils.make_grid(images))\n",
        "# print labels\n",
        "print(' '.join('%5s' % classes[labels[j]] for j in range(4)))"
      ],
      "execution_count": 0,
      "outputs": [
        {
          "output_type": "stream",
          "text": [
            "Clipping input data to the valid range for imshow with RGB data ([0..1] for floats or [0..255] for integers).\n"
          ],
          "name": "stderr"
        },
        {
          "output_type": "stream",
          "text": [
            "n03085013 n01917289 n01644900 n04562935\n"
          ],
          "name": "stdout"
        },
        {
          "output_type": "display_data",
          "data": {
            "image/png": "[encoded data removed]",
            "text/plain": [
              "<Figure size 432x288 with 1 Axes>"
            ]
          },
          "metadata": {
            "tags": [],
            "needs_background": "light"
          }
        }
      ]
    },
    {
      "cell_type": "markdown",
      "metadata": {
        "id": "28OpHA_LpoCq",
        "colab_type": "text"
      },
      "source": [
        "## 2. Define a Convolution Neural Network\n",
        "\n",
        "I have defined the basic ResNet18 model and added dropout to it\n",
        "\n"
      ]
    },
    {
      "cell_type": "code",
      "metadata": {
        "id": "cgAZxHIgtPTd",
        "colab_type": "code",
        "outputId": "fbb1f91d-9204-4598-d6b3-7d86bb4b53b0",
        "colab": {
          "base_uri": "https://localhost:8080/",
          "height": 1000
        }
      },
      "source": [
        "!pip install torchsummary\n",
        "from torchsummary import summary\n",
        "use_cuda = torch.cuda.is_available()\n",
        "device = torch.device(\"cuda\" if use_cuda else \"cpu\")\n",
        "model =  ResNet18(num_classes=200).to(device)\n",
        "summary(model, input_size=(3, 64, 64))"
      ],
      "execution_count": 0,
      "outputs": [
        {
          "output_type": "stream",
          "text": [
            "Requirement already satisfied: torchsummary in /usr/local/lib/python3.6/dist-packages (1.5.1)\n",
            "----------------------------------------------------------------\n",
            "        Layer (type)               Output Shape         Param #\n",
            "================================================================\n",
            "            Conv2d-1           [-1, 64, 64, 64]           1,728\n",
            "       BatchNorm2d-2           [-1, 64, 64, 64]             128\n",
            "            Conv2d-3           [-1, 64, 64, 64]          36,864\n",
            "       BatchNorm2d-4           [-1, 64, 64, 64]             128\n",
            "         Dropout2d-5           [-1, 64, 64, 64]               0\n",
            "            Conv2d-6           [-1, 64, 64, 64]          36,864\n",
            "       BatchNorm2d-7           [-1, 64, 64, 64]             128\n",
            "         Dropout2d-8           [-1, 64, 64, 64]               0\n",
            "        BasicBlock-9           [-1, 64, 64, 64]               0\n",
            "           Conv2d-10           [-1, 64, 64, 64]          36,864\n",
            "      BatchNorm2d-11           [-1, 64, 64, 64]             128\n",
            "        Dropout2d-12           [-1, 64, 64, 64]               0\n",
            "           Conv2d-13           [-1, 64, 64, 64]          36,864\n",
            "      BatchNorm2d-14           [-1, 64, 64, 64]             128\n",
            "        Dropout2d-15           [-1, 64, 64, 64]               0\n",
            "       BasicBlock-16           [-1, 64, 64, 64]               0\n",
            "           Conv2d-17          [-1, 128, 32, 32]          73,728\n",
            "      BatchNorm2d-18          [-1, 128, 32, 32]             256\n",
            "        Dropout2d-19          [-1, 128, 32, 32]               0\n",
            "           Conv2d-20          [-1, 128, 32, 32]         147,456\n",
            "      BatchNorm2d-21          [-1, 128, 32, 32]             256\n",
            "        Dropout2d-22          [-1, 128, 32, 32]               0\n",
            "           Conv2d-23          [-1, 128, 32, 32]           8,192\n",
            "      BatchNorm2d-24          [-1, 128, 32, 32]             256\n",
            "        Dropout2d-25          [-1, 128, 32, 32]               0\n",
            "       BasicBlock-26          [-1, 128, 32, 32]               0\n",
            "           Conv2d-27          [-1, 128, 32, 32]         147,456\n",
            "      BatchNorm2d-28          [-1, 128, 32, 32]             256\n",
            "        Dropout2d-29          [-1, 128, 32, 32]               0\n",
            "           Conv2d-30          [-1, 128, 32, 32]         147,456\n",
            "      BatchNorm2d-31          [-1, 128, 32, 32]             256\n",
            "        Dropout2d-32          [-1, 128, 32, 32]               0\n",
            "       BasicBlock-33          [-1, 128, 32, 32]               0\n",
            "           Conv2d-34          [-1, 256, 16, 16]         294,912\n",
            "      BatchNorm2d-35          [-1, 256, 16, 16]             512\n",
            "        Dropout2d-36          [-1, 256, 16, 16]               0\n",
            "           Conv2d-37          [-1, 256, 16, 16]         589,824\n",
            "      BatchNorm2d-38          [-1, 256, 16, 16]             512\n",
            "        Dropout2d-39          [-1, 256, 16, 16]               0\n",
            "           Conv2d-40          [-1, 256, 16, 16]          32,768\n",
            "      BatchNorm2d-41          [-1, 256, 16, 16]             512\n",
            "        Dropout2d-42          [-1, 256, 16, 16]               0\n",
            "       BasicBlock-43          [-1, 256, 16, 16]               0\n",
            "           Conv2d-44          [-1, 256, 16, 16]         589,824\n",
            "      BatchNorm2d-45          [-1, 256, 16, 16]             512\n",
            "        Dropout2d-46          [-1, 256, 16, 16]               0\n",
            "           Conv2d-47          [-1, 256, 16, 16]         589,824\n",
            "      BatchNorm2d-48          [-1, 256, 16, 16]             512\n",
            "        Dropout2d-49          [-1, 256, 16, 16]               0\n",
            "       BasicBlock-50          [-1, 256, 16, 16]               0\n",
            "           Conv2d-51            [-1, 512, 8, 8]       1,179,648\n",
            "      BatchNorm2d-52            [-1, 512, 8, 8]           1,024\n",
            "        Dropout2d-53            [-1, 512, 8, 8]               0\n",
            "           Conv2d-54            [-1, 512, 8, 8]       2,359,296\n",
            "      BatchNorm2d-55            [-1, 512, 8, 8]           1,024\n",
            "        Dropout2d-56            [-1, 512, 8, 8]               0\n",
            "           Conv2d-57            [-1, 512, 8, 8]         131,072\n",
            "      BatchNorm2d-58            [-1, 512, 8, 8]           1,024\n",
            "        Dropout2d-59            [-1, 512, 8, 8]               0\n",
            "       BasicBlock-60            [-1, 512, 8, 8]               0\n",
            "           Conv2d-61            [-1, 512, 8, 8]       2,359,296\n",
            "      BatchNorm2d-62            [-1, 512, 8, 8]           1,024\n",
            "        Dropout2d-63            [-1, 512, 8, 8]               0\n",
            "           Conv2d-64            [-1, 512, 8, 8]       2,359,296\n",
            "      BatchNorm2d-65            [-1, 512, 8, 8]           1,024\n",
            "        Dropout2d-66            [-1, 512, 8, 8]               0\n",
            "       BasicBlock-67            [-1, 512, 8, 8]               0\n",
            "           Linear-68                  [-1, 200]         102,600\n",
            "================================================================\n",
            "Total params: 11,271,432\n",
            "Trainable params: 11,271,432\n",
            "Non-trainable params: 0\n",
            "----------------------------------------------------------------\n",
            "Input size (MB): 0.05\n",
            "Forward/backward pass size (MB): 61.75\n",
            "Params size (MB): 43.00\n",
            "Estimated Total Size (MB): 104.80\n",
            "----------------------------------------------------------------\n"
          ],
          "name": "stdout"
        },
        {
          "output_type": "stream",
          "text": [
            "/content/models/resnet18.py:67: UserWarning: Implicit dimension choice for log_softmax has been deprecated. Change the call to include dim=X as an argument.\n",
            "  return F.log_softmax(out)\n"
          ],
          "name": "stderr"
        }
      ]
    },
    {
      "cell_type": "markdown",
      "metadata": {
        "id": "Wdw2NNCUpoCu",
        "colab_type": "text"
      },
      "source": [
        "## 3. Define a Loss function and optimizer and train the model\n",
        "\n",
        "I have used Classification Cross-Entropy loss and SGD with learning rate 0.01 with momentum 0.9.\n",
        "\n",
        "## 4. Train the model\n",
        "\n",
        " I have used 100 epochs to train the model"
      ]
    },
    {
      "cell_type": "code",
      "metadata": {
        "id": "ksFv0IkHwHAQ",
        "colab_type": "code",
        "colab": {}
      },
      "source": [
        "from tqdm import tqdm\n",
        "\n",
        "train_losses = []\n",
        "test_losses = []\n",
        "train_acc = []\n",
        "test_acc = []\n",
        "\n"
      ],
      "execution_count": 0,
      "outputs": []
    },
    {
      "cell_type": "code",
      "metadata": {
        "id": "4HG15n4ZPINt",
        "colab_type": "code",
        "outputId": "3838dfa6-5758-46aa-c14f-7ff7fd2b5f2b",
        "colab": {
          "base_uri": "https://localhost:8080/",
          "height": 281
        }
      },
      "source": [
        "!pip install torch-lr-finder"
      ],
      "execution_count": 0,
      "outputs": [
        {
          "output_type": "stream",
          "text": [
            "Collecting torch-lr-finder\n",
            "  Downloading https://files.pythonhosted.org/packages/68/06/7301400132b63f96c3b4f5fbb5033130b9d07b85c9e0e247d4ac03451d80/torch_lr_finder-0.1.4-py3-none-any.whl\n",
            "Requirement already satisfied: tqdm in /usr/local/lib/python3.6/dist-packages (from torch-lr-finder) (4.38.0)\n",
            "Requirement already satisfied: matplotlib in /usr/local/lib/python3.6/dist-packages (from torch-lr-finder) (3.2.1)\n",
            "Requirement already satisfied: numpy in /usr/local/lib/python3.6/dist-packages (from torch-lr-finder) (1.18.2)\n",
            "Requirement already satisfied: torch>=0.4.1 in /usr/local/lib/python3.6/dist-packages (from torch-lr-finder) (1.4.0)\n",
            "Requirement already satisfied: python-dateutil>=2.1 in /usr/local/lib/python3.6/dist-packages (from matplotlib->torch-lr-finder) (2.8.1)\n",
            "Requirement already satisfied: pyparsing!=2.0.4,!=2.1.2,!=2.1.6,>=2.0.1 in /usr/local/lib/python3.6/dist-packages (from matplotlib->torch-lr-finder) (2.4.7)\n",
            "Requirement already satisfied: kiwisolver>=1.0.1 in /usr/local/lib/python3.6/dist-packages (from matplotlib->torch-lr-finder) (1.2.0)\n",
            "Requirement already satisfied: cycler>=0.10 in /usr/local/lib/python3.6/dist-packages (from matplotlib->torch-lr-finder) (0.10.0)\n",
            "Requirement already satisfied: six>=1.5 in /usr/local/lib/python3.6/dist-packages (from python-dateutil>=2.1->matplotlib->torch-lr-finder) (1.12.0)\n",
            "Installing collected packages: torch-lr-finder\n",
            "Successfully installed torch-lr-finder-0.1.4\n"
          ],
          "name": "stdout"
        }
      ]
    },
    {
      "cell_type": "markdown",
      "metadata": {
        "id": "WbPEipaHiUWn",
        "colab_type": "text"
      },
      "source": [
        "## Use LRFinder to find good starting learning rate\n",
        "\n",
        "- First use exponetial step mode to find good learning rate range between 0.001 and 10\n",
        "- Next use linear step mode to find good learning rate"
      ]
    },
    {
      "cell_type": "code",
      "metadata": {
        "id": "z-pWootndKci",
        "colab_type": "code",
        "outputId": "d2d59f06-3a53-45aa-b96d-3cd54ed467aa",
        "colab": {
          "base_uri": "https://localhost:8080/",
          "height": 225
        }
      },
      "source": [
        "!pip install torch-lr-finder"
      ],
      "execution_count": 0,
      "outputs": [
        {
          "output_type": "stream",
          "text": [
            "Requirement already satisfied: torch-lr-finder in /usr/local/lib/python3.6/dist-packages (0.1.4)\n",
            "Requirement already satisfied: torch>=0.4.1 in /usr/local/lib/python3.6/dist-packages (from torch-lr-finder) (1.4.0)\n",
            "Requirement already satisfied: numpy in /usr/local/lib/python3.6/dist-packages (from torch-lr-finder) (1.18.2)\n",
            "Requirement already satisfied: tqdm in /usr/local/lib/python3.6/dist-packages (from torch-lr-finder) (4.38.0)\n",
            "Requirement already satisfied: matplotlib in /usr/local/lib/python3.6/dist-packages (from torch-lr-finder) (3.2.1)\n",
            "Requirement already satisfied: cycler>=0.10 in /usr/local/lib/python3.6/dist-packages (from matplotlib->torch-lr-finder) (0.10.0)\n",
            "Requirement already satisfied: kiwisolver>=1.0.1 in /usr/local/lib/python3.6/dist-packages (from matplotlib->torch-lr-finder) (1.2.0)\n",
            "Requirement already satisfied: pyparsing!=2.0.4,!=2.1.2,!=2.1.6,>=2.0.1 in /usr/local/lib/python3.6/dist-packages (from matplotlib->torch-lr-finder) (2.4.7)\n",
            "Requirement already satisfied: python-dateutil>=2.1 in /usr/local/lib/python3.6/dist-packages (from matplotlib->torch-lr-finder) (2.8.1)\n",
            "Requirement already satisfied: six in /usr/local/lib/python3.6/dist-packages (from cycler>=0.10->matplotlib->torch-lr-finder) (1.12.0)\n"
          ],
          "name": "stdout"
        }
      ]
    },
    {
      "cell_type": "code",
      "metadata": {
        "id": "hnL3gT_2QEMS",
        "colab_type": "code",
        "outputId": "ebbca302-24e8-49da-d105-0db47d1dd10c",
        "colab": {
          "base_uri": "https://localhost:8080/",
          "height": 448,
          "referenced_widgets": [
            "7f62c624175647ec9df6afb7973f4ce5",
            "532792a5842248439d2678f93765f049",
            "dd61a4e225cc41b2976a82968ff13110",
            "df4f9fd01ccf4995a28e9dba915c25da",
            "cbdb53380693440a8a98e18af86c20cd",
            "1fc9e08785ca4390957ba0b811d09716",
            "4dd858a2af154be094fc0284be68b99c",
            "807ed57b056842f1a408d650d54c3894"
          ]
        }
      },
      "source": [
        "import torch.optim as optim\n",
        "from torch_lr_finder import LRFinder\n",
        "\n",
        "model =  ResNet18(num_classes=200).to(device)\n",
        "optimizer = optim.SGD(model.parameters(), lr=0.001, momentum=0.9, weight_decay=0.0001)\n",
        "criterion = nn.CrossEntropyLoss()\n",
        "#optimizer = optim.Adam(model.parameters(), lr=1e-3, weight_decay=1e-2)\n",
        "lr_finder = LRFinder(model, optimizer, criterion, device=\"cuda\")\n",
        "lr_finder.range_test(trainloader, end_lr=10, num_iter=100)\n",
        "lr_finder.plot() # to inspect the loss-learning rate graph\n",
        "lr_finder.reset() # to reset the model and optimizer to their initial state"
      ],
      "execution_count": 0,
      "outputs": [
        {
          "output_type": "stream",
          "text": [
            "WARNING:torch_lr_finder.lr_finder:To enable mixed precision training, please install `apex`. Or you can re-install this package by the following command:\n",
            "  pip install torch-lr-finder -v --global-option=\"amp\"\n"
          ],
          "name": "stderr"
        },
        {
          "output_type": "display_data",
          "data": {
            "application/vnd.jupyter.widget-view+json": {
              "model_id": "7f62c624175647ec9df6afb7973f4ce5",
              "version_minor": 0,
              "version_major": 2
            },
            "text/plain": [
              "HBox(children=(IntProgress(value=0), HTML(value='')))"
            ]
          },
          "metadata": {
            "tags": []
          }
        },
        {
          "output_type": "stream",
          "text": [
            "/content/models/resnet18.py:67: UserWarning: Implicit dimension choice for log_softmax has been deprecated. Change the call to include dim=X as an argument.\n",
            "  return F.log_softmax(out)\n"
          ],
          "name": "stderr"
        },
        {
          "output_type": "stream",
          "text": [
            "\n",
            "Learning rate search finished. See the graph with {finder_name}.plot()\n"
          ],
          "name": "stdout"
        },
        {
          "output_type": "display_data",
          "data": {
            "image/png": "[encoded data removed]",
            "text/plain": [
              "<Figure size 432x288 with 1 Axes>"
            ]
          },
          "metadata": {
            "tags": [],
            "needs_background": "light"
          }
        }
      ]
    },
    {
      "cell_type": "code",
      "metadata": {
        "id": "_JPb5lg0Rjms",
        "colab_type": "code",
        "outputId": "534646f6-e006-42be-80b9-6e4c56e7fcd3",
        "colab": {
          "base_uri": "https://localhost:8080/",
          "height": 410,
          "referenced_widgets": [
            "16fe0196ce14439a878da6692abfd122",
            "b1d49ed83b31427890bfaef3e62f848e",
            "37a990833e164e1a92a94cac4514966f",
            "5431c631d472436b8bc0952f38697c04",
            "ad65205620f644e5ad7022150e0a58cb",
            "e7101290a095416b97c878f3eb5a81a4",
            "987b34b12822454a9d680df10d90e7ad",
            "265b9d5c913f4a4ebc66bc5ec9188f13"
          ]
        }
      },
      "source": [
        "from torch_lr_finder import LRFinder\n",
        "\n",
        "optimizer = optim.SGD(model.parameters(), lr=0.01, momentum=0.9, weight_decay=0.0001)\n",
        "lr_finder = LRFinder(model, optimizer, criterion, device=\"cuda\")\n",
        "lr_finder.range_test(trainloader, val_loader=testloader, end_lr=0.1, num_iter=100, step_mode=\"linear\")\n",
        "lr_finder.plot(log_lr=False)\n",
        "lr_finder.reset()"
      ],
      "execution_count": 0,
      "outputs": [
        {
          "output_type": "display_data",
          "data": {
            "application/vnd.jupyter.widget-view+json": {
              "model_id": "16fe0196ce14439a878da6692abfd122",
              "version_minor": 0,
              "version_major": 2
            },
            "text/plain": [
              "HBox(children=(IntProgress(value=0), HTML(value='')))"
            ]
          },
          "metadata": {
            "tags": []
          }
        },
        {
          "output_type": "stream",
          "text": [
            "/content/models/resnet18.py:67: UserWarning: Implicit dimension choice for log_softmax has been deprecated. Change the call to include dim=X as an argument.\n",
            "  return F.log_softmax(out)\n"
          ],
          "name": "stderr"
        },
        {
          "output_type": "stream",
          "text": [
            "\n",
            "Learning rate search finished. See the graph with {finder_name}.plot()\n"
          ],
          "name": "stdout"
        },
        {
          "output_type": "display_data",
          "data": {
            "image/png": "[encoded data removed]",
            "text/plain": [
              "<Figure size 432x288 with 1 Axes>"
            ]
          },
          "metadata": {
            "tags": [],
            "needs_background": "light"
          }
        }
      ]
    },
    {
      "cell_type": "markdown",
      "metadata": {
        "id": "iRcJ5VDcdC3i",
        "colab_type": "text"
      },
      "source": [
        "## 3. Define a Loss function and optimizer and train the model\n",
        "\n",
        "I have used Classification Cross-Entropy loss and SGD with learning rate 0.01 with momentum 0.9.\n",
        "\n",
        "## 4. Train the model\n",
        "\n",
        " I have used 50 epochs to train the model"
      ]
    },
    {
      "cell_type": "code",
      "metadata": {
        "id": "kPIL9vfRc5X2",
        "colab_type": "code",
        "colab": {}
      },
      "source": [
        "from tqdm import tqdm\n",
        "\n",
        "train_losses = []\n",
        "test_losses = []\n",
        "train_acc = []\n",
        "test_acc = []"
      ],
      "execution_count": 0,
      "outputs": []
    },
    {
      "cell_type": "code",
      "metadata": {
        "id": "_-JeGhHqwNX5",
        "colab_type": "code",
        "outputId": "abe9fc7d-8473-4aec-c0ec-aa5334b60159",
        "colab": {
          "base_uri": "https://localhost:8080/",
          "height": 1000
        }
      },
      "source": [
        "from torch.optim.lr_scheduler import ReduceLROnPlateau\n",
        "import torch.optim as optim\n",
        "import os\n",
        "\n",
        "model =  ResNet18(num_classes=200).to(device)\n",
        "optimizer = optim.SGD(model.parameters(), lr=0.03, momentum=0.9, weight_decay=0.0001)\n",
        "\n",
        "EPOCHS = 50\n",
        "scheduler = ReduceLROnPlateau(optimizer, mode='max', factor=0.1, patience=3, verbose=True)\n",
        "\n",
        "\n",
        "PATH = '/content/drive/My Drive/tiny_imagenet_api.pth'\n",
        "torch.save(model.state_dict(), PATH)\n",
        "best_test_accuracy = 0.0\n",
        "for epoch in range(EPOCHS):\n",
        "    print(\"EPOCH:\", epoch)\n",
        "    train(model, device, trainloader, optimizer, epoch, train_losses,scheduler,train_acc)\n",
        "    test(model, device, testloader, test_losses, test_acc)\n",
        "    t_acc = test_acc[-1]\n",
        "    if t_acc > best_test_accuracy:\n",
        "        print(\"Test Accuracy: \" + str(t_acc) + \" has increased. Saving the model\")\n",
        "        best_test_accuracy = t_acc\n",
        "        torch.save(model.state_dict(), PATH)\n",
        "    \n",
        "    scheduler.step(t_acc)"
      ],
      "execution_count": 0,
      "outputs": [
        {
          "output_type": "stream",
          "text": [
            "\r  0%|          | 0/301 [00:00<?, ?it/s]"
          ],
          "name": "stderr"
        },
        {
          "output_type": "stream",
          "text": [
            "EPOCH: 0\n"
          ],
          "name": "stdout"
        },
        {
          "output_type": "stream",
          "text": [
            "/content/models/resnet18.py:67: UserWarning: Implicit dimension choice for log_softmax has been deprecated. Change the call to include dim=X as an argument.\n",
            "  return F.log_softmax(out)\n",
            "Loss=3.98915958404541 Batch_id=300 Accuracy=7.63: 100%|██████████| 301/301 [02:40<00:00,  1.88it/s]\n",
            "  0%|          | 0/301 [00:00<?, ?it/s]"
          ],
          "name": "stderr"
        },
        {
          "output_type": "stream",
          "text": [
            "\n",
            "Test set: Average loss: 4.0998, Accuracy: 4122/33000 (12.49%)\n",
            "\n",
            "Test Accuracy: 12.49090909090909 has increased. Saving the model\n",
            "EPOCH: 1\n"
          ],
          "name": "stdout"
        },
        {
          "output_type": "stream",
          "text": [
            "Loss=3.395766019821167 Batch_id=300 Accuracy=17.06: 100%|██████████| 301/301 [02:40<00:00,  1.88it/s]\n",
            "  0%|          | 0/301 [00:00<?, ?it/s]"
          ],
          "name": "stderr"
        },
        {
          "output_type": "stream",
          "text": [
            "\n",
            "Test set: Average loss: 3.6514, Accuracy: 6112/33000 (18.52%)\n",
            "\n",
            "Test Accuracy: 18.52121212121212 has increased. Saving the model\n",
            "EPOCH: 2\n"
          ],
          "name": "stdout"
        },
        {
          "output_type": "stream",
          "text": [
            "Loss=3.1553375720977783 Batch_id=300 Accuracy=23.99: 100%|██████████| 301/301 [02:40<00:00,  1.88it/s]\n",
            "  0%|          | 0/301 [00:00<?, ?it/s]"
          ],
          "name": "stderr"
        },
        {
          "output_type": "stream",
          "text": [
            "\n",
            "Test set: Average loss: 3.6035, Accuracy: 6745/33000 (20.44%)\n",
            "\n",
            "Test Accuracy: 20.439393939393938 has increased. Saving the model\n",
            "EPOCH: 3\n"
          ],
          "name": "stdout"
        },
        {
          "output_type": "stream",
          "text": [
            "Loss=2.6533355712890625 Batch_id=300 Accuracy=29.83: 100%|██████████| 301/301 [02:40<00:00,  1.88it/s]\n",
            "  0%|          | 0/301 [00:00<?, ?it/s]"
          ],
          "name": "stderr"
        },
        {
          "output_type": "stream",
          "text": [
            "\n",
            "Test set: Average loss: 3.3887, Accuracy: 8460/33000 (25.64%)\n",
            "\n",
            "Test Accuracy: 25.636363636363637 has increased. Saving the model\n",
            "EPOCH: 4\n"
          ],
          "name": "stdout"
        },
        {
          "output_type": "stream",
          "text": [
            "Loss=2.826256036758423 Batch_id=300 Accuracy=34.42: 100%|██████████| 301/301 [02:40<00:00,  1.88it/s]\n",
            "  0%|          | 0/301 [00:00<?, ?it/s]"
          ],
          "name": "stderr"
        },
        {
          "output_type": "stream",
          "text": [
            "\n",
            "Test set: Average loss: 3.1200, Accuracy: 9509/33000 (28.82%)\n",
            "\n",
            "Test Accuracy: 28.815151515151516 has increased. Saving the model\n",
            "EPOCH: 5\n"
          ],
          "name": "stdout"
        },
        {
          "output_type": "stream",
          "text": [
            "Loss=2.6071584224700928 Batch_id=300 Accuracy=38.32: 100%|██████████| 301/301 [02:40<00:00,  1.88it/s]\n"
          ],
          "name": "stderr"
        },
        {
          "output_type": "stream",
          "text": [
            "\n",
            "Test set: Average loss: 3.0480, Accuracy: 10393/33000 (31.49%)\n",
            "\n",
            "Test Accuracy: 31.493939393939392 has increased. Saving the model\n"
          ],
          "name": "stdout"
        },
        {
          "output_type": "stream",
          "text": [
            "\r  0%|          | 0/301 [00:00<?, ?it/s]"
          ],
          "name": "stderr"
        },
        {
          "output_type": "stream",
          "text": [
            "EPOCH: 6\n"
          ],
          "name": "stdout"
        },
        {
          "output_type": "stream",
          "text": [
            "Loss=2.54276704788208 Batch_id=300 Accuracy=41.74: 100%|██████████| 301/301 [02:40<00:00,  1.88it/s]\n",
            "  0%|          | 0/301 [00:00<?, ?it/s]"
          ],
          "name": "stderr"
        },
        {
          "output_type": "stream",
          "text": [
            "\n",
            "Test set: Average loss: 3.0162, Accuracy: 10630/33000 (32.21%)\n",
            "\n",
            "Test Accuracy: 32.21212121212121 has increased. Saving the model\n",
            "EPOCH: 7\n"
          ],
          "name": "stdout"
        },
        {
          "output_type": "stream",
          "text": [
            "Loss=2.2909600734710693 Batch_id=300 Accuracy=44.58: 100%|██████████| 301/301 [02:40<00:00,  1.88it/s]\n"
          ],
          "name": "stderr"
        },
        {
          "output_type": "stream",
          "text": [
            "\n",
            "Test set: Average loss: 2.6820, Accuracy: 12401/33000 (37.58%)\n",
            "\n",
            "Test Accuracy: 37.57878787878788 has increased. Saving the model\n"
          ],
          "name": "stdout"
        },
        {
          "output_type": "stream",
          "text": [
            "\r  0%|          | 0/301 [00:00<?, ?it/s]"
          ],
          "name": "stderr"
        },
        {
          "output_type": "stream",
          "text": [
            "EPOCH: 8\n"
          ],
          "name": "stdout"
        },
        {
          "output_type": "stream",
          "text": [
            "Loss=2.0117502212524414 Batch_id=300 Accuracy=47.37: 100%|██████████| 301/301 [02:40<00:00,  1.88it/s]\n",
            "  0%|          | 0/301 [00:00<?, ?it/s]"
          ],
          "name": "stderr"
        },
        {
          "output_type": "stream",
          "text": [
            "\n",
            "Test set: Average loss: 2.4918, Accuracy: 13766/33000 (41.72%)\n",
            "\n",
            "Test Accuracy: 41.71515151515152 has increased. Saving the model\n",
            "EPOCH: 9\n"
          ],
          "name": "stdout"
        },
        {
          "output_type": "stream",
          "text": [
            "Loss=1.8194875717163086 Batch_id=300 Accuracy=49.80: 100%|██████████| 301/301 [02:40<00:00,  1.88it/s]\n",
            "  0%|          | 0/301 [00:00<?, ?it/s]"
          ],
          "name": "stderr"
        },
        {
          "output_type": "stream",
          "text": [
            "\n",
            "Test set: Average loss: 2.5589, Accuracy: 13467/33000 (40.81%)\n",
            "\n",
            "EPOCH: 10\n"
          ],
          "name": "stdout"
        },
        {
          "output_type": "stream",
          "text": [
            "Loss=1.8340742588043213 Batch_id=300 Accuracy=52.11: 100%|██████████| 301/301 [02:40<00:00,  1.88it/s]\n",
            "  0%|          | 0/301 [00:00<?, ?it/s]"
          ],
          "name": "stderr"
        },
        {
          "output_type": "stream",
          "text": [
            "\n",
            "Test set: Average loss: 2.6692, Accuracy: 13209/33000 (40.03%)\n",
            "\n",
            "EPOCH: 11\n"
          ],
          "name": "stdout"
        },
        {
          "output_type": "stream",
          "text": [
            "Loss=1.8309625387191772 Batch_id=300 Accuracy=54.52: 100%|██████████| 301/301 [02:40<00:00,  1.88it/s]\n",
            "  0%|          | 0/301 [00:00<?, ?it/s]"
          ],
          "name": "stderr"
        },
        {
          "output_type": "stream",
          "text": [
            "\n",
            "Test set: Average loss: 2.4857, Accuracy: 14140/33000 (42.85%)\n",
            "\n",
            "Test Accuracy: 42.84848484848485 has increased. Saving the model\n",
            "EPOCH: 12\n"
          ],
          "name": "stdout"
        },
        {
          "output_type": "stream",
          "text": [
            "Loss=1.7697503566741943 Batch_id=300 Accuracy=56.65: 100%|██████████| 301/301 [02:40<00:00,  1.87it/s]\n",
            "  0%|          | 0/301 [00:00<?, ?it/s]"
          ],
          "name": "stderr"
        },
        {
          "output_type": "stream",
          "text": [
            "\n",
            "Test set: Average loss: 2.5061, Accuracy: 14246/33000 (43.17%)\n",
            "\n",
            "Test Accuracy: 43.16969696969697 has increased. Saving the model\n",
            "EPOCH: 13\n"
          ],
          "name": "stdout"
        },
        {
          "output_type": "stream",
          "text": [
            "Loss=1.572629451751709 Batch_id=300 Accuracy=58.56: 100%|██████████| 301/301 [02:40<00:00,  1.87it/s]\n",
            "  0%|          | 0/301 [00:00<?, ?it/s]"
          ],
          "name": "stderr"
        },
        {
          "output_type": "stream",
          "text": [
            "\n",
            "Test set: Average loss: 2.3978, Accuracy: 14596/33000 (44.23%)\n",
            "\n",
            "Test Accuracy: 44.23030303030303 has increased. Saving the model\n",
            "EPOCH: 14\n"
          ],
          "name": "stdout"
        },
        {
          "output_type": "stream",
          "text": [
            "Loss=1.6023739576339722 Batch_id=300 Accuracy=60.48: 100%|██████████| 301/301 [02:40<00:00,  1.87it/s]\n",
            "  0%|          | 0/301 [00:00<?, ?it/s]"
          ],
          "name": "stderr"
        },
        {
          "output_type": "stream",
          "text": [
            "\n",
            "Test set: Average loss: 2.4219, Accuracy: 14759/33000 (44.72%)\n",
            "\n",
            "Test Accuracy: 44.724242424242426 has increased. Saving the model\n",
            "EPOCH: 15\n"
          ],
          "name": "stdout"
        },
        {
          "output_type": "stream",
          "text": [
            "Loss=1.4915084838867188 Batch_id=300 Accuracy=62.91: 100%|██████████| 301/301 [02:40<00:00,  1.87it/s]\n",
            "  0%|          | 0/301 [00:00<?, ?it/s]"
          ],
          "name": "stderr"
        },
        {
          "output_type": "stream",
          "text": [
            "\n",
            "Test set: Average loss: 2.4757, Accuracy: 14881/33000 (45.09%)\n",
            "\n",
            "Test Accuracy: 45.093939393939394 has increased. Saving the model\n",
            "EPOCH: 16\n"
          ],
          "name": "stdout"
        },
        {
          "output_type": "stream",
          "text": [
            "Loss=1.436549186706543 Batch_id=300 Accuracy=64.72: 100%|██████████| 301/301 [02:40<00:00,  1.87it/s]\n",
            "  0%|          | 0/301 [00:00<?, ?it/s]"
          ],
          "name": "stderr"
        },
        {
          "output_type": "stream",
          "text": [
            "\n",
            "Test set: Average loss: 2.7204, Accuracy: 13915/33000 (42.17%)\n",
            "\n",
            "EPOCH: 17\n"
          ],
          "name": "stdout"
        },
        {
          "output_type": "stream",
          "text": [
            "Loss=1.2038782835006714 Batch_id=300 Accuracy=66.75: 100%|██████████| 301/301 [02:41<00:00,  1.87it/s]\n",
            "  0%|          | 0/301 [00:00<?, ?it/s]"
          ],
          "name": "stderr"
        },
        {
          "output_type": "stream",
          "text": [
            "\n",
            "Test set: Average loss: 2.2634, Accuracy: 15992/33000 (48.46%)\n",
            "\n",
            "Test Accuracy: 48.46060606060606 has increased. Saving the model\n",
            "EPOCH: 18\n"
          ],
          "name": "stdout"
        },
        {
          "output_type": "stream",
          "text": [
            "Loss=1.2667856216430664 Batch_id=300 Accuracy=68.61: 100%|██████████| 301/301 [02:41<00:00,  1.87it/s]\n",
            "  0%|          | 0/301 [00:00<?, ?it/s]"
          ],
          "name": "stderr"
        },
        {
          "output_type": "stream",
          "text": [
            "\n",
            "Test set: Average loss: 2.2374, Accuracy: 16128/33000 (48.87%)\n",
            "\n",
            "Test Accuracy: 48.872727272727275 has increased. Saving the model\n",
            "EPOCH: 19\n"
          ],
          "name": "stdout"
        },
        {
          "output_type": "stream",
          "text": [
            "Loss=1.2075985670089722 Batch_id=300 Accuracy=70.98: 100%|██████████| 301/301 [02:41<00:00,  1.87it/s]\n",
            "  0%|          | 0/301 [00:00<?, ?it/s]"
          ],
          "name": "stderr"
        },
        {
          "output_type": "stream",
          "text": [
            "\n",
            "Test set: Average loss: 2.4748, Accuracy: 15325/33000 (46.44%)\n",
            "\n",
            "EPOCH: 20\n"
          ],
          "name": "stdout"
        },
        {
          "output_type": "stream",
          "text": [
            "Loss=0.9515381455421448 Batch_id=300 Accuracy=72.79: 100%|██████████| 301/301 [02:41<00:00,  1.87it/s]\n",
            "  0%|          | 0/301 [00:00<?, ?it/s]"
          ],
          "name": "stderr"
        },
        {
          "output_type": "stream",
          "text": [
            "\n",
            "Test set: Average loss: 2.5206, Accuracy: 15713/33000 (47.62%)\n",
            "\n",
            "EPOCH: 21\n"
          ],
          "name": "stdout"
        },
        {
          "output_type": "stream",
          "text": [
            "Loss=0.9224180579185486 Batch_id=300 Accuracy=74.84: 100%|██████████| 301/301 [02:40<00:00,  1.87it/s]\n",
            "  0%|          | 0/301 [00:00<?, ?it/s]"
          ],
          "name": "stderr"
        },
        {
          "output_type": "stream",
          "text": [
            "\n",
            "Test set: Average loss: 2.2855, Accuracy: 16684/33000 (50.56%)\n",
            "\n",
            "Test Accuracy: 50.557575757575755 has increased. Saving the model\n",
            "EPOCH: 22\n"
          ],
          "name": "stdout"
        },
        {
          "output_type": "stream",
          "text": [
            "Loss=0.9565443992614746 Batch_id=300 Accuracy=76.93: 100%|██████████| 301/301 [02:40<00:00,  1.87it/s]\n",
            "  0%|          | 0/301 [00:00<?, ?it/s]"
          ],
          "name": "stderr"
        },
        {
          "output_type": "stream",
          "text": [
            "\n",
            "Test set: Average loss: 2.5213, Accuracy: 15563/33000 (47.16%)\n",
            "\n",
            "EPOCH: 23\n"
          ],
          "name": "stdout"
        },
        {
          "output_type": "stream",
          "text": [
            "Loss=0.7767124772071838 Batch_id=300 Accuracy=78.82: 100%|██████████| 301/301 [02:41<00:00,  1.87it/s]\n",
            "  0%|          | 0/301 [00:00<?, ?it/s]"
          ],
          "name": "stderr"
        },
        {
          "output_type": "stream",
          "text": [
            "\n",
            "Test set: Average loss: 2.5366, Accuracy: 15877/33000 (48.11%)\n",
            "\n",
            "EPOCH: 24\n"
          ],
          "name": "stdout"
        },
        {
          "output_type": "stream",
          "text": [
            "Loss=0.86639803647995 Batch_id=300 Accuracy=80.58: 100%|██████████| 301/301 [02:40<00:00,  1.87it/s]\n",
            "  0%|          | 0/301 [00:00<?, ?it/s]"
          ],
          "name": "stderr"
        },
        {
          "output_type": "stream",
          "text": [
            "\n",
            "Test set: Average loss: 2.6409, Accuracy: 15714/33000 (47.62%)\n",
            "\n",
            "EPOCH: 25\n"
          ],
          "name": "stdout"
        },
        {
          "output_type": "stream",
          "text": [
            "Loss=0.6751415729522705 Batch_id=300 Accuracy=82.57: 100%|██████████| 301/301 [02:41<00:00,  1.87it/s]\n",
            "  0%|          | 0/301 [00:00<?, ?it/s]"
          ],
          "name": "stderr"
        },
        {
          "output_type": "stream",
          "text": [
            "\n",
            "Test set: Average loss: 2.5740, Accuracy: 16196/33000 (49.08%)\n",
            "\n",
            "Epoch    26: reducing learning rate of group 0 to 3.0000e-03.\n",
            "EPOCH: 26\n"
          ],
          "name": "stdout"
        },
        {
          "output_type": "stream",
          "text": [
            "Loss=0.29948121309280396 Batch_id=300 Accuracy=92.16: 100%|██████████| 301/301 [02:40<00:00,  1.87it/s]\n",
            "  0%|          | 0/301 [00:00<?, ?it/s]"
          ],
          "name": "stderr"
        },
        {
          "output_type": "stream",
          "text": [
            "\n",
            "Test set: Average loss: 2.0082, Accuracy: 18923/33000 (57.34%)\n",
            "\n",
            "Test Accuracy: 57.342424242424244 has increased. Saving the model\n",
            "EPOCH: 27\n"
          ],
          "name": "stdout"
        },
        {
          "output_type": "stream",
          "text": [
            "Loss=0.23654073476791382 Batch_id=300 Accuracy=94.74: 100%|██████████| 301/301 [02:41<00:00,  1.87it/s]\n",
            "  0%|          | 0/301 [00:00<?, ?it/s]"
          ],
          "name": "stderr"
        },
        {
          "output_type": "stream",
          "text": [
            "\n",
            "Test set: Average loss: 2.0061, Accuracy: 18880/33000 (57.21%)\n",
            "\n",
            "EPOCH: 28\n"
          ],
          "name": "stdout"
        },
        {
          "output_type": "stream",
          "text": [
            "Loss=0.2394806295633316 Batch_id=300 Accuracy=95.55: 100%|██████████| 301/301 [02:41<00:00,  1.87it/s]\n",
            "  0%|          | 0/301 [00:00<?, ?it/s]"
          ],
          "name": "stderr"
        },
        {
          "output_type": "stream",
          "text": [
            "\n",
            "Test set: Average loss: 2.0118, Accuracy: 18952/33000 (57.43%)\n",
            "\n",
            "Test Accuracy: 57.43030303030303 has increased. Saving the model\n",
            "EPOCH: 29\n"
          ],
          "name": "stdout"
        },
        {
          "output_type": "stream",
          "text": [
            "Loss=0.20941688120365143 Batch_id=300 Accuracy=96.09: 100%|██████████| 301/301 [02:41<00:00,  1.87it/s]\n",
            "  0%|          | 0/301 [00:00<?, ?it/s]"
          ],
          "name": "stderr"
        },
        {
          "output_type": "stream",
          "text": [
            "\n",
            "Test set: Average loss: 2.0181, Accuracy: 18960/33000 (57.45%)\n",
            "\n",
            "Test Accuracy: 57.45454545454545 has increased. Saving the model\n",
            "EPOCH: 30\n"
          ],
          "name": "stdout"
        },
        {
          "output_type": "stream",
          "text": [
            "Loss=0.23883403837680817 Batch_id=300 Accuracy=96.46: 100%|██████████| 301/301 [02:41<00:00,  1.87it/s]\n",
            "  0%|          | 0/301 [00:00<?, ?it/s]"
          ],
          "name": "stderr"
        },
        {
          "output_type": "stream",
          "text": [
            "\n",
            "Test set: Average loss: 2.0225, Accuracy: 18926/33000 (57.35%)\n",
            "\n",
            "EPOCH: 31\n"
          ],
          "name": "stdout"
        },
        {
          "output_type": "stream",
          "text": [
            "Loss=0.18699483573436737 Batch_id=300 Accuracy=96.81: 100%|██████████| 301/301 [02:40<00:00,  1.87it/s]\n",
            "  0%|          | 0/301 [00:00<?, ?it/s]"
          ],
          "name": "stderr"
        },
        {
          "output_type": "stream",
          "text": [
            "\n",
            "Test set: Average loss: 2.0294, Accuracy: 18957/33000 (57.45%)\n",
            "\n",
            "EPOCH: 32\n"
          ],
          "name": "stdout"
        },
        {
          "output_type": "stream",
          "text": [
            "Loss=0.1887464076280594 Batch_id=300 Accuracy=97.09: 100%|██████████| 301/301 [02:41<00:00,  1.87it/s]\n",
            "  0%|          | 0/301 [00:00<?, ?it/s]"
          ],
          "name": "stderr"
        },
        {
          "output_type": "stream",
          "text": [
            "\n",
            "Test set: Average loss: 2.0413, Accuracy: 18920/33000 (57.33%)\n",
            "\n",
            "EPOCH: 33\n"
          ],
          "name": "stdout"
        },
        {
          "output_type": "stream",
          "text": [
            "Loss=0.18676960468292236 Batch_id=300 Accuracy=97.26: 100%|██████████| 301/301 [02:41<00:00,  1.87it/s]\n",
            "  0%|          | 0/301 [00:00<?, ?it/s]"
          ],
          "name": "stderr"
        },
        {
          "output_type": "stream",
          "text": [
            "\n",
            "Test set: Average loss: 2.0494, Accuracy: 18917/33000 (57.32%)\n",
            "\n",
            "Epoch    34: reducing learning rate of group 0 to 3.0000e-04.\n",
            "EPOCH: 34\n"
          ],
          "name": "stdout"
        },
        {
          "output_type": "stream",
          "text": [
            "Loss=0.17679676413536072 Batch_id=300 Accuracy=97.60: 100%|██████████| 301/301 [02:41<00:00,  1.87it/s]\n",
            "  0%|          | 0/301 [00:00<?, ?it/s]"
          ],
          "name": "stderr"
        },
        {
          "output_type": "stream",
          "text": [
            "\n",
            "Test set: Average loss: 2.0413, Accuracy: 18965/33000 (57.47%)\n",
            "\n",
            "Test Accuracy: 57.46969696969697 has increased. Saving the model\n",
            "EPOCH: 35\n"
          ],
          "name": "stdout"
        },
        {
          "output_type": "stream",
          "text": [
            "Loss=0.1456754356622696 Batch_id=300 Accuracy=97.61: 100%|██████████| 301/301 [02:41<00:00,  1.87it/s]\n",
            "  0%|          | 0/301 [00:00<?, ?it/s]"
          ],
          "name": "stderr"
        },
        {
          "output_type": "stream",
          "text": [
            "\n",
            "Test set: Average loss: 2.0409, Accuracy: 18952/33000 (57.43%)\n",
            "\n",
            "EPOCH: 36\n"
          ],
          "name": "stdout"
        },
        {
          "output_type": "stream",
          "text": [
            "Loss=0.14365851879119873 Batch_id=300 Accuracy=97.75: 100%|██████████| 301/301 [02:40<00:00,  1.87it/s]\n",
            "  0%|          | 0/301 [00:00<?, ?it/s]"
          ],
          "name": "stderr"
        },
        {
          "output_type": "stream",
          "text": [
            "\n",
            "Test set: Average loss: 2.0431, Accuracy: 18965/33000 (57.47%)\n",
            "\n",
            "EPOCH: 37\n"
          ],
          "name": "stdout"
        },
        {
          "output_type": "stream",
          "text": [
            "Loss=0.1653047800064087 Batch_id=300 Accuracy=97.74: 100%|██████████| 301/301 [02:41<00:00,  1.87it/s]\n",
            "  0%|          | 0/301 [00:00<?, ?it/s]"
          ],
          "name": "stderr"
        },
        {
          "output_type": "stream",
          "text": [
            "\n",
            "Test set: Average loss: 2.0413, Accuracy: 19000/33000 (57.58%)\n",
            "\n",
            "Test Accuracy: 57.57575757575758 has increased. Saving the model\n",
            "EPOCH: 38\n"
          ],
          "name": "stdout"
        },
        {
          "output_type": "stream",
          "text": [
            "Loss=0.1710677146911621 Batch_id=300 Accuracy=97.89: 100%|██████████| 301/301 [02:41<00:00,  1.87it/s]\n",
            "  0%|          | 0/301 [00:00<?, ?it/s]"
          ],
          "name": "stderr"
        },
        {
          "output_type": "stream",
          "text": [
            "\n",
            "Test set: Average loss: 2.0397, Accuracy: 19013/33000 (57.62%)\n",
            "\n",
            "Test Accuracy: 57.61515151515152 has increased. Saving the model\n",
            "EPOCH: 39\n"
          ],
          "name": "stdout"
        },
        {
          "output_type": "stream",
          "text": [
            "Loss=0.16321639716625214 Batch_id=300 Accuracy=97.69: 100%|██████████| 301/301 [02:40<00:00,  1.87it/s]\n",
            "  0%|          | 0/301 [00:00<?, ?it/s]"
          ],
          "name": "stderr"
        },
        {
          "output_type": "stream",
          "text": [
            "\n",
            "Test set: Average loss: 2.0442, Accuracy: 18980/33000 (57.52%)\n",
            "\n",
            "EPOCH: 40\n"
          ],
          "name": "stdout"
        },
        {
          "output_type": "stream",
          "text": [
            "Loss=0.22983628511428833 Batch_id=300 Accuracy=97.84: 100%|██████████| 301/301 [02:41<00:00,  1.87it/s]\n",
            "  0%|          | 0/301 [00:00<?, ?it/s]"
          ],
          "name": "stderr"
        },
        {
          "output_type": "stream",
          "text": [
            "\n",
            "Test set: Average loss: 2.0477, Accuracy: 19018/33000 (57.63%)\n",
            "\n",
            "Test Accuracy: 57.63030303030303 has increased. Saving the model\n",
            "EPOCH: 41\n"
          ],
          "name": "stdout"
        },
        {
          "output_type": "stream",
          "text": [
            "Loss=0.13034731149673462 Batch_id=300 Accuracy=97.86: 100%|██████████| 301/301 [02:41<00:00,  1.87it/s]\n",
            "  0%|          | 0/301 [00:00<?, ?it/s]"
          ],
          "name": "stderr"
        },
        {
          "output_type": "stream",
          "text": [
            "\n",
            "Test set: Average loss: 2.0431, Accuracy: 18998/33000 (57.57%)\n",
            "\n",
            "EPOCH: 42\n"
          ],
          "name": "stdout"
        },
        {
          "output_type": "stream",
          "text": [
            "Loss=0.12656143307685852 Batch_id=300 Accuracy=97.79: 100%|██████████| 301/301 [02:40<00:00,  1.87it/s]\n",
            "  0%|          | 0/301 [00:00<?, ?it/s]"
          ],
          "name": "stderr"
        },
        {
          "output_type": "stream",
          "text": [
            "\n",
            "Test set: Average loss: 2.0465, Accuracy: 19004/33000 (57.59%)\n",
            "\n",
            "EPOCH: 43\n"
          ],
          "name": "stdout"
        },
        {
          "output_type": "stream",
          "text": [
            "Loss=0.18834079802036285 Batch_id=300 Accuracy=97.89: 100%|██████████| 301/301 [02:40<00:00,  1.87it/s]\n",
            "  0%|          | 0/301 [00:00<?, ?it/s]"
          ],
          "name": "stderr"
        },
        {
          "output_type": "stream",
          "text": [
            "\n",
            "Test set: Average loss: 2.0494, Accuracy: 18998/33000 (57.57%)\n",
            "\n",
            "EPOCH: 44\n"
          ],
          "name": "stdout"
        },
        {
          "output_type": "stream",
          "text": [
            "Loss=0.16565436124801636 Batch_id=300 Accuracy=97.82: 100%|██████████| 301/301 [02:40<00:00,  1.87it/s]\n",
            "  0%|          | 0/301 [00:00<?, ?it/s]"
          ],
          "name": "stderr"
        },
        {
          "output_type": "stream",
          "text": [
            "\n",
            "Test set: Average loss: 2.0507, Accuracy: 18959/33000 (57.45%)\n",
            "\n",
            "Epoch    45: reducing learning rate of group 0 to 3.0000e-05.\n",
            "EPOCH: 45\n"
          ],
          "name": "stdout"
        },
        {
          "output_type": "stream",
          "text": [
            "Loss=0.11036140471696854 Batch_id=300 Accuracy=97.90: 100%|██████████| 301/301 [02:40<00:00,  1.87it/s]\n",
            "  0%|          | 0/301 [00:00<?, ?it/s]"
          ],
          "name": "stderr"
        },
        {
          "output_type": "stream",
          "text": [
            "\n",
            "Test set: Average loss: 2.0483, Accuracy: 18986/33000 (57.53%)\n",
            "\n",
            "EPOCH: 46\n"
          ],
          "name": "stdout"
        },
        {
          "output_type": "stream",
          "text": [
            "Loss=0.09492652863264084 Batch_id=300 Accuracy=97.94: 100%|██████████| 301/301 [02:41<00:00,  1.87it/s]\n",
            "  0%|          | 0/301 [00:00<?, ?it/s]"
          ],
          "name": "stderr"
        },
        {
          "output_type": "stream",
          "text": [
            "\n",
            "Test set: Average loss: 2.0510, Accuracy: 18981/33000 (57.52%)\n",
            "\n",
            "EPOCH: 47\n"
          ],
          "name": "stdout"
        },
        {
          "output_type": "stream",
          "text": [
            "Loss=0.15976817905902863 Batch_id=300 Accuracy=97.94: 100%|██████████| 301/301 [02:41<00:00,  1.87it/s]\n",
            "  0%|          | 0/301 [00:00<?, ?it/s]"
          ],
          "name": "stderr"
        },
        {
          "output_type": "stream",
          "text": [
            "\n",
            "Test set: Average loss: 2.0460, Accuracy: 18993/33000 (57.55%)\n",
            "\n",
            "EPOCH: 48\n"
          ],
          "name": "stdout"
        },
        {
          "output_type": "stream",
          "text": [
            "Loss=0.15874356031417847 Batch_id=300 Accuracy=97.92: 100%|██████████| 301/301 [02:41<00:00,  1.87it/s]\n",
            "  0%|          | 0/301 [00:00<?, ?it/s]"
          ],
          "name": "stderr"
        },
        {
          "output_type": "stream",
          "text": [
            "\n",
            "Test set: Average loss: 2.0475, Accuracy: 18977/33000 (57.51%)\n",
            "\n",
            "Epoch    49: reducing learning rate of group 0 to 3.0000e-06.\n",
            "EPOCH: 49\n"
          ],
          "name": "stdout"
        },
        {
          "output_type": "stream",
          "text": [
            "Loss=0.13912276923656464 Batch_id=300 Accuracy=97.87: 100%|██████████| 301/301 [02:40<00:00,  1.87it/s]\n"
          ],
          "name": "stderr"
        },
        {
          "output_type": "stream",
          "text": [
            "\n",
            "Test set: Average loss: 2.0446, Accuracy: 18988/33000 (57.54%)\n",
            "\n"
          ],
          "name": "stdout"
        }
      ]
    },
    {
      "cell_type": "code",
      "metadata": {
        "id": "OcKOUFFDXYux",
        "colab_type": "code",
        "colab": {}
      },
      "source": [
        ""
      ],
      "execution_count": 0,
      "outputs": []
    },
    {
      "cell_type": "markdown",
      "metadata": {
        "id": "_4j3fch1H8Qt",
        "colab_type": "text"
      },
      "source": [
        "## Load the Best Model"
      ]
    },
    {
      "cell_type": "code",
      "metadata": {
        "id": "OoEYJfcC4pJN",
        "colab_type": "code",
        "outputId": "ca7d712b-3dc7-4b1d-a172-2f3b4cf91120",
        "colab": {
          "base_uri": "https://localhost:8080/",
          "height": 36
        }
      },
      "source": [
        "model.load_state_dict(torch.load(PATH))"
      ],
      "execution_count": 0,
      "outputs": [
        {
          "output_type": "execute_result",
          "data": {
            "text/plain": [
              "<All keys matched successfully>"
            ]
          },
          "metadata": {
            "tags": []
          },
          "execution_count": 21
        }
      ]
    },
    {
      "cell_type": "markdown",
      "metadata": {
        "id": "YLrvL_fHpoC5",
        "colab_type": "text"
      },
      "source": [
        "## 5. Test the network on the test data \n",
        "\n",
        "\n",
        "In this step\n",
        "- A few actual images are shown with label.\n",
        "- Next print the test accuracy using API get_test_accuracy\n",
        "- Next diplay class level accuracy using API get_accuracy_per_class which will give idea about which all classes prediction was good and which all classes prediction was not that good\n",
        "\n"
      ]
    },
    {
      "cell_type": "code",
      "metadata": {
        "id": "nizbsvw9poC6",
        "colab_type": "code",
        "outputId": "678348d6-ef36-47ad-fe43-019d42232c9d",
        "colab": {
          "base_uri": "https://localhost:8080/",
          "height": 307
        }
      },
      "source": [
        "dataiter = iter(testloader)\n",
        "images, labels = dataiter.next()\n",
        "\n",
        "# print images\n",
        "imshow(torchvision.utils.make_grid(images))\n",
        "print('GroundTruth: ', ' '.join('%5s' % classes[labels[j]] for j in range(4)))"
      ],
      "execution_count": 0,
      "outputs": [
        {
          "output_type": "stream",
          "text": [
            "WARNING:matplotlib.image:Clipping input data to the valid range for imshow with RGB data ([0..1] for floats or [0..255] for integers).\n"
          ],
          "name": "stderr"
        },
        {
          "output_type": "stream",
          "text": [
            "GroundTruth:  n01443537 n01443537 n01443537 n01443537\n"
          ],
          "name": "stdout"
        },
        {
          "output_type": "display_data",
          "data": {
            "image/png": "[encoded data removed]",
            "text/plain": [
              "<Figure size 432x288 with 1 Axes>"
            ]
          },
          "metadata": {
            "tags": [],
            "needs_background": "light"
          }
        }
      ]
    },
    {
      "cell_type": "markdown",
      "metadata": {
        "id": "DAx4QPHVpoC8",
        "colab_type": "text"
      },
      "source": [
        "Okay, now let us see what the neural network thinks these examples above are:\n",
        "\n"
      ]
    },
    {
      "cell_type": "code",
      "metadata": {
        "id": "HVLjlssWpoC9",
        "colab_type": "code",
        "outputId": "dd8cfd99-a1d9-4c10-9d33-ef951e183e5c",
        "colab": {
          "base_uri": "https://localhost:8080/",
          "height": 75
        }
      },
      "source": [
        "with torch.no_grad():\n",
        "    images, labels = images.to(device), labels.to(device)\n",
        "    outputs = model(images) "
      ],
      "execution_count": 0,
      "outputs": [
        {
          "output_type": "stream",
          "text": [
            "/content/models/resnet18.py:67: UserWarning: Implicit dimension choice for log_softmax has been deprecated. Change the call to include dim=X as an argument.\n",
            "  return F.log_softmax(out)\n"
          ],
          "name": "stderr"
        }
      ]
    },
    {
      "cell_type": "markdown",
      "metadata": {
        "id": "u8OTHZEApoC_",
        "colab_type": "text"
      },
      "source": [
        "The outputs are energies for the 10 classes.\n",
        "Higher the energy for a class, the more the network\n",
        "thinks that the image is of the particular class.\n",
        "So, let's get the index of the highest energy:\n",
        "\n"
      ]
    },
    {
      "cell_type": "code",
      "metadata": {
        "id": "ABRIDW3lpoDA",
        "colab_type": "code",
        "outputId": "c8c3cc78-1f61-4611-e266-c5abcda61018",
        "colab": {
          "base_uri": "https://localhost:8080/",
          "height": 36
        }
      },
      "source": [
        "_, predicted = torch.max(outputs, 1)\n",
        "\n",
        "print('Predicted: ', ' '.join('%5s' % classes[predicted[j]]\n",
        "                              for j in range(4)))"
      ],
      "execution_count": 0,
      "outputs": [
        {
          "output_type": "stream",
          "text": [
            "Predicted:  n01443537 n01443537 n01443537 n01443537\n"
          ],
          "name": "stdout"
        }
      ]
    },
    {
      "cell_type": "markdown",
      "metadata": {
        "id": "2TV0TXL1poDC",
        "colab_type": "text"
      },
      "source": [
        "The results seem pretty good.\n",
        "\n",
        "Let us look at how the network performs on the whole dataset.\n",
        "\n"
      ]
    },
    {
      "cell_type": "code",
      "metadata": {
        "id": "y8NB4X1fsoaz",
        "colab_type": "code",
        "outputId": "29a4c383-011e-4311-83a3-b5c79a71e59b",
        "colab": {
          "base_uri": "https://localhost:8080/",
          "height": 93
        }
      },
      "source": [
        "print('Accuracy of the network on the 10000 test images: %.2f %%' % (\n",
        "    get_test_accuracy(model, testloader, device)))"
      ],
      "execution_count": 0,
      "outputs": [
        {
          "output_type": "stream",
          "text": [
            "/content/models/resnet18.py:67: UserWarning: Implicit dimension choice for log_softmax has been deprecated. Change the call to include dim=X as an argument.\n",
            "  return F.log_softmax(out)\n"
          ],
          "name": "stderr"
        },
        {
          "output_type": "stream",
          "text": [
            "Accuracy of the network on the 10000 test images: 57.63 %\n"
          ],
          "name": "stdout"
        }
      ]
    },
    {
      "cell_type": "markdown",
      "metadata": {
        "id": "eDdwPBl8poDF",
        "colab_type": "text"
      },
      "source": [
        "\n",
        "\n",
        "```\n",
        "`# This is formatted as code`\n",
        "```\n",
        "\n",
        "The accuracy 57.63 is far better than chance, which is 10% accuracy (randomly picking a class out of 10 classes).\n",
        "Seems like the network learnt good.\n",
        "\n",
        "Hmmm, what are the classes that performed well, and the classes that did\n",
        "not perform well:\n",
        "\n"
      ]
    },
    {
      "cell_type": "code",
      "metadata": {
        "id": "3useTIlZzvS2",
        "colab_type": "code",
        "outputId": "7e2878b2-dad1-43f6-b9a4-73000f1c5255",
        "colab": {
          "base_uri": "https://localhost:8080/",
          "height": 1000
        }
      },
      "source": [
        "class_correct,class_total = get_accuracy_per_class(model, testloader, device, num_classes=len(classes))\n",
        "\n",
        "for i in range(len(classes)):\n",
        "    if class_total[i] > 0.0:\n",
        "        print('Accuracy of %5s : %2d %%' % (\n",
        "            classes[i], 100 * class_correct[i] / class_total[i]))"
      ],
      "execution_count": 0,
      "outputs": [
        {
          "output_type": "stream",
          "text": [
            "/content/models/resnet18.py:67: UserWarning: Implicit dimension choice for log_softmax has been deprecated. Change the call to include dim=X as an argument.\n",
            "  return F.log_softmax(out)\n"
          ],
          "name": "stderr"
        },
        {
          "output_type": "stream",
          "text": [
            "Accuracy of n01443537 : 100 %\n",
            "Accuracy of n01629819 : 50 %\n",
            "Accuracy of n01644900 : 50 %\n",
            "Accuracy of n01698640 : 50 %\n",
            "Accuracy of n01768244 : 75 %\n",
            "Accuracy of n01770393 : 25 %\n",
            "Accuracy of n01774750 : 100 %\n",
            "Accuracy of n01784675 : 50 %\n",
            "Accuracy of n01882714 : 50 %\n",
            "Accuracy of n01910747 : 75 %\n",
            "Accuracy of n01944390 : 50 %\n",
            "Accuracy of n01950731 : 25 %\n",
            "Accuracy of n01983481 : 75 %\n",
            "Accuracy of n02002724 : 25 %\n",
            "Accuracy of n02056570 : 100 %\n",
            "Accuracy of n02074367 : 100 %\n",
            "Accuracy of n02085620 : 50 %\n",
            "Accuracy of n02099601 : 50 %\n",
            "Accuracy of n02099712 : 75 %\n",
            "Accuracy of n02113799 : 50 %\n",
            "Accuracy of n02123394 : 50 %\n",
            "Accuracy of n02124075 :  0 %\n",
            "Accuracy of n02129165 : 75 %\n",
            "Accuracy of n02132136 : 100 %\n",
            "Accuracy of n02190166 : 75 %\n",
            "Accuracy of n02206856 : 75 %\n",
            "Accuracy of n02231487 : 25 %\n",
            "Accuracy of n02233338 : 25 %\n",
            "Accuracy of n02268443 : 50 %\n",
            "Accuracy of n02279972 : 100 %\n",
            "Accuracy of n02281406 : 100 %\n",
            "Accuracy of n02321529 : 25 %\n",
            "Accuracy of n02395406 : 25 %\n",
            "Accuracy of n02403003 : 25 %\n",
            "Accuracy of n02415577 : 75 %\n",
            "Accuracy of n02423022 : 50 %\n",
            "Accuracy of n02480495 : 50 %\n",
            "Accuracy of n02481823 : 25 %\n",
            "Accuracy of n02504458 : 75 %\n",
            "Accuracy of n02509815 : 100 %\n",
            "Accuracy of n02669723 : 75 %\n",
            "Accuracy of n02730930 : 25 %\n",
            "Accuracy of n02769748 : 75 %\n",
            "Accuracy of n02791270 :  0 %\n",
            "Accuracy of n02793495 : 75 %\n",
            "Accuracy of n02802426 : 25 %\n",
            "Accuracy of n02808440 : 75 %\n",
            "Accuracy of n02814860 : 75 %\n",
            "Accuracy of n02815834 : 50 %\n",
            "Accuracy of n02837789 : 50 %\n",
            "Accuracy of n02843684 : 75 %\n",
            "Accuracy of n02883205 : 50 %\n",
            "Accuracy of n02906734 :  0 %\n",
            "Accuracy of n02909870 : 50 %\n",
            "Accuracy of n02927161 : 100 %\n",
            "Accuracy of n02948072 : 25 %\n",
            "Accuracy of n02963159 : 100 %\n",
            "Accuracy of n02977058 : 25 %\n",
            "Accuracy of n02999410 : 25 %\n",
            "Accuracy of n03014705 : 50 %\n",
            "Accuracy of n03026506 :  0 %\n",
            "Accuracy of n03042490 : 75 %\n",
            "Accuracy of n03089624 : 25 %\n",
            "Accuracy of n03100240 : 75 %\n",
            "Accuracy of n03160309 : 75 %\n",
            "Accuracy of n03179701 : 25 %\n",
            "Accuracy of n03250847 : 25 %\n",
            "Accuracy of n03255030 : 25 %\n",
            "Accuracy of n03388043 : 100 %\n",
            "Accuracy of n03393912 : 50 %\n",
            "Accuracy of n03404251 :  0 %\n",
            "Accuracy of n03444034 : 100 %\n",
            "Accuracy of n03447447 : 100 %\n",
            "Accuracy of n03584254 : 50 %\n",
            "Accuracy of n03599486 : 75 %\n",
            "Accuracy of n03637318 : 25 %\n",
            "Accuracy of n03649909 : 75 %\n",
            "Accuracy of n03670208 : 75 %\n",
            "Accuracy of n03706229 : 75 %\n",
            "Accuracy of n03763968 : 25 %\n",
            "Accuracy of n03796401 : 100 %\n",
            "Accuracy of n03804744 : 75 %\n",
            "Accuracy of n03837869 : 75 %\n",
            "Accuracy of n03838899 : 25 %\n",
            "Accuracy of n03891332 : 25 %\n",
            "Accuracy of n03902125 : 25 %\n",
            "Accuracy of n03937543 : 75 %\n",
            "Accuracy of n03970156 : 25 %\n",
            "Accuracy of n03977966 : 100 %\n",
            "Accuracy of n03980874 : 33 %\n",
            "Accuracy of n03983396 : 100 %\n",
            "Accuracy of n03992509 : 75 %\n",
            "Accuracy of n04023962 :  0 %\n",
            "Accuracy of n04067472 :  0 %\n",
            "Accuracy of n04074963 : 50 %\n",
            "Accuracy of n04099969 : 50 %\n",
            "Accuracy of n04133789 : 50 %\n",
            "Accuracy of n04146614 : 75 %\n",
            "Accuracy of n04179913 : 25 %\n",
            "Accuracy of n04251144 : 25 %\n",
            "Accuracy of n04259630 : 75 %\n",
            "Accuracy of n04275548 : 50 %\n",
            "Accuracy of n04285008 : 100 %\n",
            "Accuracy of n04328186 : 75 %\n",
            "Accuracy of n04356056 : 75 %\n",
            "Accuracy of n04371430 : 25 %\n",
            "Accuracy of n04376876 :  0 %\n",
            "Accuracy of n04399382 : 25 %\n",
            "Accuracy of n04417672 : 50 %\n",
            "Accuracy of n04465501 : 50 %\n",
            "Accuracy of n04487081 : 50 %\n",
            "Accuracy of n04501370 : 75 %\n",
            "Accuracy of n04532106 : 75 %\n",
            "Accuracy of n04532670 : 75 %\n",
            "Accuracy of n04560804 :  0 %\n",
            "Accuracy of n04562935 : 100 %\n",
            "Accuracy of n04597913 :  0 %\n",
            "Accuracy of n06596364 : 75 %\n",
            "Accuracy of n07583066 : 100 %\n",
            "Accuracy of n07614500 : 75 %\n",
            "Accuracy of n07695742 : 25 %\n",
            "Accuracy of n07715103 : 75 %\n",
            "Accuracy of n07720875 : 75 %\n",
            "Accuracy of n07747607 : 75 %\n",
            "Accuracy of n07749582 : 75 %\n",
            "Accuracy of n07768694 : 75 %\n",
            "Accuracy of n07871810 : 25 %\n",
            "Accuracy of n07875152 : 75 %\n",
            "Accuracy of n07920052 : 100 %\n",
            "Accuracy of n09246464 : 50 %\n",
            "Accuracy of n09332890 :  0 %\n",
            "Accuracy of n09428293 : 75 %\n"
          ],
          "name": "stdout"
        }
      ]
    },
    {
      "cell_type": "markdown",
      "metadata": {
        "id": "s6t8DDXI_lzd",
        "colab_type": "text"
      },
      "source": [
        "## Plot the performance metrics\n",
        "\n",
        "In this step, the following metrics are plotted\n",
        "\n",
        "i. Training Accuracy\n",
        "ii. Test Accuracy"
      ]
    },
    {
      "cell_type": "code",
      "metadata": {
        "id": "m0p72UjHrwws",
        "colab_type": "code",
        "outputId": "fbed9814-587c-410b-96ca-954f468afa78",
        "colab": {
          "base_uri": "https://localhost:8080/",
          "height": 334
        }
      },
      "source": [
        "def plot_accuracy(train_acc, test_acc):\t\n",
        "    fig, axs = plt.subplots(figsize=(5,5))\n",
        "    axs.plot(train_acc, label=\"Train Accuracy\")\n",
        "    axs.plot(test_acc, label=\"Test Accuracy\")\n",
        "    axs.legend()\n",
        "    plt.xlabel(\"Epoch\")\n",
        "    plt.ylabel(\"Accuracy\")\n",
        "    plt.show()\n",
        "plot_accuracy(train_acc, test_acc)\n"
      ],
      "execution_count": 0,
      "outputs": [
        {
          "output_type": "display_data",
          "data": {
            "image/png": "[encoded data removed]",
            "text/plain": [
              "<Figure size 360x360 with 1 Axes>"
            ]
          },
          "metadata": {
            "tags": [],
            "needs_background": "light"
          }
        }
      ]
    }
  ]
}